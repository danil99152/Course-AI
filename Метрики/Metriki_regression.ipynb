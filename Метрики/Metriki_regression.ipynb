{
 "cells": [
  {
   "cell_type": "markdown",
   "metadata": {
    "id": "aJ5XRevkKJSe"
   },
   "source": [
    "# Продолжение по задачам регрессии. Метрики"
   ]
  },
  {
   "cell_type": "markdown",
   "metadata": {
    "id": "DULRK2bDKSWn"
   },
   "source": [
    "На прошлой паре мы изучили как работает полиномиальной регрессии\n",
    "\n",
    "А сейчас давайте немного поговорим про оценку точности нашего обученного алгоритма"
   ]
  },
  {
   "cell_type": "markdown",
   "metadata": {
    "id": "G-KCxcBpy5qV"
   },
   "source": [
    "## Средняя квадратическая ошибка (MSE)\n"
   ]
  },
  {
   "cell_type": "markdown",
   "metadata": {
    "id": "5V_noVymzc5J"
   },
   "source": [
    "Ранее, в регрессии, которую мы писали (на чистом Python), мы использовали данный метод\n",
    "\n",
    "Это, один из самый простых и распространенный показатель для оценки регрессии. Определяется уравнением $MSE={{1}\\over{N}}{\\sum\\limits_{i=1}^N}(y_{i} - y'_{i})^2$\n",
    "\n",
    "MSE в основном измеряет среднеквадратичную ошибку наших прогнозов. Для каждой точки вычисляется квадратная разница между целевыми значениями функции и прогнозируемыми значениям, а затем усредняются эти значения.\n",
    "\n",
    "Чем выше это значение, тем хуже модель.\n",
    "Он никогда не бывает отрицательным, поскольку мы возводим в квадрат, но для идеальной модели это будет ноль.\n",
    "\n",
    "\n",
    "\n",
    "\n",
    "**Достоинства:**\n",
    "\n",
    "*   Каждая ошибка имеет свой вес, и большие расхождения более заметны за счет\n",
    "возведения в степень. Способ ее расчета позволяет усиливать штраф за большие расхождения в прогнозах.\n",
    "\n",
    "**Недостатки:**\n",
    "\n",
    "*   Менее удобна для понимания, потому что измеряется в квадратных единицах. Не поможет, если нужно сравнить две модели, предсказывающие одно и тоже по разным признакам\n",
    "\n",
    "*   Если мы сделаем один очень плохой прогноз, возведение в квадрат сделает ошибку еще хуже, и это может исказить метрику в сторону переоценки плохости модели. Это особенно проблематичное поведение, если у нас есть зашумленные данные (то есть данные, которые по какой-либо причине не совсем надежны) - даже в «идеальной» модели может быть высокий MSE в этой ситуации, поэтому становится трудно судить, насколько хорошо модель выполняет. С другой стороны, если все ошибки малы или, скорее, меньше 1, то ощущается противоположный эффект: мы можем недооценивать недостатки модели.\n",
    "\n"
   ]
  },
  {
   "cell_type": "markdown",
   "metadata": {
    "id": "TXds64YLzc81"
   },
   "source": [
    "\n",
    "\n",
    "---\n",
    "\n"
   ]
  },
  {
   "cell_type": "markdown",
   "metadata": {
    "id": "mjoaxC4F5fJm"
   },
   "source": [
    "## Среднеквадратическая ошибка (RMSE)\n"
   ]
  },
  {
   "cell_type": "markdown",
   "metadata": {
    "id": "O0II9R5X5fJw"
   },
   "source": [
    "**RMSE** - это квадратный корень из **MSE**. Квадратный корень введен, чтобы масштаб ошибок был таким же, как масштаб целей.\n",
    "\n",
    "Определяется уравнением $RMSE=\\sqrt{{{1}\\over{N}}{\\sum\\limits_{i=1}^N}(y_{i} - y'_{i})^2}=\\sqrt{MSE}$\n",
    "\n",
    "\n",
    "\n",
    "**Достоинства:**\n",
    "\n",
    "*   Имеет те же преимущества, что и **MSE**, но более удобна для понимания — погрешность измеряется в тех же единицах, что и значение прогнозирования\n",
    "\n",
    "**Недостатки:**\n",
    "\n",
    "*   Менее удобна для понимания, потому что измеряется в квадратных единицах. Не поможет, если нужно сравнить две модели, предсказывающие одно и тоже по разным признакам\n",
    "\n",
    "*   Если мы сделаем один очень плохой прогноз, возведение в квадрат сделает ошибку еще хуже, и это может исказить метрику в сторону переоценки плохости модели. Это особенно проблематичное поведение, если у нас есть зашумленные данные (то есть данные, которые по какой-либо причине не совсем надежны) - даже в «идеальной» модели может быть высокий MSE в этой ситуации, поэтому становится трудно судить, насколько хорошо модель выполняет. С другой стороны, если все ошибки малы или, скорее, меньше 1, то ощущается противоположный эффект: мы можем недооценивать недостатки модели.\n",
    "\n"
   ]
  },
  {
   "cell_type": "markdown",
   "metadata": {
    "id": "G0aNpYAR65gh"
   },
   "source": [
    "\n",
    "\n",
    "---\n",
    "\n"
   ]
  },
  {
   "cell_type": "markdown",
   "metadata": {
    "id": "SwHLoZyf7Efa"
   },
   "source": [
    "## Средняя абсолютная ошибка (MAE)\n"
   ]
  },
  {
   "cell_type": "markdown",
   "metadata": {
    "id": "3JihvDD_7Efj"
   },
   "source": [
    "В **MAE** ошибка рассчитывается как среднее абсолютных разностей между целевыми значениями функции и прогнозируемыми значениям.\n",
    "\n",
    "Помогает оценить абсолютную ошибку — то, насколько число о прогнозах тех же единицах, что и разошлось с реальным числом\n",
    "\n",
    "Определяется уравнением $MAE={{1}\\over{N}}{\\sum\\limits_{i=1}^N}|y_{i} - y'_{i}|$\n",
    "\n",
    "\n",
    "**MAE** - это линейная оценка, которая означает, что все индивидуальные различия взвешены одинаково  средним. Например, разница между 10 и 0 будет вдвое больше разницы между 5 и 0. \n",
    "\n",
    "**MAE** широко используется в финансах, где ошибка в 10 долларов обычно в два раза хуже, чем ошибка в 5 долларов. С другой стороны, метрика **MSE** считает, что ошибка в 10 долларов в четыре раза хуже, чем ошибка в 5 долларов. **MAE** легче обосновать, чем **MSE**.\n",
    "\n",
    "\n",
    "**Достоинства:**\n",
    "\n",
    "*   Удобно анализировать — погрешность измеряется в тех же значениях, что и целевые значения.\n",
    "\n",
    "\n",
    "**Недостатки:**\n",
    "\n",
    "*    Одинаково оштрафует алгоритм за расхождение — Например, в 2 и 200 единиц. Не поможет, если нужно будет сравнить две модели, предсказывающие одно и то же по разным признакам.\n",
    "\n"
   ]
  },
  {
   "cell_type": "markdown",
   "metadata": {
    "id": "gkqAm8frCeZU"
   },
   "source": [
    "\n",
    "\n",
    "---\n",
    "\n"
   ]
  },
  {
   "cell_type": "markdown",
   "metadata": {
    "id": "__EfV5PJEOMT"
   },
   "source": [
    "## R в квадрате (R²)\n"
   ]
  },
  {
   "cell_type": "markdown",
   "metadata": {
    "id": "fVoAt_KpEJF_"
   },
   "source": [
    "Коэффициент детерминации, или **R²** (иногда читаемый как R-два), является еще одним показателем, который мы можем использовать для оценки модели, и он тесно связан с MSE, но имеет преимущество в том, что не имеет значения, являются ли выходные значения очень большими или очень маленькими, **R²** всегда будет между -∞ и 1.\n",
    "\n",
    "**Этот метод мы использовали, когда писали регрессию через библиотеку Sklearn**\n",
    "\n",
    "\n",
    "Определяется уравнением $R^2=1-{{MSE(model)}\\over{MSE(baseline)}}$\n",
    "\n",
    "**MSE**(model) - это средняя квадратическая ошибка модели ( считается так же, кам мы и описывали ранее )\n",
    "\n",
    "**MSE**(baseline) - это средняя квадратическая ошибка базовой линии определяется как: $MSE={{1}\\over{N}}{\\sum\\limits_{i=1}^N}(y_{i} - y'_{ср})^2$,  где $ y'_{ср}$  - это среднее значение среди всех прогнозируемых значений (скаляр)\n",
    "\n",
    "В заключение, **R²** - это соотношение между тем, насколько хороша наша модель, и тем, насколько хороша модель наивного среднего.\n",
    "\n",
    "Чем ближе значение к 1, тем точнее модель.\n",
    "Когда **R²** отрицательно, это означает, что модель хуже, чем предсказание среднего значения. Потому точность в данном случае от 0 до 1 можно воспринимать, как от 0 до 100 кол-ва данных, сколько модель смогла объяснить\n",
    "\n",
    "**Достоинства:**\n",
    "\n",
    "*   С ней легко объяснить качество модели (если результат прогнозов от 0.5 (50%) и выше, то значит - все хорошо)\n",
    "\n",
    "\n",
    "**Недостатки:**\n",
    "\n",
    "*    Одинаково оштрафует алгоритм за расхождение — Например, в 2 и 200 единиц. Не поможет, если нужно будет сравнить две модели, предсказывающие одно и то же по разным признакам.\n",
    "\n"
   ]
  },
  {
   "cell_type": "markdown",
   "metadata": {
    "id": "tRcgVU5LEJGK"
   },
   "source": [
    "\n",
    "\n",
    "---\n",
    "\n"
   ]
  },
  {
   "cell_type": "markdown",
   "metadata": {
    "id": "0PG_cPdQm1nx"
   },
   "source": [
    "## Вспомним нашу задачу:"
   ]
  },
  {
   "cell_type": "markdown",
   "metadata": {
    "id": "RLoRoCcWnVqd"
   },
   "source": [
    "Представим, что мы внезапно очутились в Америке. И мы не знаем, как переводить из градусов по шкале Цельсия в градусы по шкале Фаренгейта (Нам очень это нужно, т.к. мы работаем продавцом мороженного, нам надо знать, в какие дни будет больший ажиотаж и мы привыкли к шкале Цельсия) Мы не знаем формулы перевода, но у нас есть сосед, который подсказываем нам температуру и в Цельсиях и в Фаренгейтах, но он не приходит каждый день... Нам надо научить компьютер переводить из Цельсия в Фаренгейты (Имея лишь готовые пары температур в Цельсии и в Фаренгейтах)\n",
    "\n",
    "На ввод поступает температура в шкале Фаренгейта\n",
    "\n",
    "На выходе выводится температура в шкале Цельсия\n",
    "\n",
    "![image.png](data:image/png;base64,iVBORw0KGgoAAAANSUhEUgAAAywAAABLCAYAAACSlwPiAAAbGUlEQVR4Ae2dz0sjyfvH91/JIZCckpPwOTjMJXhwWPisDIxfWFiZQ4Y9KAsfmT0MLqy4EJiDBw+C4GEgByGwSGAZBoZBEMeDksOIsEhg0AFBQYgwkIPw/lLV3Ul1pzuptJ1Od/V7YDB2KlX1vJ63T+epX/0D+I8EMkjghx9+yKDVNDlqAtRR1ERZ3zgEqL9xaLHsNAlQq9Okb0bb/NZmhh9pxZgEGDzHBMbivgSoI18svBgTAeovJtBs5tEEqNVHI8x8BUxYMi+BbAJg8Mym36O2mjqKmijrG4cA9TcOLZadJgFqdZr0zWibCYsZfqQVYxJg8BwTGIv7EqCOfLHwYkwEqL+YQLOZRxOgVh+NMPMVMGHJvASyCYDBM5t+j9pq6ihqoqxvHALU3zi0WHaaBKjVadI3o20mLGb4kVaMSYDBc0xgLO5LgDryxcKLMRGg/mICzWYeTYBafTTCzFfAhCXzEsgmAAbPbPo9aqupo6iJsr5xCFB/49Bi2WkSoFanSd+MtpmwmOFHWjEmAQbPMYGxuC8B6sgXCy/GRID6iwk0m3k0AWr10QgzXwETlsxLIJsAGDyz6feoraaOoibK+sYhQP2NQ4tlp0mAWp0mfTPaZsJihh9pxZgEGDzHBMbivgSoI18svBgTAeovJtBs5tEEqNVHI8x8BUxYMi+BbAJg8Mym36O2mjqKmijrG4cA9TcOLZadJgFqdZr0zWibCYsZfqQVYxJg8BwTGIv7EqCOfLHwYkwEqL+YQLOZRxOgVh+NMPMVDE1YTmtF5PLq/zJmflzG1uFt5sERQLoJjBM8L5vrWJgty7+FwmwVGx+v0m08ex8ZgXF05Nvowy1O6+tY2Gr5vq2jPZ0yvpXzYuoJhNdfFxcNNa4tYq3RRjeQyD3e/yZiYA2ngWX4BgkEE9DW6sMtjnZWlXuunzZvsfdS/W7qvKY+gz2Q/ndGJyw/13F2d4+O+H/dxtHOMkr5MtYOg0Nb+rHQAtMJ6AbP7uE6Cvl5rDXbuLm7xUVzHRXq33R5aNunq6OBCrtX8qb8rGTfaGuDCYuO9nTKDLTNC8YQCKu/m7+rvnFt5Z97XzbdAxEHhVb5hdAXEC+OJKCn1S5Oa/PIzb3Bu5MrdO5ucdZ4I++5bm22sJEv4tXuMY4O1f9tdEb2hAXSSmB0wvKygRuXdVfY+7mI3F/Hrqv8hQTSREAveIpRxSIKni+Tp7Uycr99YGBMk8Mn1Fc9HQ02LmavS89XsXN4jHcinno0BuhoT6fMYNu8Yg6BcPq7xX518B5+9FcRuWrTc78H8P0YG08r2KitM2ExRzqxW6Kl1ZsmlgYGBLv49IdHm90DrOWL2DiJ3Qw2OEUCIRIWeyrujwNr+vjLNir5CjY+92dcrNGbKva+OZa5p59Lc8vY+uxdVmZlzO4laKogRaJURuF3flF0qPJneAJawROWJt0jO0Dnn1XeuMOjN+qTejoaNLnbcUay7Xg6kLDoaE+nzGDbvGIOgXD6sxMWj+bkEnCfhOVsex4FMUBzUmPcM0c6sVuipdWvB9jarOPUM01ysTuPnDp4ft3AUr6KvevYzWCDUyQwXsLy0MXlR7EkZh5vW06C0sXpppjC28bZgxiNOcBaqYiFd+2eWSLg5UqLeHuoTvHNY+PEqQNA5wNWXFN8u3jlyqC7ONtdxUr9fMg6216TfEECQwloBc+gURzeuIeyzdKbWjoaCiQgYdHRnk6ZoW3zzbQTCKs/MehSKFWx17buwd12A0ulMryDM2jXseB8MWTcS7tcptr/sFoVs837y0U82T7v9/98G0/yFSxUF1ESSxVLs1j4o4lL8R2U/4wlMDphcW26F2tYZ7Hyt2fTsZwyLmKpcQWZnDjJi8B218QrMcV3oCQnAM62Ksg93caZg1ZmzOqMijV6yCk/BxB/RklAK3gOaNLuAW/cUboi1XVp6WiohQEJi472dMoMbZtvpp1AeP11cbGz6DpUZ6nuua8/XMmNzb3BR8a9tMtlqv0Pq1W5f6q0ivd3Svdbu6jM/oTX9QOcfjnHaXMTC6UiCs7KH6UoX5pDYHTCom66F5uOPwphlLH0t3tJlyWqstzI1599AfBZTCOv4r1nig8yQ1am9AZuvkxYzJFZ8izRCp4DmrTt4I07eQ6dUo+0dDS0b0xYhuLhm0MJhNVf96SGirLq4aJZw7OSe9WDnIWZ28SpM9bIuDfUF3xzOIFQWv1mzfx5v2/6tdT9+AY5ZzbQrwCvpZ7A6IRFXTdom3ux+5N7dkRcfzjHznwRuRd1XCpYbhpV/3Wv8sugkrC063jmEhsTFgUjX0ZMQCt4cslNxNTNq05LR0PNDkhYdLSnU2Zo23wz7QTC6e8cW0+LWPDMqFzWF/v3dbm02703FUxY0i6XqfZ/bK1+b2FjrohKraW3DSBogHGqVrPxKAmESlj8khC50f7pPColz/IvOcOyjk/OKI3T+9YmCkqCImZoxJGJR701iExYHFT8GT0BveBpadC7rltoPVfa5PMIondL6mrU09EwswISloADH9zaoz6Hkc3Ce6H0F/TFTiYkVezfANY93nm2hc9Pz4b9LLCmjY8jMJZWRyQr4tCSzndPf4J07SnGX9NLIFTCMrD/5O4DVuSGvVtcvBOjNDUcOWLS2sPSxaffi8i51h8yYUmvrJLfc73gaR8b++exMsLTxdGfPNY4+R6Op4d6OhrWl6CERUd7OmWGtc330k4glP4eWtgoFfGq6ZxUZ1GQSYozENO1n73mPINN/PwoBhXX8Um8du7vaQfI/sdGQFurYu9UtYxCtRG4iV4+WuB3+6Ra2wLrmVTKqp3YLGNDcREYnbC49rBc4bRuPcSnv6ZQnJFdRu55HRdiduThHFtiGm+zP43nf0rYjPXwyYcubg5rqORnsXFwaz2gUgZJ65zttY/36MjZGZ4SFpcostCObvDstjblqXivG+fKgyMr7hPusgCMNvoS0NWR74flxaCEBdDRnk6Z4Lb5TtoJhNWf+558j8tDa9NyRT2JyQuHS8K8RPj7GAT0tGo/OPI/b/D+22DS3HVW4JyLx2nM4NVOC5d397j50sDrOW66H8MdqSw6OmHxnBImnqGy0Wz3Rpy7n2t4kp/HlnLinPVUXPXakOewyCDoM+WstLvUEBv8+RyWVCosoZ3WC55W5y8/1rA0W5Yn6hRmq9j46DlNJ6E2sluTJzCOjvx7E5ywiPI62tMp4982r6adQGj9PdzjrLGOhV5cW8Ra4xwd5wuhHxgmLH5UeE2TgJ5WrZU13ufxOb+rp8Z2zhtYezGLgviuODOPV1vHuBmmX81+slhyCQxNWGLptr1u1v8BQJZ4rYQllt6wkYwQ0AueGYFBM0MToI5Co+MHIyBA/UUAkVXEQoBajQWz0Y0wYTHavTQuiACDZxAZXh+HAHU0Di2WjZoA9Rc1UdY3KQLU6qTIZqfe6Scs2WFNSxNEgMEzQc5IcVeooxQ7z4CuU38GODEjJlCrGXH0BM1kwjJBuKw6uQQYPJPrmzT1jDpKk7fM6yv1Z55PTbWIWjXVs/HZxYQlPtZsKUEEGDwT5IwUd4U6SrHzDOg69WeAEzNiArWaEUdP0EwmLBOEy6qTS4DBM7m+SVPPqKM0ecu8vlJ/5vnUVIuoVVM9G59dTFjiY82WEkSAwTNBzkhxV6ijFDvPgK5TfwY4MSMmUKsZcfQEzWTCMkG4rDq5BBg8k+ubNPWMOkqTt8zrK/Vnnk9NtYhaNdWz8dnFhCU+1mwpQQQYPBPkjBR3hTpKsfMM6Dr1Z4ATM2ICtZoRR0/QTCYsE4TLqpNLgMEzub5JU8+oozR5y7y+Un/m+dRUi6hVUz0bn11MWOJjzZYSRIDBM0HOSHFXqKMUO8+ArlN/BjgxIyZQqxlx9ATNZMIyQbisOrkEGDyT65s09Yw6SpO3zOsr9WeeT021iFo11bPx2cWEJT7WbClBBBg8E+SMFHeFOkqx8wzoOvVngBMzYgK1mhFHT9BMJiwThMuqk0uAwTO5vklTz6ijNHnLvL5Sf+b51FSLqFVTPRufXUxY4mPNlhJEgMEzQc5IcVeooxQ7z4CuU38GODEjJlCrGXH0BM38QYiI/8mAGqAGqAFqgBqgBqgBaoAaoAYSqYEJJkOsmgQSS0D8MfIfCTyWAHX0WIL8/GMIUH+PocfPxkmAWo2Ttplt8VubmX6lVSMIMHiOAMS3tQhQR1qYWGhCBKi/CYFltZEToFYjR5q5CpmwZM7lNFgQYPCkDqIgQB1FQZF1hCVA/YUlx8/FTYBajZu4ee0xYTHPp7RIgwCDpwYkFhlJgDoaiYgFJkiA+psgXFYdKQFqNVKcmayMCUsm3U6jGTypgSgIUEdRUGQdYQlQf2HJ8XNxE6BW4yZuXntMWMzzKS3SIMDgqQGJRUYSoI5GImKBCRKg/iYIl1VHSoBajRRnJitjwpJJt9NoBk9qIAoC1FEUFFlHWALUX1hy/FzcBKjVuImb1x4TFvN8Sos0CDB4akBikZEEqKORiFhgggSovwnCZdWREqBWI8WZycqYsGTS7TSawZMaiIIAdRQFRdYRlgD1F5YcPxc3AWo1buLmtceExTyf0iINAgyeGpBYZCQB6mgkIhaYIAHqb4JwWXWkBKjVSHFmsjImLJl0O41m8KQGoiBAHUVBkXWEJUD9hSXHz8VNgFqNm7h57TFhMc+ntEiDAIOnBiQWGUmAOhqJiAUmSID6myBcVh0pAWo1UpyZrIwJSybdTqMZPKmBKAhQR1FQZB1hCVB/Ycnxc3EToFbjJm5ee0MTltNaEbm8+r+MmR+XsXV4ax4JWpQpAlEEz077AFvVVexfq+husfdS/ZvxvH7ZwI1aXH19c4ytX+dRkn9zM6j8uo2jwMLqB/l6WgS0dfRwi6OdVSzMWHoozS1j4+NVv9snNU+sdetm46RftP+qhQ1XfHZ/Jldr9Yp2/21g7cUsCqJ8aRYLfzRw8b33Nl+klIC2/rz2OXqcLUvdFWYXsdZoo+sq18VFYx0LQ8u4PiB/0dGaLPN8pt92U/lbGKySVwwgEFqrALr/NrFRVeLX/+o47YyAonM/FWWcemfm8Wqnhc7DiHr59tQIjE5Yfq7j7O4eHfH/uo2jnWWU8mWsHbpD29QsYMMkEILAY4Jn50sTG79YN9tcvoo9V8ICdDv234vzdyN/trA1X8RCPeDG3G3h7VwRheo2Tr/eo/O1ha1qGbm5bZwxgIbwcDwf0dNRF6eb88jNvcHel1t07m5x0VxHRY2jD10rxro0c4/L5ipypXUcBYTbrqe8jNPfmlhR675uYqlUROXPJi6u73HTbmJNaO23Dxh1z4+HIlsJS0BPf97auzitWXp8d3Il9XjWeCP1uPLPfa/wzd9VFPLzWGu2caNoVi3TK+y80NHatwaWSmUsbB7jUrdep37+TC2BcFoFIDXl6EW5Nz6v4zKIhs799HsLG3NFVH5v4Oz6Hpcn21ac3D4PqpXXp0xgdMIyMCJ8hb2fi8j9dTzlrrN5EghPIHzwFDfbWSzVmjj7Zx1+CYtvr75s40lpFe/vfN8FWpso5H/B3jfl/W8N/F++jLf9gXLlTb5MAgEtHXU+YCVfxNqBmnV08emPInJ/HHhGtVWr7rG/XERlzBtop7nsSnTFF89cvoYjNfH9LGZ0qtjnDJ4KPHWvtfTnteqmiSU1oZXv23qsNu0Z4FvsVwfv80d/FZHrlfFWDOho7bRWRm656UqWL94tIvd0G2eDVfKKIQRCaRXA2XYFuf/WcaFyaNfxLP8T3rXVi8prjfvpTaNqaU6Ji92DdRTyq3jPkRwFZnJehkhY7CUvvRut/buy/MBrnhRGvoZT8cbDLfZ/KyP3soFLRyh2Nvzkr+P+zVudzgtYwmDV61kGoSRY3c81lPLz2PnX2yP+nnUCYYMnuvf9KWO5jGdwhmWQbRdHf5bxZGvIyI0MsJ66rhvyiwUTlkGiSbmipSN79qTrxDvZefsL4rBZjq91LOSXsR+U5PpCuMK750W8arpHykXCIuOv8xlbu0xYHCDp/KmlP69pXw+wtTm4pOZid17el60c1k5YPPd1uUxcI2EJ1pr1feGZ95vm+Tae+MxWe7vO39NLIJRWhbnf79HpqIM9AGTCUkHgLVXjfiq13Psea3O1B5f8l+Cml70pPR8vYXno4vKjWMowj7ctR0BjJiyCnD3F50wty9GV0jo+OWuq7z5gRSxhsKfqOl+P8fZFGYWqkuT0Mu8a9g+PcXR4jP2/flICrmjnA9b+V8Mnz5IdU5xHO8ITCB081SZ1Exb5xXMR776qH/a8fjjHlpierh1bCdHDPY7ksg0uCfOQStSvYXXUOdnGgiuOes2yktzCn8ogjreIz+/dw3UUvEvIZDwtY2mvDZk0ddvYq5a5JMyHX9ouhdXfoJ3WbN4TZTav888qCqUq9trWvb7btpZyOfftwToAjNRaQMLCwRlfnCZdjEyr3Tb2f6ugMCRxhsb91DdhgbUvcOlv7tNOovZGJywDmzpnsfK3ug4/RMIC4HJPTMfVcPpNJCdlqEHwbKuC3PM6LtQRybsmXuWLrnJScMqMipxxUX5PInD2KRkEIgmemgmL1LNnCYQvhZsPeP0fZcZwvoajsUbXfWvlxQkSGE9H6ib5Wbz+MOSmKONdBVtfxum8/aXTZ9ix++8uFtRYXq33Z7jHaYJlE0VgPP0Fd10uhRlYstrFxc6i6zCIpaA9eErVo7TmtyRMrIZ4ki+CI9sKSMNePlarrhU1L3Zx4YyZB3EacT+V9YlliOr3TLG/Kl/EUmNIbA5qj9cnTmB0wqJuuhcb5D5uYqFURj8DtRMW9WYo1/gf9G6IltA8SxIe2nLpQqEkZk6cdbPCXmuPjDrSY1G4x/vfilBPvmHCMnF9GNvAY4OnBKOTsHSPsVbSOKTi4UqOevdnFVvYWZ4ZmFU01iEpNWxcHVmb5K9wWhebnOexceJ/172sL8pBm8BNpX68gmby5ObS/qZVsel+48cyKrVWfwmuX328lngC4+rP1yB7E3z/nm6V6p7UUCkt4u2htTH/olnDs1KwZuWndLR2vi03+Pc23YvvFDPlwT18vp3lxbQSeLRWxXLsO3FoyIHvihsXF537qWclz+VJHa9/FDosYuOzqzb+khACoxMWnxmLi92flA1ydsLy50HvlJubLw2sPC2ismndEH0TFgCdD6ty9GbtUKVhT8n5ZLgyQemtqbXXgPd+B2Q7Pv1Va+drEhAEdIKn1FsvEffsLxGVaCQscgO0dxTHxwVi+cXAaVAy2XHPKvp8lJemSEBHR0HdkyPNfvFKLGd46t6HElSHej1oJk9uWvWeqCOTmyFrwNWK+TqxBB6jP2mUc1LSQPJqadB7qqFMpIdsjtfV2s3nbSzJ45LLmKlu4+hwF8+42TmxOouiYzpaHXnPdTpiLyEMmpHTvZ+qx2uXnq9jr9XEWp5x0cGctJ+hEhZ3AuK/JOxy7xfkSptyo6e7vI3A3mhfmZv3LP+yZlgGNuXBuwmwjXf/LeL/9vrL05iwJE1eye2PTvCUm/2UY2Pdm6Y1EhZ7FtF70/ej4p0ttMpYf1uFTR4T5scsCde0dOS76d4eYPFuhhfPHBAn1Xj3oYwy9vtBwEyef3wG12qPIpqK97X0F2RJYLIi9n9aS2MGvhDagzT+hzWE15oc2PGeBBXUb15PJQEtrYoN9p57rnxMgLO/uWd58MC2KBL6fipO88yv45P/xHevdb6YDoFQCYscyeuNsvgHKZmw2GX8EpazbXEO/DbOOuJGW8SSknho7WH5V4zIuI+1Y8IyHRGlsVWt4DnKsBEzLHIDtOYpT1K73pmYhxY2xN8GNwCO8sTU3tfSkTyeenA/ipxhcS2HFWZYp3wNPVHOx9reyLe6Htsu57dnwPpCyiOzfVCm6pKW/vwsspfMeA+y6RW1Y4962px4T8YpeyCyV1Z5EUprduLEfQMKSANfhtWqPErbuwd0xCENoe6n9t/Ek4HZRgOdkVKTRicsrj0sztprnz0sniVhr8WJR/aJI1I86khiWxzXWe49l8A5jaT3xHDP2sLeKWE/Wxvxux3rlJvcyzoulGz87N0vyMn+2ukxTwlLqSwn3+2wwdPVs6EJi7UBOvCUp+sDbPxvHe+dE+y8mr8+x97v88gNbIR19YC/TJmAno7E7LB4COg69tvqgyNnBh/AK0f4gk6U6+KsvoqV3XP33hN7CVngTJ5rz4B48Jp16iIfSjpl8UTQvJ7+vA3ZD478zxu8/+Ye0Raj285MshxU7O1hucflodi/2r+vAz561NWamHW8buO0uYtX8oG57hNAvT3m7+knEE6rQLe1Kfc8LW23cCm+79kPVS7Y3wclmbD3Uzn7fYWzjw1svBAxuobTgdmc9LM3xYLRCUtvDb91elFpbhkbzbZyw7RnWNRyYtP91jFu7NE+V8IistiXnqcsOxvw1WcSBD6Hxac9tW352trgz+ewmCLT6O0IGzxdPRmWsMikfHBUvff5f3flpmvXgU7Xx9j6dR4lqeEZVH7dxpGT0PQ+yBdJIqCto4dbHG0tozLTj6Nbn70n0Yh9eYMP1evbe4/3vw8eR2w97Gz481o65w2svZiVG0pz9nOtzvhwtD7alL7S1p/LPvW0OuVUQvs+2lsG9nCPs8Y6FuRekyIKs4tYa5z3n0MFfz1qaU3GzjJmfhTfJ9Q6XR3lLwYRCKdVC4Cfpi7UxCLs/dRe+lia+wUrO/3vrAZhN8qUoQlLMi31X4Lm9NWVHDkX+ZMEPAQeEzw9VfHXDBOgjjLs/ASYTv0lwAnsghYBalULEwsNIcCEZQgcvmUuAQZPc30bp2XUUZy02ZaXAPXnJcLfk0qAWk2qZ9LTrxQmLOmBy54mlwCDZ3J9k6aeUUdp8pZ5faX+zPOpqRZRq6Z6Nj67mLDEx5otJYgAg2eCnJHirlBHKXaeAV2n/gxwYkZMoFYz4ugJmsmEZYJwWXVyCTB4Jtc3aeoZdZQmb5nXV+rPPJ+aahG1aqpn47OLCUt8rNlSgggweCbIGSnuCnWUYucZ0HXqzwAnZsQEajUjjp6gmUxYJgiXVSeXAINncn2Tpp5RR2nylnl9pf7M86mpFlGrpno2PruYsMTHmi0liACDZ4KckeKuUEcpdp4BXaf+DHBiRkygVjPi6AmayYRlgnBZdXIJMHgm1zdp6hl1lCZvmddX6s88n5pqEbVqqmfjs4sJS3ys2VKCCDB4JsgZKe4KdZRi5xnQderPACdmxARqNSOOnqCZ/w/iBD7CS3fi0AAAAABJRU5ErkJggg==)\n",
    "\n"
   ]
  },
  {
   "cell_type": "markdown",
   "metadata": {
    "id": "56dU7uUjtXEO"
   },
   "source": [
    "Итоговая формула\n",
    "\n",
    "![image.png](data:image/png;base64,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)"
   ]
  },
  {
   "cell_type": "code",
   "execution_count": null,
   "metadata": {
    "colab": {
     "base_uri": "https://localhost:8080/"
    },
    "executionInfo": {
     "elapsed": 590,
     "status": "ok",
     "timestamp": 1611656130551,
     "user": {
      "displayName": "Юрий Юров",
      "photoUrl": "https://lh3.googleusercontent.com/a-/AOh14Ghf61gKMYkxwMvGdpRz-IQVd0qOd0VryRY9DzGc=s64",
      "userId": "14847658770947017811"
     },
     "user_tz": -240
    },
    "id": "YOxsZR4iLWcw",
    "outputId": "882957ae-7037-4a93-9289-4898de81f13e"
   },
   "outputs": [
    {
     "name": "stdout",
     "output_type": "stream",
     "text": [
      "Предсказание: [-17.8   37.78  28.89  -3.89]\n",
      "Точность модели в R^2: 0.9999999336737742\n"
     ]
    }
   ],
   "source": [
    "from sklearn.linear_model import LinearRegression\n",
    "import numpy as np\n",
    "X = np.array([0,100,84,25]).reshape((-1, 1))\n",
    "Y = np.array([-17.8,37.78,28.89,-3.89])\n",
    "\n",
    "model = LinearRegression() #берем нашу модель\n",
    "model.fit(X, Y) # обучаем нашу модель\n",
    "accuracy = model.score(X, Y)\n",
    "\n",
    "print('Предсказание:', model.predict(X))\n",
    "print('Точность модели в R^2:', accuracy)"
   ]
  },
  {
   "cell_type": "markdown",
   "metadata": {
    "id": "pgN1yGSnK-mW"
   },
   "source": [
    "По умолчанию в sklearn.linear_model, когда мы вызываем метод score, используется метрика, $R^2$"
   ]
  },
  {
   "cell_type": "markdown",
   "metadata": {
    "id": "1o-i4bXMMRK2"
   },
   "source": [
    "Если же мы хотим измерить точность в других метриках, то мы можем сделать так:"
   ]
  },
  {
   "cell_type": "code",
   "execution_count": null,
   "metadata": {
    "colab": {
     "base_uri": "https://localhost:8080/"
    },
    "executionInfo": {
     "elapsed": 560,
     "status": "ok",
     "timestamp": 1611656635758,
     "user": {
      "displayName": "Юрий Юров",
      "photoUrl": "https://lh3.googleusercontent.com/a-/AOh14Ghf61gKMYkxwMvGdpRz-IQVd0qOd0VryRY9DzGc=s64",
      "userId": "14847658770947017811"
     },
     "user_tz": -240
    },
    "id": "UD3MVkecMjHC",
    "outputId": "0e2b9f19-43de-4117-f774-b8d35f757ff2"
   },
   "outputs": [
    {
     "name": "stdout",
     "output_type": "stream",
     "text": [
      "MSE: 3.462448692822197e-05\n",
      "RMSE: 0.0058842575511462766\n",
      "MAE: 0.004630403431567065\n",
      "R^2: 0.9999999336737742\n"
     ]
    }
   ],
   "source": [
    "import sklearn.metrics as metrics #импортируем метрики\n",
    "\n",
    "y_true = Y\n",
    "y_pred= model.predict(X)\n",
    "\n",
    "print(\"Средняя квадратическая ошибка (MSE):\", metrics.mean_squared_error(y_true, y_pred, squared=True))\n",
    "print(\"Среднеквадратическая ошибка (RMSE):\", metrics.mean_squared_error(y_true, y_pred, squared=False))\n",
    "print(\"Средняя абсолютная ошибка (MAE):\", metrics.mean_absolute_error(y_true, y_pred))\n",
    "print(\"R^2:\", metrics.r2_score(y_true, y_pred))"
   ]
  }
 ],
 "metadata": {
  "colab": {
   "collapsed_sections": [],
   "name": "На урок.ipynb",
   "provenance": []
  },
  "kernelspec": {
   "display_name": "Python 3",
   "language": "python",
   "name": "python3"
  },
  "language_info": {
   "codemirror_mode": {
    "name": "ipython",
    "version": 3
   },
   "file_extension": ".py",
   "mimetype": "text/x-python",
   "name": "python",
   "nbconvert_exporter": "python",
   "pygments_lexer": "ipython3",
   "version": "3.8.5"
  },
  "name": "seminar1_python_intro_tools.ipynb"
 },
 "nbformat": 4,
 "nbformat_minor": 1
}
