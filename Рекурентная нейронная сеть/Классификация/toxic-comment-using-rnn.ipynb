{
 "cells": [
  {
   "cell_type": "code",
   "execution_count": 1,
   "metadata": {
    "execution": {
     "iopub.execute_input": "2021-03-09T20:10:33.659939Z",
     "iopub.status.busy": "2021-03-09T20:10:33.659274Z",
     "iopub.status.idle": "2021-03-09T20:10:33.666407Z",
     "shell.execute_reply": "2021-03-09T20:10:33.665502Z"
    },
    "papermill": {
     "duration": 0.027971,
     "end_time": "2021-03-09T20:10:33.666686",
     "exception": false,
     "start_time": "2021-03-09T20:10:33.638715",
     "status": "completed"
    },
    "tags": []
   },
   "outputs": [],
   "source": [
    "# This Python 3 environment comes with many helpful analytics libraries installed\n",
    "# It is defined by the kaggle/python Docker image: https://github.com/kaggle/docker-python\n",
    "# For example, here's several helpful packages to load\n",
    "\n",
    "import numpy as np # linear algebra\n",
    "import pandas as pd # data processing, CSV file I/O (e.g. pd.read_csv)\n",
    "\n",
    "# Input data files are available in the read-only \"../input/\" directory\n",
    "# For example, running this (by clicking run or pressing Shift+Enter) will list all files under the input directory\n",
    "\n",
    "import os\n",
    "for dirname, _, filenames in os.walk('/kaggle/input'):\n",
    "    for filename in filenames:\n",
    "        print(os.path.join(dirname, filename))\n",
    "\n",
    "# You can write up to 20GB to the current directory (/kaggle/working/) that gets preserved as output when you create a version using \"Save & Run All\" \n",
    "# You can also write temporary files to /kaggle/temp/, but they won't be saved outside of the current session"
   ]
  },
  {
   "cell_type": "code",
   "execution_count": 73,
   "metadata": {
    "execution": {
     "iopub.execute_input": "2021-03-09T20:10:38.434450Z",
     "iopub.status.busy": "2021-03-09T20:10:38.433686Z",
     "iopub.status.idle": "2021-03-09T20:10:45.537423Z",
     "shell.execute_reply": "2021-03-09T20:10:45.536891Z"
    },
    "papermill": {
     "duration": 7.128449,
     "end_time": "2021-03-09T20:10:45.537568",
     "exception": false,
     "start_time": "2021-03-09T20:10:38.409119",
     "status": "completed"
    },
    "tags": []
   },
   "outputs": [
    {
     "name": "stderr",
     "output_type": "stream",
     "text": [
      "[nltk_data] Downloading package stopwords to\n",
      "[nltk_data]     C:\\Users\\komyshev.da\\AppData\\Roaming\\nltk_data...\n",
      "[nltk_data]   Package stopwords is already up-to-date!\n"
     ]
    }
   ],
   "source": [
    "### Import Libraries \n",
    "import re\n",
    "import matplotlib\n",
    "import numpy as np\n",
    "import matplotlib.pyplot as plt\n",
    "import pandas as pd\n",
    "import nltk\n",
    "nltk.download('stopwords')\n",
    "from nltk.corpus import stopwords\n",
    "stop_words = set(stopwords.words('english'))\n",
    "from sklearn.svm import LinearSVC\n",
    "import seaborn as sns\n",
    "import pandas as pd\n",
    "from keras.preprocessing.text import Tokenizer\n",
    "from keras.preprocessing.sequence import pad_sequences\n",
    "from keras.utils import to_categorical\n",
    "from keras.models import Sequential\n",
    "from keras.layers import Dense, LSTM, Embedding, Input, SimpleRNN, GRU\n",
    "from sklearn.model_selection import train_test_split\n",
    "from sklearn.metrics import plot_confusion_matrix\n",
    "import matplotlib.pyplot as plt\n",
    "from sklearn.metrics import classification_report\n",
    "from sklearn.metrics import confusion_matrix, ConfusionMatrixDisplay"
   ]
  },
  {
   "cell_type": "code",
   "execution_count": 7,
   "metadata": {
    "execution": {
     "iopub.execute_input": "2021-03-09T20:10:45.580523Z",
     "iopub.status.busy": "2021-03-09T20:10:45.579726Z",
     "iopub.status.idle": "2021-03-09T20:10:47.253553Z",
     "shell.execute_reply": "2021-03-09T20:10:47.252983Z"
    },
    "papermill": {
     "duration": 1.699932,
     "end_time": "2021-03-09T20:10:47.253709",
     "exception": false,
     "start_time": "2021-03-09T20:10:45.553777",
     "status": "completed"
    },
    "tags": []
   },
   "outputs": [],
   "source": [
    "### Reading csv data files using pandas dataframe \n",
    "\n",
    "train = pd.read_csv(\"./train.csv\", encoding = \"ISO-8859-1\")\n",
    "test = pd.read_csv(\"./test.csv\", encoding = \"ISO-8859-1\")"
   ]
  },
  {
   "cell_type": "code",
   "execution_count": 8,
   "metadata": {
    "execution": {
     "iopub.execute_input": "2021-03-09T20:10:47.293076Z",
     "iopub.status.busy": "2021-03-09T20:10:47.292398Z",
     "iopub.status.idle": "2021-03-09T20:10:47.383530Z",
     "shell.execute_reply": "2021-03-09T20:10:47.382957Z"
    },
    "papermill": {
     "duration": 0.112577,
     "end_time": "2021-03-09T20:10:47.383676",
     "exception": false,
     "start_time": "2021-03-09T20:10:47.271099",
     "status": "completed"
    },
    "tags": []
   },
   "outputs": [
    {
     "name": "stdout",
     "output_type": "stream",
     "text": [
      "Nulls in training dataset id               0\n",
      "comment_text     0\n",
      "toxic            0\n",
      "severe_toxic     0\n",
      "obscene          0\n",
      "threat           0\n",
      "insult           0\n",
      "identity_hate    0\n",
      "dtype: int64\n",
      "\n",
      "Nulls in test dataset id              0\n",
      "comment_text    0\n",
      "dtype: int64\n"
     ]
    }
   ],
   "source": [
    "### Checking nulls in both the datasets\n",
    "\n",
    "print(\"Nulls in training dataset\",train.isnull().sum())\n",
    "print(\"\\nNulls in test dataset\",test.isnull().sum())\n",
    "\n",
    "### There are no missing values in both the datasets"
   ]
  },
  {
   "cell_type": "code",
   "execution_count": 9,
   "metadata": {
    "execution": {
     "iopub.execute_input": "2021-03-09T20:10:47.429226Z",
     "iopub.status.busy": "2021-03-09T20:10:47.428593Z",
     "iopub.status.idle": "2021-03-09T20:10:47.443431Z",
     "shell.execute_reply": "2021-03-09T20:10:47.443929Z"
    },
    "papermill": {
     "duration": 0.043497,
     "end_time": "2021-03-09T20:10:47.444135",
     "exception": false,
     "start_time": "2021-03-09T20:10:47.400638",
     "status": "completed"
    },
    "tags": []
   },
   "outputs": [],
   "source": [
    "### Before cleaning the dataset I would like to perform EDA(Exploratory data analysis) by performing data visualization to understand\n",
    "### the distribution of different classes. I will be performing EDA on training dataset\n",
    "\n",
    "categorywise_data = train.drop(['id', 'comment_text'], axis=1)     ### Removed unnecessary columns - id and comment_text\n",
    "counts_category = []                                               ### A list that contains tuple which consists of class label and number of comments for that particular class \n",
    "categories = list(categorywise_data.columns.values)\n",
    "for i in categories:\n",
    "    counts_category.append((i, categorywise_data[i].sum()))\n",
    "    \n",
    "dataframe = pd.DataFrame(counts_category, columns=['Labels', 'number_of_comments'])   ### Dataframe made up of category and total number of comments"
   ]
  },
  {
   "cell_type": "code",
   "execution_count": 10,
   "metadata": {},
   "outputs": [
    {
     "data": {
      "text/plain": [
       "[('toxic', 15294),\n",
       " ('severe_toxic', 1595),\n",
       " ('obscene', 8449),\n",
       " ('threat', 478),\n",
       " ('insult', 7877),\n",
       " ('identity_hate', 1405)]"
      ]
     },
     "execution_count": 10,
     "metadata": {},
     "output_type": "execute_result"
    }
   ],
   "source": [
    "counts_category"
   ]
  },
  {
   "cell_type": "code",
   "execution_count": 11,
   "metadata": {
    "execution": {
     "iopub.execute_input": "2021-03-09T20:10:47.482846Z",
     "iopub.status.busy": "2021-03-09T20:10:47.482165Z",
     "iopub.status.idle": "2021-03-09T20:10:47.899040Z",
     "shell.execute_reply": "2021-03-09T20:10:47.899550Z"
    },
    "papermill": {
     "duration": 0.437986,
     "end_time": "2021-03-09T20:10:47.899746",
     "exception": false,
     "start_time": "2021-03-09T20:10:47.461760",
     "status": "completed"
    },
    "tags": []
   },
   "outputs": [
    {
     "data": {
      "text/plain": [
       "Text(0.5, 0, 'Labels')"
      ]
     },
     "execution_count": 11,
     "metadata": {},
     "output_type": "execute_result"
    },
    {
     "data": {
      "image/png": "[encoded data removed]",
      "text/plain": [
       "<Figure size 576x576 with 1 Axes>"
      ]
     },
     "metadata": {
      "needs_background": "light"
     },
     "output_type": "display_data"
    }
   ],
   "source": [
    "### Visualization 1\n",
    "\n",
    "### Bar graph of total number of comments per label \n",
    "### This visualization is helpful in identifying the total number of comments per label\n",
    "dataframe.plot(x='Labels', y='number_of_comments', kind='bar',figsize=(8,8))\n",
    "plt.title(\"Number of comments per category\")\n",
    "plt.ylabel('No. of Occurrences', fontsize=12)\n",
    "plt.xlabel('Labels', fontsize=12)\n",
    "\n",
    "### From the below graph we can observe that most of the comments having toxic label. \n",
    "### Threat label is having lowest no. of comments"
   ]
  },
  {
   "cell_type": "code",
   "execution_count": 13,
   "metadata": {
    "execution": {
     "iopub.execute_input": "2021-03-09T20:10:47.949043Z",
     "iopub.status.busy": "2021-03-09T20:10:47.948111Z",
     "iopub.status.idle": "2021-03-09T20:10:48.186249Z",
     "shell.execute_reply": "2021-03-09T20:10:48.185502Z"
    },
    "papermill": {
     "duration": 0.268003,
     "end_time": "2021-03-09T20:10:48.186415",
     "exception": false,
     "start_time": "2021-03-09T20:10:47.918412",
     "status": "completed"
    },
    "tags": []
   },
   "outputs": [
    {
     "data": {
      "text/html": [
       "<div>\n",
       "<style scoped>\n",
       "    .dataframe tbody tr th:only-of-type {\n",
       "        vertical-align: middle;\n",
       "    }\n",
       "\n",
       "    .dataframe tbody tr th {\n",
       "        vertical-align: top;\n",
       "    }\n",
       "\n",
       "    .dataframe thead th {\n",
       "        text-align: right;\n",
       "    }\n",
       "</style>\n",
       "<table border=\"1\" class=\"dataframe\">\n",
       "  <thead>\n",
       "    <tr style=\"text-align: right;\">\n",
       "      <th></th>\n",
       "      <th>0</th>\n",
       "      <th>Total no. of sentences</th>\n",
       "      <th>Total No. of labels in a sentence</th>\n",
       "    </tr>\n",
       "  </thead>\n",
       "  <tbody>\n",
       "    <tr>\n",
       "      <th>0</th>\n",
       "      <td>143346</td>\n",
       "      <td>143346</td>\n",
       "      <td>0</td>\n",
       "    </tr>\n",
       "    <tr>\n",
       "      <th>1</th>\n",
       "      <td>6360</td>\n",
       "      <td>6360</td>\n",
       "      <td>1</td>\n",
       "    </tr>\n",
       "    <tr>\n",
       "      <th>3</th>\n",
       "      <td>4209</td>\n",
       "      <td>4209</td>\n",
       "      <td>3</td>\n",
       "    </tr>\n",
       "    <tr>\n",
       "      <th>2</th>\n",
       "      <td>3480</td>\n",
       "      <td>3480</td>\n",
       "      <td>2</td>\n",
       "    </tr>\n",
       "    <tr>\n",
       "      <th>4</th>\n",
       "      <td>1760</td>\n",
       "      <td>1760</td>\n",
       "      <td>4</td>\n",
       "    </tr>\n",
       "    <tr>\n",
       "      <th>5</th>\n",
       "      <td>385</td>\n",
       "      <td>385</td>\n",
       "      <td>5</td>\n",
       "    </tr>\n",
       "    <tr>\n",
       "      <th>6</th>\n",
       "      <td>31</td>\n",
       "      <td>31</td>\n",
       "      <td>6</td>\n",
       "    </tr>\n",
       "  </tbody>\n",
       "</table>\n",
       "</div>"
      ],
      "text/plain": [
       "        0  Total no. of sentences  Total No. of labels in a sentence\n",
       "0  143346                  143346                                  0\n",
       "1    6360                    6360                                  1\n",
       "3    4209                    4209                                  3\n",
       "2    3480                    3480                                  2\n",
       "4    1760                    1760                                  4\n",
       "5     385                     385                                  5\n",
       "6      31                      31                                  6"
      ]
     },
     "execution_count": 13,
     "metadata": {},
     "output_type": "execute_result"
    },
    {
     "data": {
      "image/png": "[encoded data removed]",
      "text/plain": [
       "<Figure size 576x576 with 1 Axes>"
      ]
     },
     "metadata": {
      "needs_background": "light"
     },
     "output_type": "display_data"
    }
   ],
   "source": [
    "### Visualization 2\n",
    "\n",
    "### Bar graph of Total No. of labels in a sentence against Total no. of sentences\n",
    "### This visualization is helpful in identifying whether a sentence belongs to only one category or many categories\n",
    "\n",
    "dataframe = pd.DataFrame(pd.DataFrame(train[train.columns[2:]].sum(axis=1)).reset_index()[0].value_counts())\n",
    "dataframe[\"Total no. of sentences\"]=dataframe[0]\n",
    "dataframe[\"Total No. of labels in a sentence\"]=dataframe.index\n",
    "dataframe.plot(x=\"Total No. of labels in a sentence\", y=\"Total no. of sentences\", kind='bar',figsize=(8,8))\n",
    "plt.title(\"No of comments based on the count of labels\")\n",
    "plt.ylabel('Total no. of sentences', fontsize=12)\n",
    "plt.xlabel('Total No. of labels in a sentence', fontsize=12)\n",
    "dataframe\n",
    "\n",
    "### From the below graph we can see that 1,43,346 out of 1,59,571 sentences does not have any labels(class 0).\n",
    "### we can observe that a single sentence can have multiple labels. It can be a toxic sentence or it can be a toxic as well as obscene senetence."
   ]
  },
  {
   "cell_type": "code",
   "execution_count": 14,
   "metadata": {
    "execution": {
     "iopub.execute_input": "2021-03-09T20:10:48.252461Z",
     "iopub.status.busy": "2021-03-09T20:10:48.249987Z",
     "iopub.status.idle": "2021-03-09T20:10:48.919359Z",
     "shell.execute_reply": "2021-03-09T20:10:48.918728Z"
    },
    "papermill": {
     "duration": 0.712612,
     "end_time": "2021-03-09T20:10:48.919501",
     "exception": false,
     "start_time": "2021-03-09T20:10:48.206889",
     "status": "completed"
    },
    "tags": []
   },
   "outputs": [
    {
     "data": {
      "text/plain": [
       "<matplotlib.axes._subplots.AxesSubplot at 0x115f33b8ac0>"
      ]
     },
     "execution_count": 14,
     "metadata": {},
     "output_type": "execute_result"
    },
    {
     "data": {
      "image/png": "[encoded data removed]",
      "text/plain": [
       "<Figure size 1080x864 with 6 Axes>"
      ]
     },
     "metadata": {
      "needs_background": "light"
     },
     "output_type": "display_data"
    }
   ],
   "source": [
    "### Visualization 3\n",
    "\n",
    "### Graph of individual class against the total no. of labelled and unlabelled sentences for the same class\n",
    "\n",
    "fig, plots = plt.subplots(2,3,figsize=(15,12))\n",
    "plot1, plot2, plot3, plot4, plot5, plot6 = plots.flatten()\n",
    "sns.countplot(train['obscene'], ax = plot1)\n",
    "sns.countplot(train['threat'], ax = plot2)\n",
    "sns.countplot(train['insult'], ax = plot3)\n",
    "sns.countplot(train['identity_hate'], ax = plot4)\n",
    "sns.countplot(train['toxic'], ax = plot5)\n",
    "sns.countplot(train['severe_toxic'], ax = plot6)\n",
    "\n",
    "### From this graph it can be concluded that every class(category) is having higher no. of unlabelled sentences(0) as compared\n",
    "### to labelled sentences(1)"
   ]
  },
  {
   "cell_type": "code",
   "execution_count": 15,
   "metadata": {
    "execution": {
     "iopub.execute_input": "2021-03-09T20:10:48.975288Z",
     "iopub.status.busy": "2021-03-09T20:10:48.974560Z",
     "iopub.status.idle": "2021-03-09T20:10:49.496302Z",
     "shell.execute_reply": "2021-03-09T20:10:49.497051Z"
    },
    "papermill": {
     "duration": 0.554164,
     "end_time": "2021-03-09T20:10:49.497297",
     "exception": false,
     "start_time": "2021-03-09T20:10:48.943133",
     "status": "completed"
    },
    "tags": []
   },
   "outputs": [
    {
     "data": {
      "image/png": "[encoded data removed]",
      "text/plain": [
       "<Figure size 432x288 with 2 Axes>"
      ]
     },
     "metadata": {
      "needs_background": "light"
     },
     "output_type": "display_data"
    }
   ],
   "source": [
    "### Visualization 4\n",
    "\n",
    "### Correlation between different variables\n",
    "### Correlation helps us finding relationship/dependency between different variables. \n",
    "\n",
    "target_data = train.drop(['id', 'comment_text'], axis=1)\n",
    "corrMatrix = target_data.corr()\n",
    "sns.heatmap(corrMatrix, annot=True)\n",
    "plt.show()\n",
    "\n",
    "### Correlation coefficient ranges from -1 to 1. Values always range between -1 imply strong negative relationship\n",
    "### between variables and +1 imply a strong positive relationship between variables. \n",
    "### Values at or close to zero imply weak or no linear relationship. \n",
    "### From the correlation matrix(graph), it can be concluded that some labels are highely correlated. Those varibles are mentioned below \n",
    "### (Correlation coefficient for insult-obscene is 0.74, Correlation coefficient for toxic-obscene is 0.68 and Correlation coefficient for toxic-insult is 0.65)."
   ]
  },
  {
   "cell_type": "code",
   "execution_count": 16,
   "metadata": {
    "execution": {
     "iopub.execute_input": "2021-03-09T20:10:49.553508Z",
     "iopub.status.busy": "2021-03-09T20:10:49.552523Z",
     "iopub.status.idle": "2021-03-09T20:10:49.556132Z",
     "shell.execute_reply": "2021-03-09T20:10:49.556623Z"
    },
    "papermill": {
     "duration": 0.03153,
     "end_time": "2021-03-09T20:10:49.556800",
     "exception": false,
     "start_time": "2021-03-09T20:10:49.525270",
     "status": "completed"
    },
    "tags": []
   },
   "outputs": [],
   "source": [
    "### From visualization we can conclude following things\n",
    "### 1) A single sentence can have multiple labels (categories)\n",
    "### 2) Some labels are highely correlated to each other\n",
    "### 3) This is multi label classification problem "
   ]
  },
  {
   "cell_type": "code",
   "execution_count": 17,
   "metadata": {
    "execution": {
     "iopub.execute_input": "2021-03-09T20:10:49.608270Z",
     "iopub.status.busy": "2021-03-09T20:10:49.607275Z",
     "iopub.status.idle": "2021-03-09T20:11:25.047173Z",
     "shell.execute_reply": "2021-03-09T20:11:25.047717Z"
    },
    "papermill": {
     "duration": 35.467204,
     "end_time": "2021-03-09T20:11:25.047911",
     "exception": false,
     "start_time": "2021-03-09T20:10:49.580707",
     "status": "completed"
    },
    "tags": []
   },
   "outputs": [],
   "source": [
    "### Data cleaning/Preparation \n",
    "\n",
    "def clean_text(text):\n",
    "    text = text.lower()\n",
    "    text = re.sub(r\"what's\", \"what is \", text)      ### conversion of contraction words to expanded words\n",
    "    text = re.sub(r\"\\'s\", \" \", text)\n",
    "    text = re.sub(r\"\\'ve\", \" have \", text)\n",
    "    text = re.sub(r\"can't\", \"can not \", text)\n",
    "    text = re.sub(r\"n't\", \" not \", text)\n",
    "    text = re.sub(r\"i'm\", \"i am \", text)\n",
    "    text = re.sub(r\"\\'re\", \" are \", text)\n",
    "    text = re.sub(r\"\\'d\", \" would \", text)\n",
    "    text = re.sub(r\"\\'ll\", \" will \", text)\n",
    "    text = re.sub(r\"\\'scuse\", \" excuse \", text)\n",
    "    text = re.sub('\\W', ' ', text)                                                 ### removing non-word characters\n",
    "    text = re.sub('[^A-Za-z\\' ]+', '',text)                                        ### removing all non-alphanumeric values(Except single quotes)\n",
    "    text = re.sub('\\s+', ' ', text)\n",
    "    text = text.strip(' ')\n",
    "    text = ' '.join([word for word in text.split() if word not in (stop_words)])    ### Stopwords removal\n",
    "    return text\n",
    "\n",
    "train[\"comment_text\"] = train[\"comment_text\"].apply(clean_text)\n",
    "test[\"comment_text\"] = test[\"comment_text\"].apply(clean_text)\n"
   ]
  },
  {
   "cell_type": "code",
   "execution_count": 18,
   "metadata": {
    "execution": {
     "iopub.execute_input": "2021-03-09T20:11:25.100366Z",
     "iopub.status.busy": "2021-03-09T20:11:25.099657Z",
     "iopub.status.idle": "2021-03-09T20:11:25.109572Z",
     "shell.execute_reply": "2021-03-09T20:11:25.110036Z"
    },
    "papermill": {
     "duration": 0.037581,
     "end_time": "2021-03-09T20:11:25.110254",
     "exception": false,
     "start_time": "2021-03-09T20:11:25.072673",
     "status": "completed"
    },
    "tags": []
   },
   "outputs": [],
   "source": [
    "### Splitting up the labels and data\n",
    "### Training dataset is splitted into 2 parts. 1st part includes the training data(train_data) and 2nd part includes labels(train_label) \n",
    "### associated with the training data\n",
    "### Test dataset is having only 1 part i.e. test data which is used to predict the labels. \n",
    "\n",
    "train_data = train[\"comment_text\"]\n",
    "test_data = test[\"comment_text\"]\n",
    "train_label=train[['toxic', 'severe_toxic', 'obscene', 'threat','insult', 'identity_hate']]\n"
   ]
  },
  {
   "cell_type": "code",
   "execution_count": 20,
   "metadata": {
    "execution": {
     "iopub.execute_input": "2021-03-09T20:11:25.161621Z",
     "iopub.status.busy": "2021-03-09T20:11:25.160935Z",
     "iopub.status.idle": "2021-03-09T20:11:41.858171Z",
     "shell.execute_reply": "2021-03-09T20:11:41.857515Z"
    },
    "papermill": {
     "duration": 16.72358,
     "end_time": "2021-03-09T20:11:41.858337",
     "exception": false,
     "start_time": "2021-03-09T20:11:25.134757",
     "status": "completed"
    },
    "tags": []
   },
   "outputs": [],
   "source": [
    "### Creating corpus of words and coverting it into integer and then susbstituing it in sentences - prepare tokenizer\n",
    "tokenizer = Tokenizer(num_words = 40000) #40000 words are used here\n",
    "tokenizer.fit_on_texts(train_data)\n",
    "\n",
    "#convert each text into array of integers with help of tokenizer.\n",
    "train_final = tokenizer.texts_to_sequences(train_data)\n",
    "test_final = tokenizer.texts_to_sequences(test_data)"
   ]
  },
  {
   "cell_type": "code",
   "execution_count": 21,
   "metadata": {
    "execution": {
     "iopub.execute_input": "2021-03-09T20:11:41.920697Z",
     "iopub.status.busy": "2021-03-09T20:11:41.915628Z",
     "iopub.status.idle": "2021-03-09T20:11:45.474218Z",
     "shell.execute_reply": "2021-03-09T20:11:45.473352Z"
    },
    "papermill": {
     "duration": 3.591319,
     "end_time": "2021-03-09T20:11:45.474432",
     "exception": false,
     "start_time": "2021-03-09T20:11:41.883113",
     "status": "completed"
    },
    "tags": []
   },
   "outputs": [
    {
     "name": "stdout",
     "output_type": "stream",
     "text": [
      "Shape of training data (159571, 150)\n",
      "Shape of testing data (153164, 150)\n"
     ]
    }
   ],
   "source": [
    "### Padding - Every sentence is unequal in length. We need to have all the sentence equal in lengths\n",
    "### If length of sentence is less than 150 then padding will increase sentence length to 150 by adding zeros, if its greater\n",
    "### than 150 then it will reduce the length of sentence to 150 by trimming the words\n",
    "\n",
    "train_padded =pad_sequences(train_final, maxlen=150)\n",
    "test_padded =pad_sequences(test_final, maxlen=150)\n",
    "print(\"Shape of training data\",train_padded.shape)\n",
    "print(\"Shape of testing data\",test_padded.shape)\n"
   ]
  },
  {
   "cell_type": "code",
   "execution_count": 86,
   "metadata": {},
   "outputs": [],
   "source": [
    "x_train, x_val, y_train, y_val = train_test_split(train_padded, train_label, shuffle = True, random_state = 123)"
   ]
  },
  {
   "cell_type": "markdown",
   "metadata": {},
   "source": [
    "## LSTM"
   ]
  },
  {
   "cell_type": "code",
   "execution_count": 85,
   "metadata": {
    "execution": {
     "iopub.execute_input": "2021-03-09T20:11:45.530359Z",
     "iopub.status.busy": "2021-03-09T20:11:45.529714Z",
     "iopub.status.idle": "2021-03-09T20:11:46.153109Z",
     "shell.execute_reply": "2021-03-09T20:11:46.151891Z"
    },
    "papermill": {
     "duration": 0.653823,
     "end_time": "2021-03-09T20:11:46.153364",
     "exception": false,
     "start_time": "2021-03-09T20:11:45.499541",
     "status": "completed"
    },
    "tags": []
   },
   "outputs": [
    {
     "name": "stdout",
     "output_type": "stream",
     "text": [
      "Model: \"sequential_6\"\n",
      "_________________________________________________________________\n",
      "Layer (type)                 Output Shape              Param #   \n",
      "=================================================================\n",
      "embedding_6 (Embedding)      (None, None, 128)         5120000   \n",
      "_________________________________________________________________\n",
      "lstm_4 (LSTM)                (None, None, 64)          49408     \n",
      "_________________________________________________________________\n",
      "lstm_5 (LSTM)                (None, 64)                33024     \n",
      "_________________________________________________________________\n",
      "dense_6 (Dense)              (None, 6)                 390       \n",
      "=================================================================\n",
      "Total params: 5,202,822\n",
      "Trainable params: 5,202,822\n",
      "Non-trainable params: 0\n",
      "_________________________________________________________________\n"
     ]
    }
   ],
   "source": [
    "### Building a model\n",
    "### I have built a sequential model using LSTM. Initial layer contains a word embedding layer having 128 hidden units. \n",
    "### Input to the LSTM model is given in the shape of an array of (159571, 150). There are 6 main classes and every class is having 2 sub classes.\n",
    "### For every Input observation, there are 6 labels. \n",
    "### I have used 2 LSTM layer with 64 hidden units. 1 Dense layer which is an output layer. Dropout probability is set to 0.2 for\n",
    "### 2 lSTM layers which will dropout the 20 percent of neuron automatically while training.Dropout resolves the problem of overfitting. \n",
    "### Output layer contains 6 hidden units. I have used sigmoid activation function in the output layer. The reason behind using\n",
    "### sigmoid activation function in the output layer is because we have multi label classification problem.\n",
    "### Every class(label) is having 2 more classes i.e.0 and 1 to predict. \n",
    "\n",
    "model_LSTM = Sequential()\n",
    "model_LSTM.add(Embedding(40000, 128))\n",
    "model_LSTM.add(LSTM(units = 64, dropout = 0.2,return_sequences=True))\n",
    "model_LSTM.add(LSTM(units = 64, dropout = 0.2))\n",
    "model_LSTM.add(Dense(units = 6, activation = 'sigmoid'))\n",
    "model_LSTM.summary()"
   ]
  },
  {
   "cell_type": "code",
   "execution_count": 89,
   "metadata": {
    "execution": {
     "iopub.execute_input": "2021-03-09T20:11:46.555998Z",
     "iopub.status.busy": "2021-03-09T20:11:46.554885Z",
     "iopub.status.idle": "2021-03-09T20:24:17.867039Z",
     "shell.execute_reply": "2021-03-09T20:24:17.866582Z"
    },
    "papermill": {
     "duration": 751.68918,
     "end_time": "2021-03-09T20:24:17.867167",
     "exception": false,
     "start_time": "2021-03-09T20:11:46.177987",
     "status": "completed"
    },
    "tags": []
   },
   "outputs": [
    {
     "name": "stdout",
     "output_type": "stream",
     "text": [
      "3740/3740 [==============================] - 620s 166ms/step - loss: 0.0723 - auc: 0.9559 - val_loss: 0.0518 - val_auc: 0.9717\n"
     ]
    },
    {
     "data": {
      "text/plain": [
       "<tensorflow.python.keras.callbacks.History at 0x115db964100>"
      ]
     },
     "execution_count": 89,
     "metadata": {},
     "output_type": "execute_result"
    }
   ],
   "source": [
    "model_LSTM.compile(loss = \"binary_crossentropy\", optimizer = \"adam\", metrics = [\"AUC\"])\n",
    "model_LSTM.fit(x_train, y_train, batch_size = 32, epochs = 1, validation_data = (x_val, y_val))"
   ]
  },
  {
   "cell_type": "code",
   "execution_count": 106,
   "metadata": {},
   "outputs": [
    {
     "data": {
      "text/html": [
       "<div>\n",
       "<style scoped>\n",
       "    .dataframe tbody tr th:only-of-type {\n",
       "        vertical-align: middle;\n",
       "    }\n",
       "\n",
       "    .dataframe tbody tr th {\n",
       "        vertical-align: top;\n",
       "    }\n",
       "\n",
       "    .dataframe thead th {\n",
       "        text-align: right;\n",
       "    }\n",
       "</style>\n",
       "<table border=\"1\" class=\"dataframe\">\n",
       "  <thead>\n",
       "    <tr style=\"text-align: right;\">\n",
       "      <th></th>\n",
       "      <th>id</th>\n",
       "      <th>toxic</th>\n",
       "      <th>severe_toxic</th>\n",
       "      <th>obscene</th>\n",
       "      <th>threat</th>\n",
       "      <th>insult</th>\n",
       "      <th>identity_hate</th>\n",
       "    </tr>\n",
       "  </thead>\n",
       "  <tbody>\n",
       "    <tr>\n",
       "      <th>0</th>\n",
       "      <td>00001cee341fdb12</td>\n",
       "      <td>0.977087</td>\n",
       "      <td>0.299532</td>\n",
       "      <td>0.916433</td>\n",
       "      <td>0.065533</td>\n",
       "      <td>0.763479</td>\n",
       "      <td>0.193436</td>\n",
       "    </tr>\n",
       "    <tr>\n",
       "      <th>1</th>\n",
       "      <td>0000247867823ef7</td>\n",
       "      <td>0.002402</td>\n",
       "      <td>0.000049</td>\n",
       "      <td>0.000621</td>\n",
       "      <td>0.000273</td>\n",
       "      <td>0.001041</td>\n",
       "      <td>0.000251</td>\n",
       "    </tr>\n",
       "    <tr>\n",
       "      <th>2</th>\n",
       "      <td>00013b17ad220c46</td>\n",
       "      <td>0.012199</td>\n",
       "      <td>0.000179</td>\n",
       "      <td>0.002115</td>\n",
       "      <td>0.000783</td>\n",
       "      <td>0.004552</td>\n",
       "      <td>0.000934</td>\n",
       "    </tr>\n",
       "    <tr>\n",
       "      <th>3</th>\n",
       "      <td>00017563c3f7919a</td>\n",
       "      <td>0.002232</td>\n",
       "      <td>0.000042</td>\n",
       "      <td>0.000557</td>\n",
       "      <td>0.000242</td>\n",
       "      <td>0.000909</td>\n",
       "      <td>0.000229</td>\n",
       "    </tr>\n",
       "    <tr>\n",
       "      <th>4</th>\n",
       "      <td>00017695ad8997eb</td>\n",
       "      <td>0.003264</td>\n",
       "      <td>0.000066</td>\n",
       "      <td>0.000785</td>\n",
       "      <td>0.000356</td>\n",
       "      <td>0.001415</td>\n",
       "      <td>0.000326</td>\n",
       "    </tr>\n",
       "  </tbody>\n",
       "</table>\n",
       "</div>"
      ],
      "text/plain": [
       "                 id     toxic  severe_toxic   obscene    threat    insult  \\\n",
       "0  00001cee341fdb12  0.977087      0.299532  0.916433  0.065533  0.763479   \n",
       "1  0000247867823ef7  0.002402      0.000049  0.000621  0.000273  0.001041   \n",
       "2  00013b17ad220c46  0.012199      0.000179  0.002115  0.000783  0.004552   \n",
       "3  00017563c3f7919a  0.002232      0.000042  0.000557  0.000242  0.000909   \n",
       "4  00017695ad8997eb  0.003264      0.000066  0.000785  0.000356  0.001415   \n",
       "\n",
       "   identity_hate  \n",
       "0       0.193436  \n",
       "1       0.000251  \n",
       "2       0.000934  \n",
       "3       0.000229  \n",
       "4       0.000326  "
      ]
     },
     "execution_count": 106,
     "metadata": {},
     "output_type": "execute_result"
    }
   ],
   "source": [
    "### predicted probabilities of each id in the test set, for all the target columns\n",
    "predict_LSTM = model_LSTM.predict(test_padded)\n",
    "\n",
    "target_cols = np.array(['toxic','severe_toxic','obscene', 'threat','insult', 'identity_hate'])\n",
    "final_predict_test = pd.concat([pd.DataFrame(predict_LSTM, columns=target_cols)], 1)\n",
    "t1 = test['id']\n",
    "final_predict_test = pd.concat([t1,final_predict_test],1)\n",
    "final_predict_test.head()"
   ]
  },
  {
   "cell_type": "markdown",
   "metadata": {},
   "source": [
    "## GRU"
   ]
  },
  {
   "cell_type": "code",
   "execution_count": 84,
   "metadata": {},
   "outputs": [
    {
     "name": "stdout",
     "output_type": "stream",
     "text": [
      "Model: \"sequential_5\"\n",
      "_________________________________________________________________\n",
      "Layer (type)                 Output Shape              Param #   \n",
      "=================================================================\n",
      "embedding_5 (Embedding)      (None, None, 128)         5120000   \n",
      "_________________________________________________________________\n",
      "gru_2 (GRU)                  (None, None, 64)          37248     \n",
      "_________________________________________________________________\n",
      "gru_3 (GRU)                  (None, 64)                24960     \n",
      "_________________________________________________________________\n",
      "dense_5 (Dense)              (None, 6)                 390       \n",
      "=================================================================\n",
      "Total params: 5,182,598\n",
      "Trainable params: 5,182,598\n",
      "Non-trainable params: 0\n",
      "_________________________________________________________________\n"
     ]
    }
   ],
   "source": [
    "model_GRU = Sequential()\n",
    "model_GRU.add(Embedding(40000, 128))\n",
    "model_GRU.add(GRU(units = 64, dropout = 0.2,return_sequences=True))\n",
    "model_GRU.add(GRU(units = 64, dropout = 0.2))\n",
    "model_GRU.add(Dense(units = 6, activation = 'sigmoid'))\n",
    "model_GRU.summary()"
   ]
  },
  {
   "cell_type": "code",
   "execution_count": 88,
   "metadata": {},
   "outputs": [
    {
     "name": "stdout",
     "output_type": "stream",
     "text": [
      "3740/3740 [==============================] - 582s 156ms/step - loss: 0.0639 - auc: 0.9674 - val_loss: 0.0464 - val_auc: 0.9823\n"
     ]
    },
    {
     "data": {
      "text/plain": [
       "<tensorflow.python.keras.callbacks.History at 0x115a8bb1dc0>"
      ]
     },
     "execution_count": 88,
     "metadata": {},
     "output_type": "execute_result"
    }
   ],
   "source": [
    "model_GRU.compile(loss = \"binary_crossentropy\", optimizer = \"adam\", metrics = [\"AUC\"])\n",
    "model_GRU.fit(x_train, y_train, batch_size = 32, epochs = 1, validation_data = (x_val, y_val))"
   ]
  },
  {
   "cell_type": "code",
   "execution_count": 105,
   "metadata": {},
   "outputs": [
    {
     "data": {
      "text/html": [
       "<div>\n",
       "<style scoped>\n",
       "    .dataframe tbody tr th:only-of-type {\n",
       "        vertical-align: middle;\n",
       "    }\n",
       "\n",
       "    .dataframe tbody tr th {\n",
       "        vertical-align: top;\n",
       "    }\n",
       "\n",
       "    .dataframe thead th {\n",
       "        text-align: right;\n",
       "    }\n",
       "</style>\n",
       "<table border=\"1\" class=\"dataframe\">\n",
       "  <thead>\n",
       "    <tr style=\"text-align: right;\">\n",
       "      <th></th>\n",
       "      <th>id</th>\n",
       "      <th>toxic</th>\n",
       "      <th>severe_toxic</th>\n",
       "      <th>obscene</th>\n",
       "      <th>threat</th>\n",
       "      <th>insult</th>\n",
       "      <th>identity_hate</th>\n",
       "    </tr>\n",
       "  </thead>\n",
       "  <tbody>\n",
       "    <tr>\n",
       "      <th>0</th>\n",
       "      <td>00001cee341fdb12</td>\n",
       "      <td>0.991156</td>\n",
       "      <td>0.491281</td>\n",
       "      <td>0.928984</td>\n",
       "      <td>0.038725</td>\n",
       "      <td>0.859561</td>\n",
       "      <td>0.126759</td>\n",
       "    </tr>\n",
       "    <tr>\n",
       "      <th>1</th>\n",
       "      <td>0000247867823ef7</td>\n",
       "      <td>0.001293</td>\n",
       "      <td>0.000060</td>\n",
       "      <td>0.000352</td>\n",
       "      <td>0.000191</td>\n",
       "      <td>0.000566</td>\n",
       "      <td>0.000321</td>\n",
       "    </tr>\n",
       "    <tr>\n",
       "      <th>2</th>\n",
       "      <td>00013b17ad220c46</td>\n",
       "      <td>0.011847</td>\n",
       "      <td>0.000204</td>\n",
       "      <td>0.002049</td>\n",
       "      <td>0.000749</td>\n",
       "      <td>0.003665</td>\n",
       "      <td>0.001284</td>\n",
       "    </tr>\n",
       "    <tr>\n",
       "      <th>3</th>\n",
       "      <td>00017563c3f7919a</td>\n",
       "      <td>0.002036</td>\n",
       "      <td>0.000078</td>\n",
       "      <td>0.000469</td>\n",
       "      <td>0.000180</td>\n",
       "      <td>0.000827</td>\n",
       "      <td>0.000350</td>\n",
       "    </tr>\n",
       "    <tr>\n",
       "      <th>4</th>\n",
       "      <td>00017695ad8997eb</td>\n",
       "      <td>0.007872</td>\n",
       "      <td>0.000142</td>\n",
       "      <td>0.001343</td>\n",
       "      <td>0.000473</td>\n",
       "      <td>0.002489</td>\n",
       "      <td>0.000871</td>\n",
       "    </tr>\n",
       "  </tbody>\n",
       "</table>\n",
       "</div>"
      ],
      "text/plain": [
       "                 id     toxic  severe_toxic   obscene    threat    insult  \\\n",
       "0  00001cee341fdb12  0.991156      0.491281  0.928984  0.038725  0.859561   \n",
       "1  0000247867823ef7  0.001293      0.000060  0.000352  0.000191  0.000566   \n",
       "2  00013b17ad220c46  0.011847      0.000204  0.002049  0.000749  0.003665   \n",
       "3  00017563c3f7919a  0.002036      0.000078  0.000469  0.000180  0.000827   \n",
       "4  00017695ad8997eb  0.007872      0.000142  0.001343  0.000473  0.002489   \n",
       "\n",
       "   identity_hate  \n",
       "0       0.126759  \n",
       "1       0.000321  \n",
       "2       0.001284  \n",
       "3       0.000350  \n",
       "4       0.000871  "
      ]
     },
     "execution_count": 105,
     "metadata": {},
     "output_type": "execute_result"
    }
   ],
   "source": [
    "predict_GRU = model_GRU.predict(test_padded)\n",
    "\n",
    "target_cols = np.array(['toxic','severe_toxic','obscene', 'threat','insult', 'identity_hate'])\n",
    "final_predict_test = pd.concat([pd.DataFrame(predict_GRU, columns=target_cols)], 1)\n",
    "t1 = test['id']\n",
    "final_predict_test = pd.concat([t1,final_predict_test],1)\n",
    "final_predict_test.head()"
   ]
  },
  {
   "cell_type": "markdown",
   "metadata": {},
   "source": [
    "## SimpleRNN"
   ]
  },
  {
   "cell_type": "code",
   "execution_count": 83,
   "metadata": {},
   "outputs": [
    {
     "name": "stdout",
     "output_type": "stream",
     "text": [
      "Model: \"sequential_4\"\n",
      "_________________________________________________________________\n",
      "Layer (type)                 Output Shape              Param #   \n",
      "=================================================================\n",
      "embedding_4 (Embedding)      (None, None, 128)         5120000   \n",
      "_________________________________________________________________\n",
      "simple_rnn_2 (SimpleRNN)     (None, None, 64)          12352     \n",
      "_________________________________________________________________\n",
      "simple_rnn_3 (SimpleRNN)     (None, 64)                8256      \n",
      "_________________________________________________________________\n",
      "dense_4 (Dense)              (None, 6)                 390       \n",
      "=================================================================\n",
      "Total params: 5,140,998\n",
      "Trainable params: 5,140,998\n",
      "Non-trainable params: 0\n",
      "_________________________________________________________________\n"
     ]
    }
   ],
   "source": [
    "model_SimpleRNN = Sequential()\n",
    "model_SimpleRNN.add(Embedding(40000, 128))\n",
    "model_SimpleRNN.add(SimpleRNN(units = 64, dropout = 0.2,return_sequences=True))\n",
    "model_SimpleRNN.add(SimpleRNN(units = 64, dropout = 0.2))\n",
    "model_SimpleRNN.add(Dense(units = 6, activation = 'sigmoid'))\n",
    "model_SimpleRNN.summary()"
   ]
  },
  {
   "cell_type": "code",
   "execution_count": 87,
   "metadata": {},
   "outputs": [
    {
     "name": "stdout",
     "output_type": "stream",
     "text": [
      "3740/3740 [==============================] - 408s 109ms/step - loss: 0.0795 - auc: 0.9427 - val_loss: 0.0633 - val_auc: 0.9563\n"
     ]
    },
    {
     "data": {
      "text/plain": [
       "<tensorflow.python.keras.callbacks.History at 0x11589809850>"
      ]
     },
     "execution_count": 87,
     "metadata": {},
     "output_type": "execute_result"
    }
   ],
   "source": [
    "model_SimpleRNN.compile(loss = \"binary_crossentropy\", optimizer = \"adam\", metrics = [\"AUC\"])\n",
    "model_SimpleRNN.fit(x_train, y_train, batch_size = 32, epochs = 1, validation_data = (x_val, y_val))"
   ]
  },
  {
   "cell_type": "code",
   "execution_count": 107,
   "metadata": {
    "execution": {
     "iopub.execute_input": "2021-03-09T20:27:47.428139Z",
     "iopub.status.busy": "2021-03-09T20:27:47.427570Z",
     "iopub.status.idle": "2021-03-09T20:27:47.451171Z",
     "shell.execute_reply": "2021-03-09T20:27:47.450694Z"
    },
    "papermill": {
     "duration": 1.152947,
     "end_time": "2021-03-09T20:27:47.451343",
     "exception": false,
     "start_time": "2021-03-09T20:27:46.298396",
     "status": "completed"
    },
    "tags": []
   },
   "outputs": [
    {
     "data": {
      "text/html": [
       "<div>\n",
       "<style scoped>\n",
       "    .dataframe tbody tr th:only-of-type {\n",
       "        vertical-align: middle;\n",
       "    }\n",
       "\n",
       "    .dataframe tbody tr th {\n",
       "        vertical-align: top;\n",
       "    }\n",
       "\n",
       "    .dataframe thead th {\n",
       "        text-align: right;\n",
       "    }\n",
       "</style>\n",
       "<table border=\"1\" class=\"dataframe\">\n",
       "  <thead>\n",
       "    <tr style=\"text-align: right;\">\n",
       "      <th></th>\n",
       "      <th>id</th>\n",
       "      <th>toxic</th>\n",
       "      <th>severe_toxic</th>\n",
       "      <th>obscene</th>\n",
       "      <th>threat</th>\n",
       "      <th>insult</th>\n",
       "      <th>identity_hate</th>\n",
       "    </tr>\n",
       "  </thead>\n",
       "  <tbody>\n",
       "    <tr>\n",
       "      <th>0</th>\n",
       "      <td>00001cee341fdb12</td>\n",
       "      <td>0.848349</td>\n",
       "      <td>0.079438</td>\n",
       "      <td>0.673645</td>\n",
       "      <td>0.018017</td>\n",
       "      <td>0.503197</td>\n",
       "      <td>0.114179</td>\n",
       "    </tr>\n",
       "    <tr>\n",
       "      <th>1</th>\n",
       "      <td>0000247867823ef7</td>\n",
       "      <td>0.005801</td>\n",
       "      <td>0.000260</td>\n",
       "      <td>0.002377</td>\n",
       "      <td>0.000320</td>\n",
       "      <td>0.002434</td>\n",
       "      <td>0.000610</td>\n",
       "    </tr>\n",
       "    <tr>\n",
       "      <th>2</th>\n",
       "      <td>00013b17ad220c46</td>\n",
       "      <td>0.012023</td>\n",
       "      <td>0.000267</td>\n",
       "      <td>0.003942</td>\n",
       "      <td>0.000290</td>\n",
       "      <td>0.003881</td>\n",
       "      <td>0.000760</td>\n",
       "    </tr>\n",
       "    <tr>\n",
       "      <th>3</th>\n",
       "      <td>00017563c3f7919a</td>\n",
       "      <td>0.006290</td>\n",
       "      <td>0.000261</td>\n",
       "      <td>0.002616</td>\n",
       "      <td>0.000315</td>\n",
       "      <td>0.002443</td>\n",
       "      <td>0.000642</td>\n",
       "    </tr>\n",
       "    <tr>\n",
       "      <th>4</th>\n",
       "      <td>00017695ad8997eb</td>\n",
       "      <td>0.012244</td>\n",
       "      <td>0.000277</td>\n",
       "      <td>0.003989</td>\n",
       "      <td>0.000312</td>\n",
       "      <td>0.004220</td>\n",
       "      <td>0.000721</td>\n",
       "    </tr>\n",
       "  </tbody>\n",
       "</table>\n",
       "</div>"
      ],
      "text/plain": [
       "                 id     toxic  severe_toxic   obscene    threat    insult  \\\n",
       "0  00001cee341fdb12  0.848349      0.079438  0.673645  0.018017  0.503197   \n",
       "1  0000247867823ef7  0.005801      0.000260  0.002377  0.000320  0.002434   \n",
       "2  00013b17ad220c46  0.012023      0.000267  0.003942  0.000290  0.003881   \n",
       "3  00017563c3f7919a  0.006290      0.000261  0.002616  0.000315  0.002443   \n",
       "4  00017695ad8997eb  0.012244      0.000277  0.003989  0.000312  0.004220   \n",
       "\n",
       "   identity_hate  \n",
       "0       0.114179  \n",
       "1       0.000610  \n",
       "2       0.000760  \n",
       "3       0.000642  \n",
       "4       0.000721  "
      ]
     },
     "execution_count": 107,
     "metadata": {},
     "output_type": "execute_result"
    }
   ],
   "source": [
    "predict_SimpleRNN = model_SimpleRNN.predict(test_padded)\n",
    "\n",
    "target_cols = np.array(['toxic','severe_toxic','obscene', 'threat','insult', 'identity_hate'])\n",
    "final_predict_test = pd.concat([pd.DataFrame(predict_SimpleRNN, columns=target_cols)], 1)\n",
    "t1 = test['id']\n",
    "final_predict_test = pd.concat([t1,final_predict_test],1)\n",
    "final_predict_test.head()"
   ]
  },
  {
   "cell_type": "markdown",
   "metadata": {},
   "source": [
    "## Test"
   ]
  },
  {
   "cell_type": "code",
   "execution_count": 96,
   "metadata": {},
   "outputs": [],
   "source": [
    "text = np.array([\"you're fuckin nigger!\"])\n",
    "text = tokenizer.texts_to_sequences(text)"
   ]
  },
  {
   "cell_type": "code",
   "execution_count": 97,
   "metadata": {},
   "outputs": [
    {
     "name": "stdout",
     "output_type": "stream",
     "text": [
      "[0]\n"
     ]
    }
   ],
   "source": [
    "predicted_text = model_LSTM.predict_classes(text)\n",
    "print(predicted_text)"
   ]
  },
  {
   "cell_type": "code",
   "execution_count": 98,
   "metadata": {},
   "outputs": [
    {
     "name": "stdout",
     "output_type": "stream",
     "text": [
      "[0]\n"
     ]
    }
   ],
   "source": [
    "predicted_text = model_GRU.predict_classes(text)\n",
    "print(predicted_text)"
   ]
  },
  {
   "cell_type": "code",
   "execution_count": 99,
   "metadata": {},
   "outputs": [
    {
     "name": "stdout",
     "output_type": "stream",
     "text": [
      "[2]\n"
     ]
    }
   ],
   "source": [
    "predicted_text = model_SimpleRNN.predict_classes(text)\n",
    "print(predicted_text)"
   ]
  }
 ],
 "metadata": {
  "kernelspec": {
   "display_name": "Python 3",
   "language": "python",
   "name": "python3"
  },
  "language_info": {
   "codemirror_mode": {
    "name": "ipython",
    "version": 3
   },
   "file_extension": ".py",
   "mimetype": "text/x-python",
   "name": "python",
   "nbconvert_exporter": "python",
   "pygments_lexer": "ipython3",
   "version": "3.8.3"
  },
  "papermill": {
   "default_parameters": {},
   "duration": 1045.304424,
   "end_time": "2021-03-09T20:27:53.353386",
   "environment_variables": {},
   "exception": null,
   "input_path": "__notebook__.ipynb",
   "output_path": "__notebook__.ipynb",
   "parameters": {},
   "start_time": "2021-03-09T20:10:28.048962",
   "version": "2.2.2"
  }
 },
 "nbformat": 4,
 "nbformat_minor": 4
}
