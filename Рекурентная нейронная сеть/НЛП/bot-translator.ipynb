{
 "cells": [
  {
   "cell_type": "code",
   "execution_count": 3,
   "metadata": {
    "_cell_guid": "b1076dfc-b9ad-4769-8c92-a6c4dae69d19",
    "_kg_hide-input": true,
    "_kg_hide-output": true,
    "_uuid": "8f2839f25d086af736a60e9eeb907d3b93b6e0e5"
   },
   "outputs": [],
   "source": [
    "# This Python 3 environment comes with many helpful analytics libraries installed\n",
    "# It is defined by the kaggle/python docker image: https://github.com/kaggle/docker-python\n",
    "# For example, here's several helpful packages to load in \n",
    "\n",
    "import numpy as np # linear algebra\n",
    "import pandas as pd # data processing, CSV file I/O (e.g. pd.read_csv)\n",
    "\n",
    "# Input data files are available in the \"../input/\" directory.\n",
    "# For example, running this (by clicking run or pressing Shift+Enter) will list the files in the input directory\n",
    "\n",
    "import os\n",
    "\n",
    "# Any results you write to the current directory are saved as output."
   ]
  },
  {
   "cell_type": "markdown",
   "metadata": {
    "_uuid": "9d0fc470a746fcf07f76d09b0ee0cea46ebcfc4e"
   },
   "source": [
    "# Learning to speak French\n",
    "\n",
    "French is hard. But slowly, machines are getting good at translating English to French. This notebook is an adaptation of Francois Chollet's [A ten-minute introduction to sequence-to-sequence learning in Keras](https://blog.keras.io/a-ten-minute-introduction-to-sequence-to-sequence-learning-in-keras.html) with faster code, optimized for training on a GPU. Read his tutorial for a full overview of what is going on. I tried to comment the code well so that you can read along. "
   ]
  },
  {
   "cell_type": "code",
   "execution_count": 8,
   "metadata": {
    "_cell_guid": "79c7e3d0-c299-4dcb-8224-4455121ee9b0",
    "_kg_hide-output": true,
    "_uuid": "d629ff2d2480ee46fbb7e2d37f6b5fab8052498a"
   },
   "outputs": [],
   "source": [
    "from keras.models import Model\n",
    "from keras.layers import Input, LSTM, Dense\n",
    "import numpy as np\n",
    "\n",
    "from numpy.random import seed\n",
    "seed(1)"
   ]
  },
  {
   "cell_type": "code",
   "execution_count": 9,
   "metadata": {
    "_cell_guid": "fcd7da31-a545-41a8-ae89-376b2a8f25e8",
    "_uuid": "66c19897a47dc4565c6c24ed29d4dccada1f0d71"
   },
   "outputs": [],
   "source": [
    "batch_size = 64  # Batch size for training.\n",
    "epochs = 100  # Number of epochs to train for.\n",
    "latent_dim = 256  # Latent dimensionality of the encoding space.\n",
    "num_samples = 10000  # Number of samples to train on.\n",
    "# Path to the data txt file on disk.\n",
    "data_path = 'fra.txt'"
   ]
  },
  {
   "cell_type": "markdown",
   "metadata": {
    "_uuid": "4dad6ce5dfcb0935bf9722da247b50efacb11676"
   },
   "source": [
    "## The data\n",
    "The data is present in a tab delimited CSV file. To give it a quick overview we will load it with pandas:"
   ]
  },
  {
   "cell_type": "code",
   "execution_count": 10,
   "metadata": {
    "_uuid": "6c6891c41f2dfcd07554e5fc13eb7410dc432b4a"
   },
   "outputs": [],
   "source": [
    "df = pd.read_csv(data_path,delimiter='\\t')"
   ]
  },
  {
   "cell_type": "code",
   "execution_count": 11,
   "metadata": {
    "_uuid": "559cc4eb61559b022b732b38e3bbc6d8719fecd1"
   },
   "outputs": [
    {
     "data": {
      "text/html": [
       "<div>\n",
       "<style scoped>\n",
       "    .dataframe tbody tr th:only-of-type {\n",
       "        vertical-align: middle;\n",
       "    }\n",
       "\n",
       "    .dataframe tbody tr th {\n",
       "        vertical-align: top;\n",
       "    }\n",
       "\n",
       "    .dataframe thead th {\n",
       "        text-align: right;\n",
       "    }\n",
       "</style>\n",
       "<table border=\"1\" class=\"dataframe\">\n",
       "  <thead>\n",
       "    <tr style=\"text-align: right;\">\n",
       "      <th></th>\n",
       "      <th>Go.</th>\n",
       "      <th>Va !</th>\n",
       "    </tr>\n",
       "  </thead>\n",
       "  <tbody>\n",
       "    <tr>\n",
       "      <th>0</th>\n",
       "      <td>Run!</td>\n",
       "      <td>Cours !</td>\n",
       "    </tr>\n",
       "    <tr>\n",
       "      <th>1</th>\n",
       "      <td>Run!</td>\n",
       "      <td>Courez !</td>\n",
       "    </tr>\n",
       "    <tr>\n",
       "      <th>2</th>\n",
       "      <td>Wow!</td>\n",
       "      <td>Ça alors !</td>\n",
       "    </tr>\n",
       "    <tr>\n",
       "      <th>3</th>\n",
       "      <td>Fire!</td>\n",
       "      <td>Au feu !</td>\n",
       "    </tr>\n",
       "    <tr>\n",
       "      <th>4</th>\n",
       "      <td>Help!</td>\n",
       "      <td>À l'aide !</td>\n",
       "    </tr>\n",
       "    <tr>\n",
       "      <th>5</th>\n",
       "      <td>Jump.</td>\n",
       "      <td>Saute.</td>\n",
       "    </tr>\n",
       "    <tr>\n",
       "      <th>6</th>\n",
       "      <td>Stop!</td>\n",
       "      <td>Ça suffit !</td>\n",
       "    </tr>\n",
       "    <tr>\n",
       "      <th>7</th>\n",
       "      <td>Stop!</td>\n",
       "      <td>Stop !</td>\n",
       "    </tr>\n",
       "    <tr>\n",
       "      <th>8</th>\n",
       "      <td>Stop!</td>\n",
       "      <td>Arrête-toi !</td>\n",
       "    </tr>\n",
       "    <tr>\n",
       "      <th>9</th>\n",
       "      <td>Wait!</td>\n",
       "      <td>Attends !</td>\n",
       "    </tr>\n",
       "    <tr>\n",
       "      <th>10</th>\n",
       "      <td>Wait!</td>\n",
       "      <td>Attendez !</td>\n",
       "    </tr>\n",
       "    <tr>\n",
       "      <th>11</th>\n",
       "      <td>I see.</td>\n",
       "      <td>Je comprends.</td>\n",
       "    </tr>\n",
       "    <tr>\n",
       "      <th>12</th>\n",
       "      <td>I try.</td>\n",
       "      <td>J'essaye.</td>\n",
       "    </tr>\n",
       "    <tr>\n",
       "      <th>13</th>\n",
       "      <td>I won!</td>\n",
       "      <td>J'ai gagné !</td>\n",
       "    </tr>\n",
       "    <tr>\n",
       "      <th>14</th>\n",
       "      <td>I won!</td>\n",
       "      <td>Je l'ai emporté !</td>\n",
       "    </tr>\n",
       "    <tr>\n",
       "      <th>15</th>\n",
       "      <td>Oh no!</td>\n",
       "      <td>Oh non !</td>\n",
       "    </tr>\n",
       "    <tr>\n",
       "      <th>16</th>\n",
       "      <td>Attack!</td>\n",
       "      <td>Attaque !</td>\n",
       "    </tr>\n",
       "    <tr>\n",
       "      <th>17</th>\n",
       "      <td>Attack!</td>\n",
       "      <td>Attaquez !</td>\n",
       "    </tr>\n",
       "    <tr>\n",
       "      <th>18</th>\n",
       "      <td>Cheers!</td>\n",
       "      <td>Santé !</td>\n",
       "    </tr>\n",
       "    <tr>\n",
       "      <th>19</th>\n",
       "      <td>Cheers!</td>\n",
       "      <td>À votre santé !</td>\n",
       "    </tr>\n",
       "  </tbody>\n",
       "</table>\n",
       "</div>"
      ],
      "text/plain": [
       "        Go.               Va !\n",
       "0      Run!            Cours !\n",
       "1      Run!           Courez !\n",
       "2      Wow!         Ça alors !\n",
       "3     Fire!           Au feu !\n",
       "4     Help!         À l'aide !\n",
       "5     Jump.             Saute.\n",
       "6     Stop!        Ça suffit !\n",
       "7     Stop!             Stop !\n",
       "8     Stop!       Arrête-toi !\n",
       "9     Wait!          Attends !\n",
       "10    Wait!         Attendez !\n",
       "11   I see.      Je comprends.\n",
       "12   I try.          J'essaye.\n",
       "13   I won!       J'ai gagné !\n",
       "14   I won!  Je l'ai emporté !\n",
       "15   Oh no!           Oh non !\n",
       "16  Attack!          Attaque !\n",
       "17  Attack!         Attaquez !\n",
       "18  Cheers!            Santé !\n",
       "19  Cheers!    À votre santé !"
      ]
     },
     "execution_count": 11,
     "metadata": {},
     "output_type": "execute_result"
    }
   ],
   "source": [
    "df.head(20)"
   ]
  },
  {
   "cell_type": "code",
   "execution_count": 12,
   "metadata": {
    "_uuid": "b4402602262a7d854cbb664985e4ea0377083b9e"
   },
   "outputs": [],
   "source": [
    "del df # Save memory"
   ]
  },
  {
   "cell_type": "markdown",
   "metadata": {
    "_uuid": "ba16c99cab41ed4b7e2ca43da18e77ada52fd6dd"
   },
   "source": [
    "## Vectorizing data"
   ]
  },
  {
   "cell_type": "code",
   "execution_count": 17,
   "metadata": {
    "_cell_guid": "ea0e2e7f-f65e-4fe6-b75e-304efb56f04f",
    "_uuid": "06a6c35f13c93a188005227a3b98fc9b7b21a201"
   },
   "outputs": [
    {
     "name": "stdout",
     "output_type": "stream",
     "text": [
      "Number of samples: 10000\n"
     ]
    }
   ],
   "source": [
    "# Vectorize the data.\n",
    "input_texts = []\n",
    "target_texts = []\n",
    "input_characters = set()\n",
    "target_characters = set()\n",
    "\n",
    "# Loop over lines\n",
    "lines = open(data_path, encoding='utf-8').read().split('\\n')\n",
    "for line in lines[: min(num_samples, len(lines) - 1)]:\n",
    "    # Input and target are split by tabs\n",
    "    # English TAB French\n",
    "    input_text, target_text = line.split('\\t')\n",
    "    \n",
    "    # We use \"tab\" as the \"start sequence\" character\n",
    "    # for the targets, and \"\\n\" as \"end sequence\" character.\n",
    "    target_text = '\\t' + target_text + '\\n'\n",
    "    input_texts.append(input_text)\n",
    "    target_texts.append(target_text)\n",
    "    \n",
    "    # Create a set of all unique characters in the input\n",
    "    for char in input_text:\n",
    "        if char not in input_characters:\n",
    "            input_characters.add(char)\n",
    "            \n",
    "    # Create a set of all unique output characters\n",
    "    for char in target_text:\n",
    "        if char not in target_characters:\n",
    "            target_characters.add(char)\n",
    "\n",
    "print('Number of samples:', len(input_texts))"
   ]
  },
  {
   "cell_type": "code",
   "execution_count": 18,
   "metadata": {
    "_cell_guid": "de998ecc-341a-4a47-830a-1dc20f0ae904",
    "_uuid": "555c970d2117022365512bf3d84246a909f44fc2"
   },
   "outputs": [
    {
     "name": "stdout",
     "output_type": "stream",
     "text": [
      "Number of unique input tokens: 71\n",
      "Number of unique output tokens: 93\n"
     ]
    }
   ],
   "source": [
    "input_characters = sorted(list(input_characters)) # Make sure we achieve the same order in our input chars\n",
    "target_characters = sorted(list(target_characters))\n",
    "num_encoder_tokens = len(input_characters) # aka size of the english alphabet + numbers, signs, etc.\n",
    "num_decoder_tokens = len(target_characters) # aka size of the french alphabet + numbers, signs, etc.\n",
    "\n",
    "\n",
    "print('Number of unique input tokens:', num_encoder_tokens)\n",
    "print('Number of unique output tokens:', num_decoder_tokens)"
   ]
  },
  {
   "cell_type": "code",
   "execution_count": 19,
   "metadata": {
    "_cell_guid": "b99e23e7-2faa-4ce7-a6f3-784e02ef46c7",
    "_uuid": "a52af2a93fd956dd9a33c02baf3aa5a73bd7a1ec"
   },
   "outputs": [],
   "source": [
    "# This works very similar to a tokenizer\n",
    "# The index maps a character to a number\n",
    "input_token_index = {char: i for i, char in enumerate(input_characters)}\n",
    "target_token_index = {char: i for i, char in enumerate(target_characters)}"
   ]
  },
  {
   "cell_type": "code",
   "execution_count": 20,
   "metadata": {
    "_cell_guid": "76afcd7b-23bd-44c3-b3fb-978cba081f21",
    "_uuid": "43f7153aa4595b48da4338c300712a7c16fcfa01"
   },
   "outputs": [
    {
     "name": "stdout",
     "output_type": "stream",
     "text": [
      "63 51 48 0 46 44 63 0 62 52 63 62 0 58 57 0 63 51 48 0 56 44 63 "
     ]
    }
   ],
   "source": [
    "# Demo character tokenization\n",
    "for c in 'the cat sits on the mat':\n",
    "    print(input_token_index[c], end = ' ')"
   ]
  },
  {
   "cell_type": "code",
   "execution_count": 21,
   "metadata": {
    "_cell_guid": "7d4ad6ea-17fc-479a-87fe-3822fdd161c2",
    "_uuid": "b88478d0f15b9642f905395d8c45445f628719b2"
   },
   "outputs": [
    {
     "name": "stdout",
     "output_type": "stream",
     "text": [
      "Max sequence length for inputs: 16\n",
      "Max sequence length for outputs: 59\n"
     ]
    }
   ],
   "source": [
    "max_encoder_seq_length = max([len(txt) for txt in input_texts]) # Get longest sequences length\n",
    "max_decoder_seq_length = max([len(txt) for txt in target_texts])\n",
    "\n",
    "print('Max sequence length for inputs:', max_encoder_seq_length)\n",
    "print('Max sequence length for outputs:', max_decoder_seq_length)"
   ]
  },
  {
   "cell_type": "code",
   "execution_count": 22,
   "metadata": {
    "_cell_guid": "2c39c2c1-072c-4e5c-99bd-e13a62ebed04",
    "_uuid": "7231966fbdb13bffb3805d69856d354acb1d15ce"
   },
   "outputs": [],
   "source": [
    "# encoder_input_data is a 3D array of shape (num_pairs, max_english_sentence_length, num_english_characters) \n",
    "# containing a one-hot vectorization of the English sentences.\n",
    "\n",
    "encoder_input_data = np.zeros(\n",
    "    (len(input_texts), max_encoder_seq_length, num_encoder_tokens),\n",
    "    dtype='float32')\n",
    "\n",
    "# decoder_input_data is a 3D array of shape (num_pairs, max_french_sentence_length, num_french_characters) \n",
    "# containg a one-hot vectorization of the French sentences.\n",
    "\n",
    "decoder_input_data = np.zeros(\n",
    "    (len(input_texts), max_decoder_seq_length, num_decoder_tokens),\n",
    "    dtype='float32')\n",
    "\n",
    "# decoder_target_data is the same as decoder_input_data but offset by one timestep. \n",
    "# decoder_target_data[:, t, :] will be the same as decoder_input_data[:, t + 1, :]\n",
    "\n",
    "decoder_target_data = np.zeros(\n",
    "    (len(input_texts), max_decoder_seq_length, num_decoder_tokens),\n",
    "    dtype='float32')"
   ]
  },
  {
   "cell_type": "code",
   "execution_count": 23,
   "metadata": {
    "_cell_guid": "8d1014c8-82a6-4988-a31e-33bd3498b585",
    "_uuid": "d12785864708eaa8feec3b7aba862b02bec76e3b"
   },
   "outputs": [],
   "source": [
    "# Loop over input texts\n",
    "for i, (input_text, target_text) in enumerate(zip(input_texts, target_texts)):\n",
    "    # Loop over each char in an input text\n",
    "    for t, char in enumerate(input_text):\n",
    "        # Create one hot encoding by setting the index to 1\n",
    "        encoder_input_data[i, t, input_token_index[char]] = 1.\n",
    "    # Loop over each char in the output text\n",
    "    for t, char in enumerate(target_text):\n",
    "        # decoder_target_data is ahead of decoder_input_data by one timestep\n",
    "        decoder_input_data[i, t, target_token_index[char]] = 1.\n",
    "        if t > 0:\n",
    "            # decoder_target_data will be ahead by one timestep\n",
    "            # and will not include the start character.\n",
    "            decoder_target_data[i, t - 1, target_token_index[char]] = 1."
   ]
  },
  {
   "cell_type": "code",
   "execution_count": 25,
   "metadata": {
    "_cell_guid": "909d7eb1-54f5-4b96-8745-34080104dcc4",
    "_uuid": "14f0c33f929a0ef7aaf1fa23cff824ecb4b4fe6f"
   },
   "outputs": [],
   "source": [
    "\n",
    "# Define an input sequence and process it.\n",
    "encoder_inputs = Input(shape=(None, num_encoder_tokens), \n",
    "                       name = 'encoder_inputs')\n",
    "\n",
    "# The return_state contructor argument, configuring a RNN layer to return a list \n",
    "# where the first entry is the outputs and the next entries are the internal RNN states. \n",
    "# This is used to recover the states of the encoder.\n",
    "encoder = LSTM(latent_dim, \n",
    "                    return_state=True, \n",
    "                    name = 'encoder')\n",
    "\n",
    "encoder_outputs, state_h, state_c = encoder(encoder_inputs)\n",
    "# We discard `encoder_outputs` and only keep the states.\n",
    "encoder_states = [state_h, state_c]\n",
    "\n",
    "# Set up the decoder, using `encoder_states` as initial state.\n",
    "decoder_inputs = Input(shape=(None, num_decoder_tokens), \n",
    "                       name = 'decoder_inputs')\n",
    "\n",
    "# We set up our decoder to return full output sequences,\n",
    "# and to return internal states as well. We don't use the\n",
    "# return states in the training model, but we will use them in inference.\n",
    "decoder_lstm = LSTM(latent_dim, \n",
    "                         return_sequences=True, \n",
    "                         return_state=True, \n",
    "                         name = 'decoder_lstm')\n",
    "\n",
    "# The inital_state call argument, specifying the initial state(s) of a RNN. \n",
    "# This is used to pass the encoder states to the decoder as initial states.\n",
    "# Basically making the first memory of the decoder the encoded semantics\n",
    "decoder_outputs, _, _ = decoder_lstm(decoder_inputs,\n",
    "                                     initial_state=encoder_states)\n",
    "\n",
    "decoder_dense = Dense(num_decoder_tokens, \n",
    "                      activation='softmax', \n",
    "                      name = 'decoder_dense')\n",
    "decoder_outputs = decoder_dense(decoder_outputs)\n",
    "\n",
    "# Define the model that will turn\n",
    "# `encoder_input_data` & `decoder_input_data` into `decoder_target_data`\n",
    "model = Model([encoder_inputs, decoder_inputs], decoder_outputs)"
   ]
  },
  {
   "cell_type": "code",
   "execution_count": 26,
   "metadata": {
    "_cell_guid": "1e70cde9-4c5d-4de2-8f41-90a7c5bd3475",
    "_kg_hide-output": true,
    "_uuid": "72492095eea44a02d9f392b2274606382cf11f64",
    "scrolled": true
   },
   "outputs": [
    {
     "name": "stdout",
     "output_type": "stream",
     "text": [
      "Epoch 1/100\n",
      "125/125 [==============================] - 33s 263ms/step - loss: 0.9309 - val_loss: 0.9809\n",
      "Epoch 2/100\n",
      "125/125 [==============================] - 30s 236ms/step - loss: 0.7393 - val_loss: 0.7932\n",
      "Epoch 3/100\n",
      "125/125 [==============================] - 26s 207ms/step - loss: 0.6257 - val_loss: 0.7130\n",
      "Epoch 4/100\n",
      "125/125 [==============================] - 20s 159ms/step - loss: 0.5712 - val_loss: 0.6630\n",
      "Epoch 5/100\n",
      "125/125 [==============================] - 20s 161ms/step - loss: 0.5299 - val_loss: 0.6463\n",
      "Epoch 6/100\n",
      "125/125 [==============================] - 20s 162ms/step - loss: 0.4969 - val_loss: 0.6077\n",
      "Epoch 7/100\n",
      "125/125 [==============================] - 20s 159ms/step - loss: 0.4699 - val_loss: 0.5815\n",
      "Epoch 8/100\n",
      "125/125 [==============================] - 20s 161ms/step - loss: 0.4470 - val_loss: 0.5634\n",
      "Epoch 9/100\n",
      "125/125 [==============================] - 20s 159ms/step - loss: 0.4268 - val_loss: 0.5537\n",
      "Epoch 10/100\n",
      "125/125 [==============================] - 20s 158ms/step - loss: 0.4093 - val_loss: 0.5426\n",
      "Epoch 11/100\n",
      "125/125 [==============================] - 20s 163ms/step - loss: 0.3929 - val_loss: 0.5287\n",
      "Epoch 12/100\n",
      "125/125 [==============================] - 21s 165ms/step - loss: 0.3782 - val_loss: 0.5248\n",
      "Epoch 13/100\n",
      "125/125 [==============================] - 29s 235ms/step - loss: 0.3644 - val_loss: 0.5106\n",
      "Epoch 14/100\n",
      "125/125 [==============================] - 31s 247ms/step - loss: 0.3517 - val_loss: 0.5075\n",
      "Epoch 15/100\n",
      "125/125 [==============================] - 30s 239ms/step - loss: 0.3388 - val_loss: 0.4996\n",
      "Epoch 16/100\n",
      "125/125 [==============================] - 29s 235ms/step - loss: 0.3276 - val_loss: 0.4951\n",
      "Epoch 17/100\n",
      "125/125 [==============================] - 23s 187ms/step - loss: 0.3165 - val_loss: 0.4959\n",
      "Epoch 18/100\n",
      "125/125 [==============================] - 20s 159ms/step - loss: 0.3063 - val_loss: 0.4873\n",
      "Epoch 19/100\n",
      "125/125 [==============================] - 21s 167ms/step - loss: 0.2965 - val_loss: 0.4879\n",
      "Epoch 20/100\n",
      "125/125 [==============================] - 21s 164ms/step - loss: 0.2869 - val_loss: 0.4883\n",
      "Epoch 21/100\n",
      "125/125 [==============================] - 21s 167ms/step - loss: 0.2777 - val_loss: 0.4845\n",
      "Epoch 22/100\n",
      "125/125 [==============================] - 20s 157ms/step - loss: 0.2693 - val_loss: 0.4877\n",
      "Epoch 23/100\n",
      "125/125 [==============================] - 19s 154ms/step - loss: 0.2609 - val_loss: 0.4876\n",
      "Epoch 24/100\n",
      "125/125 [==============================] - 20s 157ms/step - loss: 0.2527 - val_loss: 0.4883\n",
      "Epoch 25/100\n",
      "125/125 [==============================] - 19s 155ms/step - loss: 0.2454 - val_loss: 0.4890\n",
      "Epoch 26/100\n",
      "125/125 [==============================] - 20s 162ms/step - loss: 0.2376 - val_loss: 0.4955\n",
      "Epoch 27/100\n",
      "125/125 [==============================] - 29s 232ms/step - loss: 0.2308 - val_loss: 0.4930\n",
      "Epoch 28/100\n",
      "125/125 [==============================] - 28s 222ms/step - loss: 0.2245 - val_loss: 0.4961\n",
      "Epoch 29/100\n",
      "125/125 [==============================] - 27s 219ms/step - loss: 0.2178 - val_loss: 0.5002\n",
      "Epoch 30/100\n",
      "125/125 [==============================] - 27s 220ms/step - loss: 0.2112 - val_loss: 0.5021\n",
      "Epoch 31/100\n",
      "125/125 [==============================] - 21s 170ms/step - loss: 0.2055 - val_loss: 0.5028\n",
      "Epoch 32/100\n",
      "125/125 [==============================] - 20s 158ms/step - loss: 0.1996 - val_loss: 0.5119\n",
      "Epoch 33/100\n",
      "125/125 [==============================] - 19s 155ms/step - loss: 0.1940 - val_loss: 0.5098\n",
      "Epoch 34/100\n",
      "125/125 [==============================] - 20s 157ms/step - loss: 0.1885 - val_loss: 0.5137\n",
      "Epoch 35/100\n",
      "125/125 [==============================] - 20s 157ms/step - loss: 0.1834 - val_loss: 0.5183\n",
      "Epoch 36/100\n",
      "125/125 [==============================] - 19s 151ms/step - loss: 0.1784 - val_loss: 0.5261\n",
      "Epoch 37/100\n",
      "125/125 [==============================] - 19s 156ms/step - loss: 0.1733 - val_loss: 0.5274\n",
      "Epoch 38/100\n",
      "125/125 [==============================] - 20s 157ms/step - loss: 0.1690 - val_loss: 0.5351\n",
      "Epoch 39/100\n",
      "125/125 [==============================] - 19s 153ms/step - loss: 0.1650 - val_loss: 0.5375\n",
      "Epoch 40/100\n",
      "125/125 [==============================] - 24s 191ms/step - loss: 0.1607 - val_loss: 0.5411\n",
      "Epoch 41/100\n",
      "125/125 [==============================] - 28s 221ms/step - loss: 0.1562 - val_loss: 0.5457\n",
      "Epoch 42/100\n",
      "125/125 [==============================] - 28s 223ms/step - loss: 0.1528 - val_loss: 0.5517\n",
      "Epoch 43/100\n",
      "125/125 [==============================] - 28s 224ms/step - loss: 0.1488 - val_loss: 0.5589\n",
      "Epoch 44/100\n",
      "125/125 [==============================] - 26s 206ms/step - loss: 0.1449 - val_loss: 0.5593\n",
      "Epoch 45/100\n",
      "125/125 [==============================] - 20s 158ms/step - loss: 0.1417 - val_loss: 0.5610\n",
      "Epoch 46/100\n",
      "125/125 [==============================] - 20s 159ms/step - loss: 0.1383 - val_loss: 0.5652\n",
      "Epoch 47/100\n",
      "125/125 [==============================] - 20s 163ms/step - loss: 0.1348 - val_loss: 0.5766\n",
      "Epoch 48/100\n",
      "125/125 [==============================] - 21s 167ms/step - loss: 0.1318 - val_loss: 0.5804\n",
      "Epoch 49/100\n",
      "125/125 [==============================] - 20s 162ms/step - loss: 0.1287 - val_loss: 0.5858\n",
      "Epoch 50/100\n",
      "125/125 [==============================] - 20s 157ms/step - loss: 0.1258 - val_loss: 0.5871\n",
      "Epoch 51/100\n",
      "125/125 [==============================] - 20s 161ms/step - loss: 0.1232 - val_loss: 0.5958\n",
      "Epoch 52/100\n",
      "125/125 [==============================] - 19s 156ms/step - loss: 0.1203 - val_loss: 0.5968\n",
      "Epoch 53/100\n",
      "125/125 [==============================] - 20s 158ms/step - loss: 0.1180 - val_loss: 0.6033\n",
      "Epoch 54/100\n",
      "125/125 [==============================] - 29s 231ms/step - loss: 0.1152 - val_loss: 0.6082\n",
      "Epoch 55/100\n",
      "125/125 [==============================] - 29s 232ms/step - loss: 0.1127 - val_loss: 0.6135\n",
      "Epoch 56/100\n",
      "125/125 [==============================] - 28s 221ms/step - loss: 0.1099 - val_loss: 0.6198\n",
      "Epoch 57/100\n",
      "125/125 [==============================] - 28s 223ms/step - loss: 0.1080 - val_loss: 0.6237\n",
      "Epoch 58/100\n",
      "125/125 [==============================] - 22s 178ms/step - loss: 0.1062 - val_loss: 0.6292\n",
      "Epoch 59/100\n",
      "125/125 [==============================] - 20s 159ms/step - loss: 0.1036 - val_loss: 0.6326\n",
      "Epoch 60/100\n",
      "125/125 [==============================] - 20s 160ms/step - loss: 0.1014 - val_loss: 0.6394\n",
      "Epoch 61/100\n",
      "125/125 [==============================] - 19s 151ms/step - loss: 0.0994 - val_loss: 0.6373\n",
      "Epoch 62/100\n",
      "125/125 [==============================] - 20s 164ms/step - loss: 0.0976 - val_loss: 0.6425\n",
      "Epoch 63/100\n",
      "125/125 [==============================] - 20s 160ms/step - loss: 0.0956 - val_loss: 0.6513\n",
      "Epoch 64/100\n",
      "125/125 [==============================] - 20s 162ms/step - loss: 0.0940 - val_loss: 0.6616\n",
      "Epoch 65/100\n",
      "125/125 [==============================] - 20s 158ms/step - loss: 0.0919 - val_loss: 0.6623\n",
      "Epoch 66/100\n",
      "125/125 [==============================] - 19s 155ms/step - loss: 0.0901 - val_loss: 0.6718\n",
      "Epoch 67/100\n",
      "125/125 [==============================] - 24s 193ms/step - loss: 0.0886 - val_loss: 0.6772\n",
      "Epoch 68/100\n",
      "125/125 [==============================] - 28s 227ms/step - loss: 0.0868 - val_loss: 0.6804\n",
      "Epoch 69/100\n",
      "125/125 [==============================] - 29s 236ms/step - loss: 0.0856 - val_loss: 0.6805\n",
      "Epoch 70/100\n",
      "125/125 [==============================] - 29s 233ms/step - loss: 0.0835 - val_loss: 0.6864\n",
      "Epoch 71/100\n",
      "125/125 [==============================] - 26s 205ms/step - loss: 0.0824 - val_loss: 0.6886\n",
      "Epoch 72/100\n",
      "125/125 [==============================] - 19s 154ms/step - loss: 0.0807 - val_loss: 0.6932\n",
      "Epoch 73/100\n",
      "125/125 [==============================] - 19s 154ms/step - loss: 0.0792 - val_loss: 0.6961\n",
      "Epoch 74/100\n",
      "125/125 [==============================] - 20s 163ms/step - loss: 0.0779 - val_loss: 0.7005\n",
      "Epoch 75/100\n",
      "125/125 [==============================] - 20s 161ms/step - loss: 0.0770 - val_loss: 0.7039\n",
      "Epoch 76/100\n",
      "125/125 [==============================] - 21s 167ms/step - loss: 0.0754 - val_loss: 0.7134\n",
      "Epoch 77/100\n",
      "125/125 [==============================] - 21s 171ms/step - loss: 0.0741 - val_loss: 0.7126\n",
      "Epoch 78/100\n",
      "125/125 [==============================] - 21s 168ms/step - loss: 0.0728 - val_loss: 0.7183\n",
      "Epoch 79/100\n"
     ]
    },
    {
     "name": "stdout",
     "output_type": "stream",
     "text": [
      "125/125 [==============================] - 21s 169ms/step - loss: 0.0718 - val_loss: 0.7211\n",
      "Epoch 80/100\n",
      "125/125 [==============================] - 21s 167ms/step - loss: 0.0703 - val_loss: 0.7221\n",
      "Epoch 81/100\n",
      "125/125 [==============================] - 29s 229ms/step - loss: 0.0695 - val_loss: 0.7236\n",
      "Epoch 82/100\n",
      "125/125 [==============================] - 30s 241ms/step - loss: 0.0684 - val_loss: 0.7359\n",
      "Epoch 83/100\n",
      "125/125 [==============================] - 28s 225ms/step - loss: 0.0671 - val_loss: 0.7421\n",
      "Epoch 84/100\n",
      "125/125 [==============================] - 28s 227ms/step - loss: 0.0664 - val_loss: 0.7374\n",
      "Epoch 85/100\n",
      "125/125 [==============================] - 23s 185ms/step - loss: 0.0653 - val_loss: 0.7451\n",
      "Epoch 86/100\n",
      "125/125 [==============================] - 20s 158ms/step - loss: 0.0642 - val_loss: 0.7524\n",
      "Epoch 87/100\n",
      "125/125 [==============================] - 21s 166ms/step - loss: 0.0633 - val_loss: 0.7528\n",
      "Epoch 88/100\n",
      "125/125 [==============================] - 19s 152ms/step - loss: 0.0622 - val_loss: 0.7542\n",
      "Epoch 89/100\n",
      "125/125 [==============================] - 19s 155ms/step - loss: 0.0614 - val_loss: 0.7575\n",
      "Epoch 90/100\n",
      "125/125 [==============================] - 22s 177ms/step - loss: 0.0606 - val_loss: 0.7573\n",
      "Epoch 91/100\n",
      "125/125 [==============================] - 19s 155ms/step - loss: 0.0598 - val_loss: 0.7688\n",
      "Epoch 92/100\n",
      "125/125 [==============================] - 19s 154ms/step - loss: 0.0589 - val_loss: 0.7639\n",
      "Epoch 93/100\n",
      "125/125 [==============================] - 20s 163ms/step - loss: 0.0580 - val_loss: 0.7804\n",
      "Epoch 94/100\n",
      "125/125 [==============================] - 21s 169ms/step - loss: 0.0570 - val_loss: 0.7776\n",
      "Epoch 95/100\n",
      "125/125 [==============================] - 30s 239ms/step - loss: 0.0562 - val_loss: 0.7837\n",
      "Epoch 96/100\n",
      "125/125 [==============================] - 30s 243ms/step - loss: 0.0554 - val_loss: 0.7812\n",
      "Epoch 97/100\n",
      "125/125 [==============================] - 31s 249ms/step - loss: 0.0545 - val_loss: 0.7873\n",
      "Epoch 98/100\n",
      "125/125 [==============================] - 33s 260ms/step - loss: 0.0541 - val_loss: 0.7918\n",
      "Epoch 99/100\n",
      "125/125 [==============================] - 25s 198ms/step - loss: 0.0535 - val_loss: 0.7941\n",
      "Epoch 100/100\n",
      "125/125 [==============================] - 21s 170ms/step - loss: 0.0527 - val_loss: 0.8002\n"
     ]
    }
   ],
   "source": [
    "# Run training\n",
    "model.compile(optimizer='rmsprop', loss='categorical_crossentropy')\n",
    "history = model.fit([encoder_input_data, decoder_input_data], \n",
    "                    decoder_target_data,\n",
    "                    batch_size=batch_size,\n",
    "                    epochs=epochs,\n",
    "                    validation_split=0.2)\n",
    "# Save model\n",
    "#model.save('s2s.h5')"
   ]
  },
  {
   "cell_type": "markdown",
   "metadata": {
    "_uuid": "5979b64e11875088255f5d91c9665a4418a46b08"
   },
   "source": [
    "## Evaluating the model\n",
    "This model overfits quite a bit. It is only useful for demo purposes, for a more serious translator, consider working with word vectors and training on the full dataset."
   ]
  },
  {
   "cell_type": "code",
   "execution_count": 35,
   "metadata": {
    "_cell_guid": "55d758b0-b642-4974-b028-82f920d4602b",
    "_uuid": "ca7c6f484ebbe4aed426744aa2197cf194c3ba26"
   },
   "outputs": [
    {
     "data": {
      "image/png": "[encoded data removed]",
      "text/plain": [
       "<Figure size 720x504 with 1 Axes>"
      ]
     },
     "metadata": {
      "needs_background": "light"
     },
     "output_type": "display_data"
    }
   ],
   "source": [
    "import matplotlib.pyplot as plt\n",
    "plt.figure(figsize=(10,7))\n",
    "a, = plt.plot(history.history['loss'],label='Training Loss')\n",
    "b, = plt.plot(history.history['val_loss'],label='Validation Loss')\n",
    "plt.legend(handles=[a,b])\n",
    "plt.show()"
   ]
  },
  {
   "cell_type": "markdown",
   "metadata": {
    "_cell_guid": "2ad8f7e4-72a4-4884-8be4-d9fb4e1bd126",
    "_uuid": "61c95ebe8356e8f91cd8affc10e14acc1596421d"
   },
   "source": [
    "# Creating inference models"
   ]
  },
  {
   "cell_type": "code",
   "execution_count": 36,
   "metadata": {
    "_cell_guid": "239a7196-6485-4f65-8dea-4ca1a9aa87df",
    "_uuid": "1c10010e6db47a30edd82bee80e77a0241a79fcf"
   },
   "outputs": [],
   "source": [
    "# Define encoder model\n",
    "encoder_model = Model(encoder_inputs, encoder_states)"
   ]
  },
  {
   "cell_type": "code",
   "execution_count": 37,
   "metadata": {
    "_cell_guid": "bb95b6a7-772b-458a-bd23-411e98e32205",
    "_uuid": "343f0049794312cf4fd1511c5f34ce36a9e26982"
   },
   "outputs": [],
   "source": [
    "# Define decoder model\n",
    "\n",
    "# Inputs from the encoder\n",
    "decoder_state_input_h = Input(shape=(latent_dim,))\n",
    "decoder_state_input_c = Input(shape=(latent_dim,))\n",
    "\n",
    "# Create a combined memory to input into the decoder\n",
    "decoder_states_inputs = [decoder_state_input_h, decoder_state_input_c]\n",
    "\n",
    "# Decoder\n",
    "decoder_outputs, state_h, state_c = decoder_lstm(\n",
    "    decoder_inputs, initial_state=decoder_states_inputs)\n",
    "decoder_states = [state_h, state_c]\n",
    "\n",
    "# Predict next char\n",
    "decoder_outputs = decoder_dense(decoder_outputs)\n",
    "\n",
    "# The model takes in the encoder memory plus it's own memory as an input and spits out \n",
    "# a prediction plus its own memory to be used for the next char\n",
    "decoder_model = Model(\n",
    "    [decoder_inputs] + decoder_states_inputs,\n",
    "    [decoder_outputs] + decoder_states)"
   ]
  },
  {
   "cell_type": "code",
   "execution_count": 38,
   "metadata": {
    "_cell_guid": "5f19066a-c7e4-421b-a6cf-a2f463fd75fb",
    "_uuid": "c3c1dd185d7e8532f088903bf634f6c14d18fb2d"
   },
   "outputs": [],
   "source": [
    "# Reverse-lookup token index to decode sequences back to\n",
    "# something readable.\n",
    "reverse_input_char_index = {i: char \n",
    "                            for char, i in input_token_index.items()}\n",
    "reverse_target_char_index = {i: char \n",
    "                             for char, i in target_token_index.items()}"
   ]
  },
  {
   "cell_type": "code",
   "execution_count": 39,
   "metadata": {
    "_cell_guid": "d6e067d6-e27f-47e9-b36d-8c8469fef085",
    "_uuid": "a1b14b5e6f0a1c34d6ffd3a27b302e79c0d31ea5"
   },
   "outputs": [],
   "source": [
    "def bot(my_text):\n",
    "    input_seq = np.zeros((1,len(my_text)+10,num_encoder_tokens))\n",
    "    for i, char in enumerate(my_text):\n",
    "        input_seq[0,i,input_token_index[char]] = 1\n",
    "    # Encode the input as state vectors.\n",
    "    states_value = encoder_model.predict(input_seq)\n",
    "\n",
    "    # Generate empty target sequence of length 1.\n",
    "    target_seq = np.zeros((1, 1, num_decoder_tokens))\n",
    "    # Populate the first character of target sequence with the start character.\n",
    "    target_seq[0, 0, target_token_index['\\t']] = 1.\n",
    "\n",
    "    # Sampling loop for a batch of sequences\n",
    "    # (to simplify, here we assume a batch of size 1).\n",
    "    stop_condition = False\n",
    "    decoded_sentence = ''\n",
    "    \n",
    "    # Loop untill we recieve a stop sign\n",
    "    while not stop_condition:\n",
    "        # Get output and internal states of the decoder \n",
    "        output_tokens, h, c = decoder_model.predict(\n",
    "            [target_seq] + states_value)\n",
    "\n",
    "        # Get the predicted token (the token with the highest score)\n",
    "        sampled_token_index = np.argmax(output_tokens[0, -1, :])\n",
    "        # Get the character belonging to the token\n",
    "        sampled_char = reverse_target_char_index[sampled_token_index]\n",
    "        # Append char to output\n",
    "        decoded_sentence += sampled_char\n",
    "\n",
    "        # Exit condition: either hit max length\n",
    "        # or find stop character.\n",
    "        if (sampled_char == '\\n' or\n",
    "           len(decoded_sentence) > max_decoder_seq_length):\n",
    "            stop_condition = True\n",
    "\n",
    "        # Update the target sequence (of length 1).\n",
    "        target_seq = np.zeros((1, 1, num_decoder_tokens))\n",
    "        target_seq[0, 0, sampled_token_index] = 1.\n",
    "\n",
    "        # Update states\n",
    "        states_value = [h, c]\n",
    "\n",
    "    return decoded_sentence"
   ]
  },
  {
   "cell_type": "markdown",
   "metadata": {
    "_uuid": "96c02bf34edb09a51cefa1e34ed3425e96fd69eb"
   },
   "source": [
    "## Giving it a spin\n"
   ]
  },
  {
   "cell_type": "code",
   "execution_count": 40,
   "metadata": {
    "_cell_guid": "5f27b5be-c657-4b6e-8484-d53615f3fab8",
    "_uuid": "510249e948055ee16fe81474b22eafd3055bd310"
   },
   "outputs": [],
   "source": [
    "from telegram.ext import Updater, CommandHandler, MessageHandler, Filters\n",
    "\n",
    "\n",
    "def start(update, context):\n",
    "    \"\"\"Send a message when the command /start is issued.\"\"\"\n",
    "    update.message.reply_text('Hi!')\n",
    "\n",
    "\n",
    "def help_command(update, context):\n",
    "    \"\"\"Send a message when the command /help is issued.\"\"\"\n",
    "    update.message.reply_text('Help!')\n",
    "\n",
    "\n",
    "def echo(update, context):\n",
    "    \"\"\"Echo the user message.\"\"\"\n",
    "    question = update.message.text\n",
    "    answer = bot(question)\n",
    "    update.message.reply_text(answer)\n",
    "    print(question)\n",
    "    print(answer)\n",
    "    print(stats)\n",
    "    print()\n",
    "\n",
    "\n",
    "def main():\n",
    "    \"\"\"Start the bot.\"\"\"\n",
    "    updater = Updater(\"1796744208:AAFCkFDvdC9CO-uNh2UjcktokjntlKUBQX0\", use_context=True)\n",
    "\n",
    "    dp = updater.dispatcher\n",
    "    dp.add_handler(CommandHandler(\"start\", start))\n",
    "    dp.add_handler(CommandHandler(\"help\", help_command))\n",
    "    dp.add_handler(MessageHandler(Filters.text & ~Filters.command, echo))\n",
    "\n",
    "    updater.start_polling()\n",
    "    updater.idle()"
   ]
  },
  {
   "cell_type": "code",
   "execution_count": null,
   "metadata": {
    "_uuid": "a7236af49fd8aaf72db105ec3d482687f4ae297a"
   },
   "outputs": [],
   "source": [
    "main()"
   ]
  },
  {
   "cell_type": "code",
   "execution_count": null,
   "metadata": {},
   "outputs": [],
   "source": []
  }
 ],
 "metadata": {
  "kernelspec": {
   "display_name": "Python 3",
   "language": "python",
   "name": "python3"
  },
  "language_info": {
   "codemirror_mode": {
    "name": "ipython",
    "version": 3
   },
   "file_extension": ".py",
   "mimetype": "text/x-python",
   "name": "python",
   "nbconvert_exporter": "python",
   "pygments_lexer": "ipython3",
   "version": "3.8.3"
  }
 },
 "nbformat": 4,
 "nbformat_minor": 1
}
