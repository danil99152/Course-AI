{
 "cells": [
  {
   "cell_type": "code",
   "execution_count": 1,
   "metadata": {},
   "outputs": [
    {
     "name": "stdout",
     "output_type": "stream",
     "text": [
      "(60000, 784)\n",
      "(10000, 784)\n"
     ]
    }
   ],
   "source": [
    "import keras\n",
    "import numpy\n",
    "import matplotlib.pyplot as plt\n",
    "from keras.models import Sequential\n",
    "from keras.layers import Dense,Dropout\n",
    "from keras.datasets import mnist\n",
    "from keras.optimizers import RMSprop\n",
    "from keras.callbacks import Callback, CSVLogger\n",
    "#import tensorflow as tf\n",
    "#config = tf.ConfigProto()\n",
    "#config.gpu_options.allow_growth = True\n",
    "#tf.keras.backend.set_session(tf.Session(config=config))\n",
    "\n",
    "(x_train,y_train),(x_test,y_test) = mnist.load_data()\n",
    "x_train = x_train.reshape(x_train.shape[0],784)/255\n",
    "x_test = x_test.reshape(x_test.shape[0],784)/255\n",
    "\n",
    "y_train = keras.utils.to_categorical(y_train,10)\n",
    "y_test = keras.utils.to_categorical(y_test,10)\n",
    "\n",
    "print(x_train.shape)\n",
    "print(x_test.shape)"
   ]
  },
  {
   "cell_type": "code",
   "execution_count": 2,
   "metadata": {},
   "outputs": [],
   "source": [
    "#######Please set as you like#########\n",
    "batch_size = 128\n",
    "epochs = 10\n",
    "dropout = 0.2\n",
    "learning_rate = 0.001\n",
    "\n",
    "loss = 'categorical_crossentropy'\n",
    "optimizer=RMSprop(lr = learning_rate)\n",
    "\n",
    "csv_create_path = './keras_trainlog.csv'\n",
    "loss_figure_save_path = './keras_loss.jpg'\n",
    "acc_figure_save_path = './keras_acc.jpg'\n",
    "######################################"
   ]
  },
  {
   "cell_type": "code",
   "execution_count": 3,
   "metadata": {},
   "outputs": [
    {
     "name": "stdout",
     "output_type": "stream",
     "text": [
      "Model: \"sequential\"\n",
      "_________________________________________________________________\n",
      "Layer (type)                 Output Shape              Param #   \n",
      "=================================================================\n",
      "dense (Dense)                (None, 512)               401920    \n",
      "_________________________________________________________________\n",
      "dropout (Dropout)            (None, 512)               0         \n",
      "_________________________________________________________________\n",
      "dense_1 (Dense)              (None, 512)               262656    \n",
      "_________________________________________________________________\n",
      "dropout_1 (Dropout)          (None, 512)               0         \n",
      "_________________________________________________________________\n",
      "dense_2 (Dense)              (None, 10)                5130      \n",
      "=================================================================\n",
      "Total params: 669,706\n",
      "Trainable params: 669,706\n",
      "Non-trainable params: 0\n",
      "_________________________________________________________________\n",
      "Epoch 1/10\n",
      "469/469 [==============================] - 14s 28ms/step - loss: 0.4185 - accuracy: 0.8679 - val_loss: 0.1535 - val_accuracy: 0.9524\n",
      "Epoch 2/10\n",
      "469/469 [==============================] - 10s 21ms/step - loss: 0.1064 - accuracy: 0.9682 - val_loss: 0.0754 - val_accuracy: 0.9770\n",
      "Epoch 3/10\n",
      "469/469 [==============================] - 10s 21ms/step - loss: 0.0699 - accuracy: 0.9786 - val_loss: 0.0954 - val_accuracy: 0.9719\n",
      "Epoch 4/10\n",
      "469/469 [==============================] - 10s 20ms/step - loss: 0.0561 - accuracy: 0.9826 - val_loss: 0.0811 - val_accuracy: 0.9787\n",
      "Epoch 5/10\n",
      "469/469 [==============================] - 10s 21ms/step - loss: 0.0483 - accuracy: 0.9850 - val_loss: 0.0696 - val_accuracy: 0.9812\n",
      "Epoch 6/10\n",
      "469/469 [==============================] - 10s 22ms/step - loss: 0.0432 - accuracy: 0.9873 - val_loss: 0.0810 - val_accuracy: 0.9794\n",
      "Epoch 7/10\n",
      "469/469 [==============================] - 10s 21ms/step - loss: 0.0376 - accuracy: 0.9896 - val_loss: 0.0810 - val_accuracy: 0.9821\n",
      "Epoch 8/10\n",
      "469/469 [==============================] - 10s 21ms/step - loss: 0.0312 - accuracy: 0.9907 - val_loss: 0.0847 - val_accuracy: 0.9815\n",
      "Epoch 9/10\n",
      "469/469 [==============================] - 11s 23ms/step - loss: 0.0301 - accuracy: 0.9917 - val_loss: 0.0806 - val_accuracy: 0.9838\n",
      "Epoch 10/10\n",
      "469/469 [==============================] - 10s 21ms/step - loss: 0.0274 - accuracy: 0.9917 - val_loss: 0.0961 - val_accuracy: 0.9806\n",
      "Test loss: 0.09610588103532791\n",
      "Test accuracy: 0.9805999994277954\n"
     ]
    }
   ],
   "source": [
    "model = Sequential()\n",
    "model.add(Dense(512, activation='relu', input_shape=(784,)))\n",
    "model.add(Dropout(dropout))\n",
    "model.add(Dense(512, activation='relu'))\n",
    "model.add(Dropout(dropout))\n",
    "model.add(Dense(10, activation='softmax'))\n",
    "\n",
    "model.compile(loss=loss,\n",
    "              optimizer=optimizer,\n",
    "              metrics=['accuracy'])\n",
    "\n",
    "model.summary()\n",
    "\n",
    "csv_logger = CSVLogger(csv_create_path)\n",
    "\n",
    "history = model.fit(x_train, y_train,\n",
    "                    batch_size=batch_size,\n",
    "                    epochs=epochs,\n",
    "                    verbose=1,\n",
    "                    validation_data=(x_test, y_test),\n",
    "                    callbacks=[csv_logger])\n",
    "\n",
    "score = model.evaluate(x_test, y_test, verbose=0)\n",
    "print('Test loss:', score[0])\n",
    "print('Test accuracy:', score[1])"
   ]
  },
  {
   "cell_type": "code",
   "execution_count": 4,
   "metadata": {},
   "outputs": [
    {
     "data": {
      "image/png": "[encoded data removed]",
      "text/plain": [
       "<Figure size 432x288 with 1 Axes>"
      ]
     },
     "metadata": {
      "needs_background": "light"
     },
     "output_type": "display_data"
    }
   ],
   "source": [
    "loss = history.history[\"loss\"]\n",
    "val_loss = history.history[\"val_loss\"]\n",
    "\n",
    "learning_count = len(loss)+1\n",
    "\n",
    "plt.plot(range(1,learning_count),loss,marker = \"+\",label = \"loss\")\n",
    "plt.plot(range(1,learning_count),val_loss,marker = \".\",label = \"val_loss\")\n",
    "plt.legend(loc = \"best\",fontsize = 10)\n",
    "plt.xlabel(\"learning_count\")\n",
    "plt.ylabel(\"loss\")\n",
    "plt.savefig(loss_figure_save_path)"
   ]
  },
  {
   "cell_type": "code",
   "execution_count": 10,
   "metadata": {},
   "outputs": [
    {
     "data": {
      "image/png": "[encoded data removed]",
      "text/plain": [
       "<Figure size 432x288 with 1 Axes>"
      ]
     },
     "metadata": {
      "needs_background": "light"
     },
     "output_type": "display_data"
    }
   ],
   "source": [
    "loss = history.history[\"accuracy\"]\n",
    "val_loss = history.history[\"val_accuracy\"]\n",
    "\n",
    "learning_count = len(loss)+1\n",
    "\n",
    "plt.plot(range(1,learning_count),loss,marker = \"+\",label = \"accuracy\")\n",
    "plt.plot(range(1,learning_count),val_loss,marker = \".\",label = \"val_accuracy\")\n",
    "plt.legend(loc = \"best\",fontsize = 10)\n",
    "plt.xlabel(\"learning_count\")\n",
    "plt.ylabel(\"acc\")\n",
    "plt.savefig(acc_figure_save_path)"
   ]
  },
  {
   "cell_type": "code",
   "execution_count": null,
   "metadata": {},
   "outputs": [],
   "source": []
  }
 ],
 "metadata": {
  "kernelspec": {
   "display_name": "Python 3",
   "language": "python",
   "name": "python3"
  },
  "language_info": {
   "codemirror_mode": {
    "name": "ipython",
    "version": 3
   },
   "file_extension": ".py",
   "mimetype": "text/x-python",
   "name": "python",
   "nbconvert_exporter": "python",
   "pygments_lexer": "ipython3",
   "version": "3.8.3"
  }
 },
 "nbformat": 4,
 "nbformat_minor": 2
}
