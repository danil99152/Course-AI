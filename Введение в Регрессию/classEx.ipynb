{
 "cells": [
  {
   "cell_type": "code",
   "execution_count": 172,
   "metadata": {},
   "outputs": [],
   "source": [
    "import numpy as np # linear algebra\n",
    "import pandas as pd # data processing, CSV file I/O (e.g. pd.read_csv)\n",
    "import seaborn as sns\n",
    "import matplotlib.pyplot as plt\n",
    "import statistics\n",
    "from scipy import stats\n",
    "from statsmodels.graphics.mosaicplot import mosaic\n",
    "\n",
    "\n",
    "from matplotlib.ticker import MultipleLocator\n",
    "import matplotlib.pyplot as plt\n",
    "%matplotlib inline\n",
    "\n",
    "import keras\n",
    "from keras import optimizers\n",
    "from keras.models import Sequential\n",
    "from keras.layers import Dense,Dropout\n",
    "from keras.optimizers import RMSprop\n",
    "from keras.callbacks import Callback, TensorBoard, ModelCheckpoint\n",
    "import tensorflow as tf\n",
    "\n",
    "from sklearn.preprocessing import PolynomialFeatures\n",
    "from sklearn.linear_model import LogisticRegression\n",
    "from sklearn.linear_model import LinearRegression\n",
    "from sklearn.ensemble import RandomForestRegressor\n",
    "from sklearn import metrics\n",
    "from sklearn import preprocessing\n",
    "from sklearn.ensemble import ExtraTreesClassifier\n",
    "from sklearn.model_selection import train_test_split\n",
    "from sklearn.feature_selection import RFE\n",
    "from sklearn.metrics import classification_report\n",
    "from sklearn.ensemble import RandomForestClassifier\n",
    "from xgboost import XGBClassifier\n",
    "from sklearn.datasets import load_iris\n",
    "from sklearn.metrics import mean_absolute_error as MAE\n",
    "from sklearn.metrics import mean_squared_error as MSE\n",
    "\n",
    "import joblib"
   ]
  },
  {
   "cell_type": "markdown",
   "metadata": {},
   "source": [
    "# Обработка данных"
   ]
  },
  {
   "cell_type": "code",
   "execution_count": 132,
   "metadata": {},
   "outputs": [],
   "source": [
    "data = pd.read_csv('winequality-red.csv')"
   ]
  },
  {
   "cell_type": "code",
   "execution_count": 133,
   "metadata": {},
   "outputs": [
    {
     "data": {
      "text/html": [
       "<div>\n",
       "<style scoped>\n",
       "    .dataframe tbody tr th:only-of-type {\n",
       "        vertical-align: middle;\n",
       "    }\n",
       "\n",
       "    .dataframe tbody tr th {\n",
       "        vertical-align: top;\n",
       "    }\n",
       "\n",
       "    .dataframe thead th {\n",
       "        text-align: right;\n",
       "    }\n",
       "</style>\n",
       "<table border=\"1\" class=\"dataframe\">\n",
       "  <thead>\n",
       "    <tr style=\"text-align: right;\">\n",
       "      <th></th>\n",
       "      <th>fixed acidity</th>\n",
       "      <th>volatile acidity</th>\n",
       "      <th>citric acid</th>\n",
       "      <th>residual sugar</th>\n",
       "      <th>chlorides</th>\n",
       "      <th>free sulfur dioxide</th>\n",
       "      <th>total sulfur dioxide</th>\n",
       "      <th>density</th>\n",
       "      <th>pH</th>\n",
       "      <th>sulphates</th>\n",
       "      <th>alcohol</th>\n",
       "      <th>quality</th>\n",
       "    </tr>\n",
       "  </thead>\n",
       "  <tbody>\n",
       "    <tr>\n",
       "      <th>0</th>\n",
       "      <td>7.4</td>\n",
       "      <td>0.700</td>\n",
       "      <td>0.00</td>\n",
       "      <td>1.9</td>\n",
       "      <td>0.076</td>\n",
       "      <td>11.0</td>\n",
       "      <td>34.0</td>\n",
       "      <td>0.99780</td>\n",
       "      <td>3.51</td>\n",
       "      <td>0.56</td>\n",
       "      <td>9.4</td>\n",
       "      <td>5</td>\n",
       "    </tr>\n",
       "    <tr>\n",
       "      <th>1</th>\n",
       "      <td>7.8</td>\n",
       "      <td>0.880</td>\n",
       "      <td>0.00</td>\n",
       "      <td>2.6</td>\n",
       "      <td>0.098</td>\n",
       "      <td>25.0</td>\n",
       "      <td>67.0</td>\n",
       "      <td>0.99680</td>\n",
       "      <td>3.20</td>\n",
       "      <td>0.68</td>\n",
       "      <td>9.8</td>\n",
       "      <td>5</td>\n",
       "    </tr>\n",
       "    <tr>\n",
       "      <th>2</th>\n",
       "      <td>7.8</td>\n",
       "      <td>0.760</td>\n",
       "      <td>0.04</td>\n",
       "      <td>2.3</td>\n",
       "      <td>0.092</td>\n",
       "      <td>15.0</td>\n",
       "      <td>54.0</td>\n",
       "      <td>0.99700</td>\n",
       "      <td>3.26</td>\n",
       "      <td>0.65</td>\n",
       "      <td>9.8</td>\n",
       "      <td>5</td>\n",
       "    </tr>\n",
       "    <tr>\n",
       "      <th>3</th>\n",
       "      <td>11.2</td>\n",
       "      <td>0.280</td>\n",
       "      <td>0.56</td>\n",
       "      <td>1.9</td>\n",
       "      <td>0.075</td>\n",
       "      <td>17.0</td>\n",
       "      <td>60.0</td>\n",
       "      <td>0.99800</td>\n",
       "      <td>3.16</td>\n",
       "      <td>0.58</td>\n",
       "      <td>9.8</td>\n",
       "      <td>6</td>\n",
       "    </tr>\n",
       "    <tr>\n",
       "      <th>4</th>\n",
       "      <td>7.4</td>\n",
       "      <td>0.700</td>\n",
       "      <td>0.00</td>\n",
       "      <td>1.9</td>\n",
       "      <td>0.076</td>\n",
       "      <td>11.0</td>\n",
       "      <td>34.0</td>\n",
       "      <td>0.99780</td>\n",
       "      <td>3.51</td>\n",
       "      <td>0.56</td>\n",
       "      <td>9.4</td>\n",
       "      <td>5</td>\n",
       "    </tr>\n",
       "    <tr>\n",
       "      <th>...</th>\n",
       "      <td>...</td>\n",
       "      <td>...</td>\n",
       "      <td>...</td>\n",
       "      <td>...</td>\n",
       "      <td>...</td>\n",
       "      <td>...</td>\n",
       "      <td>...</td>\n",
       "      <td>...</td>\n",
       "      <td>...</td>\n",
       "      <td>...</td>\n",
       "      <td>...</td>\n",
       "      <td>...</td>\n",
       "    </tr>\n",
       "    <tr>\n",
       "      <th>1594</th>\n",
       "      <td>6.2</td>\n",
       "      <td>0.600</td>\n",
       "      <td>0.08</td>\n",
       "      <td>2.0</td>\n",
       "      <td>0.090</td>\n",
       "      <td>32.0</td>\n",
       "      <td>44.0</td>\n",
       "      <td>0.99490</td>\n",
       "      <td>3.45</td>\n",
       "      <td>0.58</td>\n",
       "      <td>10.5</td>\n",
       "      <td>5</td>\n",
       "    </tr>\n",
       "    <tr>\n",
       "      <th>1595</th>\n",
       "      <td>5.9</td>\n",
       "      <td>0.550</td>\n",
       "      <td>0.10</td>\n",
       "      <td>2.2</td>\n",
       "      <td>0.062</td>\n",
       "      <td>39.0</td>\n",
       "      <td>51.0</td>\n",
       "      <td>0.99512</td>\n",
       "      <td>3.52</td>\n",
       "      <td>0.76</td>\n",
       "      <td>11.2</td>\n",
       "      <td>6</td>\n",
       "    </tr>\n",
       "    <tr>\n",
       "      <th>1596</th>\n",
       "      <td>6.3</td>\n",
       "      <td>0.510</td>\n",
       "      <td>0.13</td>\n",
       "      <td>2.3</td>\n",
       "      <td>0.076</td>\n",
       "      <td>29.0</td>\n",
       "      <td>40.0</td>\n",
       "      <td>0.99574</td>\n",
       "      <td>3.42</td>\n",
       "      <td>0.75</td>\n",
       "      <td>11.0</td>\n",
       "      <td>6</td>\n",
       "    </tr>\n",
       "    <tr>\n",
       "      <th>1597</th>\n",
       "      <td>5.9</td>\n",
       "      <td>0.645</td>\n",
       "      <td>0.12</td>\n",
       "      <td>2.0</td>\n",
       "      <td>0.075</td>\n",
       "      <td>32.0</td>\n",
       "      <td>44.0</td>\n",
       "      <td>0.99547</td>\n",
       "      <td>3.57</td>\n",
       "      <td>0.71</td>\n",
       "      <td>10.2</td>\n",
       "      <td>5</td>\n",
       "    </tr>\n",
       "    <tr>\n",
       "      <th>1598</th>\n",
       "      <td>6.0</td>\n",
       "      <td>0.310</td>\n",
       "      <td>0.47</td>\n",
       "      <td>3.6</td>\n",
       "      <td>0.067</td>\n",
       "      <td>18.0</td>\n",
       "      <td>42.0</td>\n",
       "      <td>0.99549</td>\n",
       "      <td>3.39</td>\n",
       "      <td>0.66</td>\n",
       "      <td>11.0</td>\n",
       "      <td>6</td>\n",
       "    </tr>\n",
       "  </tbody>\n",
       "</table>\n",
       "<p>1599 rows × 12 columns</p>\n",
       "</div>"
      ],
      "text/plain": [
       "      fixed acidity  volatile acidity  citric acid  residual sugar  chlorides  \\\n",
       "0               7.4             0.700         0.00             1.9      0.076   \n",
       "1               7.8             0.880         0.00             2.6      0.098   \n",
       "2               7.8             0.760         0.04             2.3      0.092   \n",
       "3              11.2             0.280         0.56             1.9      0.075   \n",
       "4               7.4             0.700         0.00             1.9      0.076   \n",
       "...             ...               ...          ...             ...        ...   \n",
       "1594            6.2             0.600         0.08             2.0      0.090   \n",
       "1595            5.9             0.550         0.10             2.2      0.062   \n",
       "1596            6.3             0.510         0.13             2.3      0.076   \n",
       "1597            5.9             0.645         0.12             2.0      0.075   \n",
       "1598            6.0             0.310         0.47             3.6      0.067   \n",
       "\n",
       "      free sulfur dioxide  total sulfur dioxide  density    pH  sulphates  \\\n",
       "0                    11.0                  34.0  0.99780  3.51       0.56   \n",
       "1                    25.0                  67.0  0.99680  3.20       0.68   \n",
       "2                    15.0                  54.0  0.99700  3.26       0.65   \n",
       "3                    17.0                  60.0  0.99800  3.16       0.58   \n",
       "4                    11.0                  34.0  0.99780  3.51       0.56   \n",
       "...                   ...                   ...      ...   ...        ...   \n",
       "1594                 32.0                  44.0  0.99490  3.45       0.58   \n",
       "1595                 39.0                  51.0  0.99512  3.52       0.76   \n",
       "1596                 29.0                  40.0  0.99574  3.42       0.75   \n",
       "1597                 32.0                  44.0  0.99547  3.57       0.71   \n",
       "1598                 18.0                  42.0  0.99549  3.39       0.66   \n",
       "\n",
       "      alcohol  quality  \n",
       "0         9.4        5  \n",
       "1         9.8        5  \n",
       "2         9.8        5  \n",
       "3         9.8        6  \n",
       "4         9.4        5  \n",
       "...       ...      ...  \n",
       "1594     10.5        5  \n",
       "1595     11.2        6  \n",
       "1596     11.0        6  \n",
       "1597     10.2        5  \n",
       "1598     11.0        6  \n",
       "\n",
       "[1599 rows x 12 columns]"
      ]
     },
     "execution_count": 133,
     "metadata": {},
     "output_type": "execute_result"
    }
   ],
   "source": [
    "data"
   ]
  },
  {
   "cell_type": "code",
   "execution_count": 134,
   "metadata": {},
   "outputs": [
    {
     "data": {
      "text/plain": [
       "array([5, 6, 7, 4, 8, 3], dtype=int64)"
      ]
     },
     "execution_count": 134,
     "metadata": {},
     "output_type": "execute_result"
    }
   ],
   "source": [
    "data['quality'].unique()"
   ]
  },
  {
   "cell_type": "code",
   "execution_count": 135,
   "metadata": {},
   "outputs": [],
   "source": [
    "x = data.drop(columns = 'quality').to_numpy()\n",
    "y = data['quality'].to_numpy()"
   ]
  },
  {
   "cell_type": "code",
   "execution_count": 136,
   "metadata": {},
   "outputs": [],
   "source": [
    "from sklearn import preprocessing\n",
    "x = preprocessing.scale(x)\n",
    "x = preprocessing.normalize(x)\n",
    "\n",
    "from sklearn.preprocessing import LabelEncoder\n",
    "\n",
    "y = y.reshape(-1)\n",
    "\n",
    "def preprocessY(data):\n",
    "    le = LabelEncoder()\n",
    "    le.fit([3, 4, 5, 6, 7, 8])\n",
    "    data = le.transform(data) \n",
    "    return data\n",
    "y = preprocessY(y)"
   ]
  },
  {
   "cell_type": "code",
   "execution_count": 137,
   "metadata": {},
   "outputs": [],
   "source": [
    "from sklearn.model_selection import train_test_split\n",
    "\n",
    "x_train, x_test, y_train, y_test = train_test_split(x, y, test_size=0.2, random_state=42)"
   ]
  },
  {
   "cell_type": "code",
   "execution_count": 138,
   "metadata": {},
   "outputs": [
    {
     "name": "stdout",
     "output_type": "stream",
     "text": [
      "(1279, 11)\n",
      "(320, 11)\n",
      "(1279,)\n",
      "(320,)\n"
     ]
    }
   ],
   "source": [
    "print(x_train.shape)\n",
    "print(x_test.shape)\n",
    "print(y_train.shape)\n",
    "print(y_test.shape)"
   ]
  },
  {
   "cell_type": "code",
   "execution_count": 139,
   "metadata": {},
   "outputs": [
    {
     "data": {
      "text/plain": [
       "array([0, 1, 2, 3, 4, 5], dtype=int64)"
      ]
     },
     "execution_count": 139,
     "metadata": {},
     "output_type": "execute_result"
    }
   ],
   "source": [
    "np.unique(y_train)"
   ]
  },
  {
   "cell_type": "code",
   "execution_count": 173,
   "metadata": {},
   "outputs": [],
   "source": [
    "def errors(model, x_test, y_test):\n",
    "  outputs = model.predict(x_test)\n",
    "  error = np.absolute(outputs - y_test)\n",
    "  mae = np.sum(error) / len(error)\n",
    "  error = (outputs - y_test)**2\n",
    "  mse = np.sum(error) / len(error)\n",
    "  report = classification_report(y_test, model.predict(x_test), target_names=['5', '6', '7', '4', '8', '3'])\n",
    "  print(\"MAE:\", mae) #абсолютная ошибка (MAE)\n",
    "  print(\"MSE:\", mse) #среднеквадратичная ошибка (MSE)\n",
    "  print(\"RMSE:\", np.sqrt(mse)) #корень среднеквадратичной ошибки (RMSE)\n",
    "  print(report)"
   ]
  },
  {
   "cell_type": "code",
   "execution_count": 141,
   "metadata": {},
   "outputs": [],
   "source": [
    "y_train = y_train.reshape(-1)\n",
    "y_test = y_test.reshape(-1)"
   ]
  },
  {
   "cell_type": "markdown",
   "metadata": {},
   "source": [
    "# Обучение"
   ]
  },
  {
   "cell_type": "markdown",
   "metadata": {},
   "source": [
    "В зависимости от вашего задания обучаете свой алгоритм"
   ]
  },
  {
   "cell_type": "code",
   "execution_count": 142,
   "metadata": {},
   "outputs": [
    {
     "data": {
      "text/plain": [
       "1.0"
      ]
     },
     "execution_count": 142,
     "metadata": {},
     "output_type": "execute_result"
    }
   ],
   "source": [
    "# Создаём модель леса из сотни деревьев\n",
    "model = RandomForestClassifier(n_estimators=100, \n",
    "                               bootstrap = True,\n",
    "                               warm_start = True,\n",
    "                               oob_score = True)\n",
    "# Обучаем на тренировочных данных\n",
    "model.fit(x_train, y_train)\n",
    "model.score(x_train, y_train)"
   ]
  },
  {
   "cell_type": "code",
   "execution_count": 143,
   "metadata": {},
   "outputs": [
    {
     "name": "stdout",
     "output_type": "stream",
     "text": [
      "MAE: 0.375\n",
      "MSE: 0.4125\n",
      "RMSE: 0.6422616289332564\n",
      "              precision    recall  f1-score   support\n",
      "\n",
      "           5       0.00      0.00      0.00         1\n",
      "           6       0.00      0.00      0.00        10\n",
      "           7       0.67      0.74      0.70       130\n",
      "           4       0.61      0.69      0.65       132\n",
      "           8       0.73      0.45      0.56        42\n",
      "           3       0.00      0.00      0.00         5\n",
      "\n",
      "    accuracy                           0.64       320\n",
      "   macro avg       0.33      0.31      0.32       320\n",
      "weighted avg       0.62      0.64      0.63       320\n",
      "\n"
     ]
    },
    {
     "name": "stderr",
     "output_type": "stream",
     "text": [
      "C:\\Users\\komyshev.da\\Anaconda3\\lib\\site-packages\\sklearn\\metrics\\_classification.py:1221: UndefinedMetricWarning: Precision and F-score are ill-defined and being set to 0.0 in labels with no predicted samples. Use `zero_division` parameter to control this behavior.\n",
      "  _warn_prf(average, modifier, msg_start, len(result))\n"
     ]
    }
   ],
   "source": [
    "errors(model, x_test, y_test)"
   ]
  },
  {
   "cell_type": "code",
   "execution_count": 159,
   "metadata": {},
   "outputs": [
    {
     "name": "stdout",
     "output_type": "stream",
     "text": [
      "[11:09:33] WARNING: C:/Users/Administrator/workspace/xgboost-win64_release_1.3.0/src/learner.cc:1061: Starting in XGBoost 1.3.0, the default evaluation metric used with the objective 'multi:softprob' was changed from 'merror' to 'mlogloss'. Explicitly set eval_metric if you'd like to restore the old behavior.\n"
     ]
    },
    {
     "data": {
      "text/plain": [
       "1.0"
      ]
     },
     "execution_count": 159,
     "metadata": {},
     "output_type": "execute_result"
    }
   ],
   "source": [
    "# Создаём модель леса XGBoost\n",
    "model = XGBClassifier(seed=42,\n",
    "                      n_estimators=200,\n",
    "                      max_depth=6,\n",
    "                      learning_rate=0.3)\n",
    "# Обучаем на тренировочных данных\n",
    "model.fit(x_train, y_train)\n",
    "model.score(x_train, y_train)"
   ]
  },
  {
   "cell_type": "code",
   "execution_count": 160,
   "metadata": {},
   "outputs": [
    {
     "name": "stdout",
     "output_type": "stream",
     "text": [
      "MAE: 0.35\n",
      "MSE: 0.4\n",
      "RMSE: 0.6324555320336759\n",
      "              precision    recall  f1-score   support\n",
      "\n",
      "           5       0.00      0.00      0.00         1\n",
      "           6       0.33      0.10      0.15        10\n",
      "           7       0.70      0.77      0.74       130\n",
      "           4       0.65      0.70      0.67       132\n",
      "           8       0.70      0.55      0.61        42\n",
      "           3       0.00      0.00      0.00         5\n",
      "\n",
      "    accuracy                           0.68       320\n",
      "   macro avg       0.40      0.35      0.36       320\n",
      "weighted avg       0.66      0.68      0.66       320\n",
      "\n"
     ]
    }
   ],
   "source": [
    "errors(model, x_test, y_test)"
   ]
  },
  {
   "cell_type": "code",
   "execution_count": 161,
   "metadata": {},
   "outputs": [],
   "source": [
    "clf = LogisticRegression().fit(x_train, y_train)"
   ]
  },
  {
   "cell_type": "code",
   "execution_count": 162,
   "metadata": {},
   "outputs": [
    {
     "data": {
      "text/plain": [
       "0.6075058639562158"
      ]
     },
     "execution_count": 162,
     "metadata": {},
     "output_type": "execute_result"
    }
   ],
   "source": [
    "clf.score(x_train, y_train)"
   ]
  },
  {
   "cell_type": "code",
   "execution_count": 163,
   "metadata": {},
   "outputs": [
    {
     "name": "stdout",
     "output_type": "stream",
     "text": [
      "MAE: 0.45\n",
      "MSE: 0.50625\n",
      "RMSE: 0.7115124735378854\n",
      "              precision    recall  f1-score   support\n",
      "\n",
      "           5       0.00      0.00      0.00         1\n",
      "           6       0.00      0.00      0.00        10\n",
      "           7       0.62      0.74      0.67       130\n",
      "           4       0.54      0.61      0.57       132\n",
      "           8       0.56      0.21      0.31        42\n",
      "           3       0.00      0.00      0.00         5\n",
      "\n",
      "    accuracy                           0.58       320\n",
      "   macro avg       0.29      0.26      0.26       320\n",
      "weighted avg       0.55      0.58      0.55       320\n",
      "\n"
     ]
    },
    {
     "name": "stderr",
     "output_type": "stream",
     "text": [
      "C:\\Users\\komyshev.da\\Anaconda3\\lib\\site-packages\\sklearn\\metrics\\_classification.py:1221: UndefinedMetricWarning: Precision and F-score are ill-defined and being set to 0.0 in labels with no predicted samples. Use `zero_division` parameter to control this behavior.\n",
      "  _warn_prf(average, modifier, msg_start, len(result))\n"
     ]
    }
   ],
   "source": [
    "errors(clf, x_test, y_test)"
   ]
  },
  {
   "cell_type": "code",
   "execution_count": 168,
   "metadata": {},
   "outputs": [],
   "source": [
    "poly = PolynomialFeatures(10)\n",
    "x_train_poly = poly.fit_transform(x_train)\n",
    "x_test_poly = poly.fit_transform(x_test)\n",
    "\n",
    "linear_model = LinearRegression()\n",
    "poly_model = LinearRegression()"
   ]
  },
  {
   "cell_type": "code",
   "execution_count": 174,
   "metadata": {},
   "outputs": [
    {
     "name": "stdout",
     "output_type": "stream",
     "text": [
      "MAE: 0.5055931467733364\n",
      "MSE: 0.4068678371867577\n",
      "RMSE: 0.6378619264282496\n"
     ]
    }
   ],
   "source": [
    "linear_model.fit(x_train, y_train)\n",
    "linear_model.score(x_train, y_train)\n",
    "errors(linear_model, x_test, y_test)"
   ]
  },
  {
   "cell_type": "code",
   "execution_count": 175,
   "metadata": {},
   "outputs": [
    {
     "name": "stdout",
     "output_type": "stream",
     "text": [
      "MAE: 0.8438631921347295\n",
      "MSE: 1.5342300286593074\n",
      "RMSE: 1.2386403952153777\n"
     ]
    }
   ],
   "source": [
    "poly_model.fit(x_train_poly, y_train)\n",
    "poly_model.score(x_train_poly, y_train)\n",
    "errors(poly_model, x_test_poly, y_test)"
   ]
  },
  {
   "cell_type": "code",
   "execution_count": 177,
   "metadata": {},
   "outputs": [],
   "source": [
    "y_train = tf.keras.utils.to_categorical(y_train, 6)\n",
    "y_test = tf.keras.utils.to_categorical(y_test, 6)"
   ]
  },
  {
   "cell_type": "code",
   "execution_count": 189,
   "metadata": {},
   "outputs": [
    {
     "name": "stdout",
     "output_type": "stream",
     "text": [
      "Model: \"sequential_8\"\n",
      "_________________________________________________________________\n",
      "Layer (type)                 Output Shape              Param #   \n",
      "=================================================================\n",
      "dense_22 (Dense)             (None, 22)                264       \n",
      "_________________________________________________________________\n",
      "dense_23 (Dense)             (None, 22)                506       \n",
      "_________________________________________________________________\n",
      "dense_24 (Dense)             (None, 22)                506       \n",
      "_________________________________________________________________\n",
      "dense_25 (Dense)             (None, 6)                 138       \n",
      "=================================================================\n",
      "Total params: 1,414\n",
      "Trainable params: 1,414\n",
      "Non-trainable params: 0\n",
      "_________________________________________________________________\n",
      "Epoch 1/100\n",
      "1180/1279 [==========================>...] - ETA: 0s - loss: 0.0976 - accuracy: 0.5398INFO:tensorflow:Assets written to: model-001.model\\assets\n",
      "1279/1279 [==============================] - 2s 1ms/step - loss: 0.0982 - accuracy: 0.5371 - val_loss: 0.0949 - val_accuracy: 0.5469\n",
      "Epoch 2/100\n",
      "1279/1279 [==============================] - 1s 457us/step - loss: 0.0922 - accuracy: 0.5934 - val_loss: 0.0961 - val_accuracy: 0.5656\n",
      "Epoch 3/100\n",
      "1279/1279 [==============================] - 1s 460us/step - loss: 0.0913 - accuracy: 0.5966 - val_loss: 0.0969 - val_accuracy: 0.5375\n",
      "Epoch 4/100\n",
      "1279/1279 [==============================] - 1s 496us/step - loss: 0.0908 - accuracy: 0.5919 - val_loss: 0.0968 - val_accuracy: 0.5531\n",
      "Epoch 5/100\n",
      "1155/1279 [==========================>...] - ETA: 0s - loss: 0.0887 - accuracy: 0.6199INFO:tensorflow:Assets written to: model-005.model\\assets\n",
      "1279/1279 [==============================] - 1s 1ms/step - loss: 0.0892 - accuracy: 0.6138 - val_loss: 0.0927 - val_accuracy: 0.5844\n",
      "Epoch 6/100\n",
      "1279/1279 [==============================] - 1s 474us/step - loss: 0.0887 - accuracy: 0.6130 - val_loss: 0.0934 - val_accuracy: 0.5688\n",
      "Epoch 7/100\n",
      "1147/1279 [=========================>....] - ETA: 0s - loss: 0.0880 - accuracy: 0.6225INFO:tensorflow:Assets written to: model-007.model\\assets\n",
      "1279/1279 [==============================] - 1s 1ms/step - loss: 0.0884 - accuracy: 0.6169 - val_loss: 0.0913 - val_accuracy: 0.5719\n",
      "Epoch 8/100\n",
      "1279/1279 [==============================] - 1s 469us/step - loss: 0.0874 - accuracy: 0.6263 - val_loss: 0.0973 - val_accuracy: 0.5531\n",
      "Epoch 9/100\n",
      "1279/1279 [==============================] - 1s 473us/step - loss: 0.0870 - accuracy: 0.6310 - val_loss: 0.0937 - val_accuracy: 0.5844\n",
      "Epoch 10/100\n",
      "1279/1279 [==============================] - 1s 462us/step - loss: 0.0859 - accuracy: 0.6302 - val_loss: 0.0951 - val_accuracy: 0.5531\n",
      "Epoch 11/100\n",
      "1279/1279 [==============================] - 1s 465us/step - loss: 0.0866 - accuracy: 0.6333 - val_loss: 0.0918 - val_accuracy: 0.5938\n",
      "Epoch 12/100\n",
      "1279/1279 [==============================] - 1s 462us/step - loss: 0.0859 - accuracy: 0.6403 - val_loss: 0.0950 - val_accuracy: 0.5875\n",
      "Epoch 13/100\n",
      "1279/1279 [==============================] - 1s 483us/step - loss: 0.0851 - accuracy: 0.6372 - val_loss: 0.0981 - val_accuracy: 0.5531\n",
      "Epoch 14/100\n",
      "1279/1279 [==============================] - 1s 462us/step - loss: 0.0845 - accuracy: 0.6474 - val_loss: 0.0967 - val_accuracy: 0.5844\n",
      "Epoch 15/100\n",
      "1279/1279 [==============================] - 1s 491us/step - loss: 0.0867 - accuracy: 0.6325 - val_loss: 0.0983 - val_accuracy: 0.5844\n",
      "Epoch 16/100\n",
      "1279/1279 [==============================] - 1s 514us/step - loss: 0.0845 - accuracy: 0.6357 - val_loss: 0.0928 - val_accuracy: 0.5781\n",
      "Epoch 17/100\n",
      "1279/1279 [==============================] - 1s 505us/step - loss: 0.0827 - accuracy: 0.6529 - val_loss: 0.0951 - val_accuracy: 0.5531\n",
      "Epoch 18/100\n",
      "1279/1279 [==============================] - 1s 469us/step - loss: 0.0835 - accuracy: 0.6380 - val_loss: 0.0946 - val_accuracy: 0.5656\n",
      "Epoch 19/100\n",
      "1279/1279 [==============================] - 1s 480us/step - loss: 0.0856 - accuracy: 0.6075 - val_loss: 0.0943 - val_accuracy: 0.5844\n",
      "Epoch 20/100\n",
      "1279/1279 [==============================] - 1s 506us/step - loss: 0.0855 - accuracy: 0.6052 - val_loss: 0.0948 - val_accuracy: 0.5844\n",
      "Epoch 21/100\n",
      "1225/1279 [===========================>..] - ETA: 0s - loss: 0.0835 - accuracy: 0.6294INFO:tensorflow:Assets written to: model-021.model\\assets\n",
      "1279/1279 [==============================] - 1s 1ms/step - loss: 0.0838 - accuracy: 0.6278 - val_loss: 0.0896 - val_accuracy: 0.5969\n",
      "Epoch 22/100\n",
      "1279/1279 [==============================] - 1s 508us/step - loss: 0.0840 - accuracy: 0.6247 - val_loss: 0.0921 - val_accuracy: 0.5688\n",
      "Epoch 23/100\n",
      "1279/1279 [==============================] - 1s 483us/step - loss: 0.0836 - accuracy: 0.6552 - val_loss: 0.0942 - val_accuracy: 0.5625\n",
      "Epoch 24/100\n",
      "1279/1279 [==============================] - 1s 478us/step - loss: 0.0835 - accuracy: 0.6427 - val_loss: 0.0925 - val_accuracy: 0.6125\n",
      "Epoch 25/100\n",
      "1279/1279 [==============================] - 1s 497us/step - loss: 0.0835 - accuracy: 0.6388 - val_loss: 0.0987 - val_accuracy: 0.5500\n",
      "Epoch 26/100\n",
      "1279/1279 [==============================] - 1s 524us/step - loss: 0.0807 - accuracy: 0.6677 - val_loss: 0.0932 - val_accuracy: 0.5875\n",
      "Epoch 27/100\n",
      "1279/1279 [==============================] - 1s 513us/step - loss: 0.0810 - accuracy: 0.6568 - val_loss: 0.0923 - val_accuracy: 0.5844\n",
      "Epoch 28/100\n",
      "1279/1279 [==============================] - 1s 498us/step - loss: 0.0816 - accuracy: 0.6427 - val_loss: 0.0933 - val_accuracy: 0.5844\n",
      "Epoch 29/100\n",
      "1197/1279 [===========================>..] - ETA: 0s - loss: 0.0789 - accuracy: 0.6700INFO:tensorflow:Assets written to: model-029.model\\assets\n",
      "1279/1279 [==============================] - 1s 1ms/step - loss: 0.0808 - accuracy: 0.6622 - val_loss: 0.0886 - val_accuracy: 0.5969\n",
      "Epoch 30/100\n",
      "1279/1279 [==============================] - 1s 494us/step - loss: 0.0805 - accuracy: 0.6646 - val_loss: 0.0935 - val_accuracy: 0.5875\n",
      "Epoch 31/100\n",
      "1279/1279 [==============================] - 1s 472us/step - loss: 0.0794 - accuracy: 0.6716 - val_loss: 0.0937 - val_accuracy: 0.5813\n",
      "Epoch 32/100\n",
      "1279/1279 [==============================] - 1s 482us/step - loss: 0.0817 - accuracy: 0.6560 - val_loss: 0.0917 - val_accuracy: 0.6031\n",
      "Epoch 33/100\n",
      "1279/1279 [==============================] - 1s 494us/step - loss: 0.0796 - accuracy: 0.6685 - val_loss: 0.0955 - val_accuracy: 0.5969\n",
      "Epoch 34/100\n",
      "1279/1279 [==============================] - 1s 494us/step - loss: 0.0812 - accuracy: 0.6630 - val_loss: 0.0960 - val_accuracy: 0.5781\n",
      "Epoch 35/100\n",
      "1279/1279 [==============================] - 1s 478us/step - loss: 0.0790 - accuracy: 0.6724 - val_loss: 0.0917 - val_accuracy: 0.5781\n",
      "Epoch 36/100\n",
      "1279/1279 [==============================] - 1s 479us/step - loss: 0.0791 - accuracy: 0.6755 - val_loss: 0.0963 - val_accuracy: 0.5875\n",
      "Epoch 37/100\n",
      "1279/1279 [==============================] - 1s 469us/step - loss: 0.0795 - accuracy: 0.6716 - val_loss: 0.0994 - val_accuracy: 0.5906\n",
      "Epoch 38/100\n",
      "1279/1279 [==============================] - 1s 496us/step - loss: 0.0775 - accuracy: 0.6857 - val_loss: 0.0943 - val_accuracy: 0.5844\n",
      "Epoch 39/100\n",
      "1279/1279 [==============================] - 1s 490us/step - loss: 0.0781 - accuracy: 0.6818 - val_loss: 0.0927 - val_accuracy: 0.5781\n",
      "Epoch 40/100\n",
      "1279/1279 [==============================] - 1s 490us/step - loss: 0.0776 - accuracy: 0.6732 - val_loss: 0.0948 - val_accuracy: 0.6094\n",
      "Epoch 41/100\n",
      "1279/1279 [==============================] - 1s 519us/step - loss: 0.0771 - accuracy: 0.6849 - val_loss: 0.0919 - val_accuracy: 0.6094\n",
      "Epoch 42/100\n",
      "1279/1279 [==============================] - 1s 490us/step - loss: 0.0785 - accuracy: 0.6755 - val_loss: 0.0964 - val_accuracy: 0.5656\n",
      "Epoch 43/100\n",
      "1279/1279 [==============================] - 1s 510us/step - loss: 0.0766 - accuracy: 0.6755 - val_loss: 0.0949 - val_accuracy: 0.5656\n",
      "Epoch 44/100\n",
      "1279/1279 [==============================] - 1s 469us/step - loss: 0.0773 - accuracy: 0.6833 - val_loss: 0.0996 - val_accuracy: 0.5750\n",
      "Epoch 45/100\n"
     ]
    },
    {
     "name": "stdout",
     "output_type": "stream",
     "text": [
      "1279/1279 [==============================] - 1s 485us/step - loss: 0.0768 - accuracy: 0.6904 - val_loss: 0.0922 - val_accuracy: 0.6094\n",
      "Epoch 46/100\n",
      "1279/1279 [==============================] - 1s 497us/step - loss: 0.0773 - accuracy: 0.6755 - val_loss: 0.0922 - val_accuracy: 0.6125\n",
      "Epoch 47/100\n",
      "1279/1279 [==============================] - 1s 464us/step - loss: 0.0770 - accuracy: 0.6833 - val_loss: 0.0940 - val_accuracy: 0.5938\n",
      "Epoch 48/100\n",
      "1279/1279 [==============================] - 1s 478us/step - loss: 0.0771 - accuracy: 0.6716 - val_loss: 0.0977 - val_accuracy: 0.5719\n",
      "Epoch 49/100\n",
      "1279/1279 [==============================] - 1s 474us/step - loss: 0.0768 - accuracy: 0.6873 - val_loss: 0.0963 - val_accuracy: 0.5844\n",
      "Epoch 50/100\n",
      "1279/1279 [==============================] - 1s 445us/step - loss: 0.0794 - accuracy: 0.6740 - val_loss: 0.0992 - val_accuracy: 0.5750\n",
      "Epoch 51/100\n",
      "1279/1279 [==============================] - 1s 488us/step - loss: 0.0763 - accuracy: 0.6927 - val_loss: 0.0980 - val_accuracy: 0.5875\n",
      "Epoch 52/100\n",
      "1279/1279 [==============================] - 1s 463us/step - loss: 0.0764 - accuracy: 0.6896 - val_loss: 0.0971 - val_accuracy: 0.6062\n",
      "Epoch 53/100\n",
      "1279/1279 [==============================] - 1s 517us/step - loss: 0.0765 - accuracy: 0.6919 - val_loss: 0.1055 - val_accuracy: 0.5375\n",
      "Epoch 54/100\n",
      "1279/1279 [==============================] - 1s 480us/step - loss: 0.0767 - accuracy: 0.6826 - val_loss: 0.0951 - val_accuracy: 0.5875\n",
      "Epoch 55/100\n",
      "1279/1279 [==============================] - 1s 493us/step - loss: 0.0762 - accuracy: 0.6810 - val_loss: 0.0962 - val_accuracy: 0.5906\n",
      "Epoch 56/100\n",
      "1279/1279 [==============================] - 1s 485us/step - loss: 0.0745 - accuracy: 0.7013 - val_loss: 0.0948 - val_accuracy: 0.5938\n",
      "Epoch 57/100\n",
      "1279/1279 [==============================] - 1s 493us/step - loss: 0.0742 - accuracy: 0.6990 - val_loss: 0.0945 - val_accuracy: 0.6125\n",
      "Epoch 58/100\n",
      "1279/1279 [==============================] - 1s 488us/step - loss: 0.0743 - accuracy: 0.7005 - val_loss: 0.0943 - val_accuracy: 0.5813\n",
      "Epoch 59/100\n",
      "1279/1279 [==============================] - 1s 488us/step - loss: 0.0765 - accuracy: 0.6880 - val_loss: 0.0981 - val_accuracy: 0.6031\n",
      "Epoch 60/100\n",
      "1279/1279 [==============================] - 1s 465us/step - loss: 0.0761 - accuracy: 0.6912 - val_loss: 0.0950 - val_accuracy: 0.6187\n",
      "Epoch 61/100\n",
      "1279/1279 [==============================] - 1s 468us/step - loss: 0.0781 - accuracy: 0.6763 - val_loss: 0.0941 - val_accuracy: 0.6094\n",
      "Epoch 62/100\n",
      "1279/1279 [==============================] - 1s 501us/step - loss: 0.0753 - accuracy: 0.6982 - val_loss: 0.0986 - val_accuracy: 0.5938\n",
      "Epoch 63/100\n",
      "1279/1279 [==============================] - 1s 485us/step - loss: 0.0759 - accuracy: 0.6943 - val_loss: 0.1001 - val_accuracy: 0.5969\n",
      "Epoch 64/100\n",
      "1279/1279 [==============================] - 1s 462us/step - loss: 0.0755 - accuracy: 0.7021 - val_loss: 0.0965 - val_accuracy: 0.6062\n",
      "Epoch 65/100\n",
      "1279/1279 [==============================] - 1s 475us/step - loss: 0.0742 - accuracy: 0.6943 - val_loss: 0.0942 - val_accuracy: 0.5906\n",
      "Epoch 66/100\n",
      "1279/1279 [==============================] - 1s 464us/step - loss: 0.0730 - accuracy: 0.7005 - val_loss: 0.0951 - val_accuracy: 0.6219\n",
      "Epoch 67/100\n",
      "1279/1279 [==============================] - 1s 471us/step - loss: 0.0735 - accuracy: 0.7091 - val_loss: 0.0923 - val_accuracy: 0.6000\n",
      "Epoch 68/100\n",
      "1279/1279 [==============================] - 1s 457us/step - loss: 0.0742 - accuracy: 0.6935 - val_loss: 0.0928 - val_accuracy: 0.6094\n",
      "Epoch 69/100\n",
      "1279/1279 [==============================] - 1s 491us/step - loss: 0.0736 - accuracy: 0.7005 - val_loss: 0.0953 - val_accuracy: 0.6094\n",
      "Epoch 70/100\n",
      "1279/1279 [==============================] - 1s 455us/step - loss: 0.0748 - accuracy: 0.6959 - val_loss: 0.0932 - val_accuracy: 0.6031\n",
      "Epoch 71/100\n",
      "1279/1279 [==============================] - 1s 497us/step - loss: 0.0743 - accuracy: 0.7037 - val_loss: 0.0938 - val_accuracy: 0.6000\n",
      "Epoch 72/100\n",
      "1279/1279 [==============================] - 1s 504us/step - loss: 0.0741 - accuracy: 0.6966 - val_loss: 0.0929 - val_accuracy: 0.6062\n",
      "Epoch 73/100\n",
      "1279/1279 [==============================] - 1s 515us/step - loss: 0.0744 - accuracy: 0.6959 - val_loss: 0.0920 - val_accuracy: 0.6031\n",
      "Epoch 74/100\n",
      "1279/1279 [==============================] - 1s 492us/step - loss: 0.0723 - accuracy: 0.6990 - val_loss: 0.0933 - val_accuracy: 0.5969\n",
      "Epoch 75/100\n",
      "1279/1279 [==============================] - 1s 501us/step - loss: 0.0722 - accuracy: 0.7021 - val_loss: 0.0931 - val_accuracy: 0.6250\n",
      "Epoch 76/100\n",
      "1279/1279 [==============================] - 1s 522us/step - loss: 0.0725 - accuracy: 0.7076 - val_loss: 0.0972 - val_accuracy: 0.5969\n",
      "Epoch 77/100\n",
      "1279/1279 [==============================] - 1s 516us/step - loss: 0.0734 - accuracy: 0.7029 - val_loss: 0.0994 - val_accuracy: 0.5844\n",
      "Epoch 78/100\n",
      "1279/1279 [==============================] - 1s 462us/step - loss: 0.0752 - accuracy: 0.6951 - val_loss: 0.0966 - val_accuracy: 0.6062\n",
      "Epoch 79/100\n",
      "1279/1279 [==============================] - 1s 482us/step - loss: 0.0733 - accuracy: 0.7115 - val_loss: 0.0958 - val_accuracy: 0.6031\n",
      "Epoch 80/100\n",
      "1279/1279 [==============================] - 1s 476us/step - loss: 0.0721 - accuracy: 0.7209 - val_loss: 0.0986 - val_accuracy: 0.6062\n",
      "Epoch 81/100\n",
      "1279/1279 [==============================] - 1s 472us/step - loss: 0.0723 - accuracy: 0.7060 - val_loss: 0.0984 - val_accuracy: 0.6031\n",
      "Epoch 82/100\n",
      "1279/1279 [==============================] - 1s 454us/step - loss: 0.0732 - accuracy: 0.7068 - val_loss: 0.1008 - val_accuracy: 0.6031\n",
      "Epoch 83/100\n",
      "1279/1279 [==============================] - 1s 464us/step - loss: 0.0721 - accuracy: 0.7013 - val_loss: 0.0947 - val_accuracy: 0.5969\n",
      "Epoch 84/100\n",
      "1279/1279 [==============================] - 1s 470us/step - loss: 0.0725 - accuracy: 0.7084 - val_loss: 0.0984 - val_accuracy: 0.5906\n",
      "Epoch 85/100\n",
      "1279/1279 [==============================] - 1s 455us/step - loss: 0.0711 - accuracy: 0.7271 - val_loss: 0.0921 - val_accuracy: 0.6250\n",
      "Epoch 86/100\n",
      "1279/1279 [==============================] - 1s 476us/step - loss: 0.0729 - accuracy: 0.7138 - val_loss: 0.1000 - val_accuracy: 0.6062\n",
      "Epoch 87/100\n",
      "1279/1279 [==============================] - 1s 470us/step - loss: 0.0740 - accuracy: 0.6974 - val_loss: 0.1000 - val_accuracy: 0.5906\n",
      "Epoch 88/100\n",
      "1279/1279 [==============================] - 1s 459us/step - loss: 0.0714 - accuracy: 0.7170 - val_loss: 0.0932 - val_accuracy: 0.6250\n",
      "Epoch 89/100\n",
      "1279/1279 [==============================] - 1s 464us/step - loss: 0.0735 - accuracy: 0.7123 - val_loss: 0.0973 - val_accuracy: 0.6094\n",
      "Epoch 90/100\n",
      "1279/1279 [==============================] - 1s 476us/step - loss: 0.0726 - accuracy: 0.7076 - val_loss: 0.0983 - val_accuracy: 0.5781\n",
      "Epoch 91/100\n",
      "1279/1279 [==============================] - 1s 487us/step - loss: 0.0711 - accuracy: 0.7154 - val_loss: 0.0954 - val_accuracy: 0.6031\n",
      "Epoch 92/100\n",
      "1279/1279 [==============================] - 1s 451us/step - loss: 0.0719 - accuracy: 0.7076 - val_loss: 0.1003 - val_accuracy: 0.5875\n",
      "Epoch 93/100\n",
      "1279/1279 [==============================] - 1s 496us/step - loss: 0.0758 - accuracy: 0.6943 - val_loss: 0.1015 - val_accuracy: 0.5813\n",
      "Epoch 94/100\n",
      "1279/1279 [==============================] - 1s 452us/step - loss: 0.0745 - accuracy: 0.7021 - val_loss: 0.1005 - val_accuracy: 0.5844\n",
      "Epoch 95/100\n",
      "1279/1279 [==============================] - 1s 501us/step - loss: 0.0711 - accuracy: 0.7201 - val_loss: 0.0986 - val_accuracy: 0.6000\n",
      "Epoch 96/100\n",
      "1279/1279 [==============================] - 1s 492us/step - loss: 0.0700 - accuracy: 0.7248 - val_loss: 0.1033 - val_accuracy: 0.5719\n",
      "Epoch 97/100\n",
      "1279/1279 [==============================] - 1s 465us/step - loss: 0.0712 - accuracy: 0.7162 - val_loss: 0.0999 - val_accuracy: 0.5938\n",
      "Epoch 98/100\n",
      "1279/1279 [==============================] - 1s 505us/step - loss: 0.0708 - accuracy: 0.7209 - val_loss: 0.0996 - val_accuracy: 0.6125\n",
      "Epoch 99/100\n",
      "1279/1279 [==============================] - 1s 469us/step - loss: 0.0712 - accuracy: 0.7138 - val_loss: 0.1020 - val_accuracy: 0.6094\n",
      "Epoch 100/100\n"
     ]
    },
    {
     "name": "stdout",
     "output_type": "stream",
     "text": [
      "1279/1279 [==============================] - 1s 472us/step - loss: 0.0706 - accuracy: 0.7224 - val_loss: 0.0992 - val_accuracy: 0.5719\n",
      "10/10 [==============================] - 0s 598us/step - loss: 0.0992 - accuracy: 0.5719\n",
      "test loss: 0.09922425448894501\n",
      "test accuracy: 0.5718749761581421\n"
     ]
    }
   ],
   "source": [
    "model = Sequential()\n",
    "model.add(Dense(units = 22, activation = \"relu\", input_dim = 11, use_bias=True))\n",
    "model.add(Dense(units = 22, activation = \"relu\", use_bias=True))\n",
    "model.add(Dense(units = 22, activation = \"relu\", use_bias=True))\n",
    "\n",
    "model.add(Dense(units = 6, activation = \"softmax\"))\n",
    "\n",
    "model.compile(loss = \"mean_squared_error\",\n",
    "             optimizer = optimizers.Adam(lr = 0.01),\n",
    "              metrics = [\"accuracy\"])\n",
    "model.summary()\n",
    "\n",
    "checkpoint = ModelCheckpoint('model-{epoch:03d}.model',monitor='val_loss',verbose=0,save_best_only=True,mode='auto')\n",
    "history = model.fit(x_train,y_train,\n",
    "epochs = 100,\n",
    "batch_size = 1,\n",
    "verbose = 1,\n",
    "validation_data = (x_test,y_test),\n",
    "callbacks=[checkpoint])\n",
    "\n",
    "score = model.evaluate(x_test,y_test,verbose = 1)\n",
    "print(\"test loss:\",score[0])\n",
    "print(\"test accuracy:\",score[1])"
   ]
  },
  {
   "cell_type": "code",
   "execution_count": 190,
   "metadata": {},
   "outputs": [
    {
     "data": {
      "text/plain": [
       "Text(0, 0.5, 'loss')"
      ]
     },
     "execution_count": 190,
     "metadata": {},
     "output_type": "execute_result"
    },
    {
     "data": {
      "image/png": "[encoded data removed]",
      "text/plain": [
       "<Figure size 432x288 with 1 Axes>"
      ]
     },
     "metadata": {
      "needs_background": "light"
     },
     "output_type": "display_data"
    }
   ],
   "source": [
    "loss = history.history[\"loss\"]\n",
    "val_loss = history.history[\"val_loss\"]\n",
    "\n",
    "learning_count = len(loss)+1\n",
    "\n",
    "plt.plot(range(1,learning_count),loss,marker = \"+\",label = \"loss\")\n",
    "plt.plot(range(1,learning_count),val_loss,marker = \".\",label = \"val_loss\")\n",
    "plt.legend(loc = \"best\",fontsize = 10)\n",
    "plt.xlabel(\"learning_count\")\n",
    "plt.ylabel(\"loss\")"
   ]
  },
  {
   "cell_type": "code",
   "execution_count": 191,
   "metadata": {},
   "outputs": [
    {
     "data": {
      "text/plain": [
       "Text(0, 0.5, 'acc')"
      ]
     },
     "execution_count": 191,
     "metadata": {},
     "output_type": "execute_result"
    },
    {
     "data": {
      "image/png": "[encoded data removed]",
      "text/plain": [
       "<Figure size 432x288 with 1 Axes>"
      ]
     },
     "metadata": {
      "needs_background": "light"
     },
     "output_type": "display_data"
    }
   ],
   "source": [
    "loss = history.history[\"accuracy\"]\n",
    "val_loss = history.history[\"val_accuracy\"]\n",
    "\n",
    "learning_count = len(loss)+1\n",
    "\n",
    "plt.plot(range(1,learning_count),loss,marker = \"+\",label = \"acc\")\n",
    "plt.plot(range(1,learning_count),val_loss,marker = \".\",label = \"val_acc\")\n",
    "plt.legend(loc = \"best\",fontsize = 10)\n",
    "plt.xlabel(\"learning_count\")\n",
    "plt.ylabel(\"acc\")"
   ]
  },
  {
   "cell_type": "code",
   "execution_count": null,
   "metadata": {},
   "outputs": [],
   "source": []
  }
 ],
 "metadata": {
  "kernelspec": {
   "display_name": "Python 3",
   "language": "python",
   "name": "python3"
  },
  "language_info": {
   "codemirror_mode": {
    "name": "ipython",
    "version": 3
   },
   "file_extension": ".py",
   "mimetype": "text/x-python",
   "name": "python",
   "nbconvert_exporter": "python",
   "pygments_lexer": "ipython3",
   "version": "3.8.3"
  }
 },
 "nbformat": 4,
 "nbformat_minor": 4
}
