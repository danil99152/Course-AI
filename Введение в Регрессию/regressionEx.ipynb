{
 "cells": [
  {
   "cell_type": "code",
   "execution_count": 127,
   "metadata": {},
   "outputs": [],
   "source": [
    "import numpy as np # linear algebra\n",
    "import pandas as pd # data processing, CSV file I/O (e.g. pd.read_csv)\n",
    "import seaborn as sns\n",
    "import matplotlib.pyplot as plt\n",
    "import statistics\n",
    "from scipy import stats\n",
    "from statsmodels.graphics.mosaicplot import mosaic\n",
    "\n",
    "\n",
    "from matplotlib.ticker import MultipleLocator\n",
    "import matplotlib.pyplot as plt\n",
    "%matplotlib inline\n",
    "\n",
    "import keras\n",
    "from keras import optimizers\n",
    "from keras.models import Sequential\n",
    "from keras.layers import Dense,Dropout\n",
    "from keras.optimizers import RMSprop\n",
    "from keras.callbacks import Callback, TensorBoard, ModelCheckpoint\n",
    "import tensorflow as tf\n",
    "\n",
    "from sklearn.preprocessing import PolynomialFeatures\n",
    "from sklearn.linear_model import LogisticRegression\n",
    "from sklearn.linear_model import LinearRegression\n",
    "from sklearn.ensemble import RandomForestRegressor\n",
    "from sklearn import metrics\n",
    "from sklearn import preprocessing\n",
    "from sklearn.ensemble import ExtraTreesClassifier\n",
    "from sklearn.model_selection import train_test_split\n",
    "from sklearn.feature_selection import RFE\n",
    "from sklearn.metrics import classification_report\n",
    "from sklearn.ensemble import RandomForestClassifier\n",
    "from xgboost import XGBRegressor\n",
    "from sklearn.datasets import load_iris\n",
    "from sklearn.metrics import mean_absolute_error as MAE\n",
    "from sklearn.metrics import mean_squared_error as MSE\n",
    "\n",
    "import tensorflow as tf\n",
    "\n",
    "import joblib"
   ]
  },
  {
   "cell_type": "markdown",
   "metadata": {},
   "source": [
    "# Обработка данных"
   ]
  },
  {
   "cell_type": "code",
   "execution_count": 165,
   "metadata": {},
   "outputs": [],
   "source": [
    "data = pd.read_csv('housing.csv')"
   ]
  },
  {
   "cell_type": "code",
   "execution_count": 166,
   "metadata": {},
   "outputs": [
    {
     "data": {
      "text/html": [
       "<div>\n",
       "<style scoped>\n",
       "    .dataframe tbody tr th:only-of-type {\n",
       "        vertical-align: middle;\n",
       "    }\n",
       "\n",
       "    .dataframe tbody tr th {\n",
       "        vertical-align: top;\n",
       "    }\n",
       "\n",
       "    .dataframe thead th {\n",
       "        text-align: right;\n",
       "    }\n",
       "</style>\n",
       "<table border=\"1\" class=\"dataframe\">\n",
       "  <thead>\n",
       "    <tr style=\"text-align: right;\">\n",
       "      <th></th>\n",
       "      <th>RM</th>\n",
       "      <th>LSTAT</th>\n",
       "      <th>PTRATIO</th>\n",
       "      <th>MEDV</th>\n",
       "    </tr>\n",
       "  </thead>\n",
       "  <tbody>\n",
       "    <tr>\n",
       "      <th>0</th>\n",
       "      <td>6.575</td>\n",
       "      <td>4.98</td>\n",
       "      <td>15.3</td>\n",
       "      <td>504000.0</td>\n",
       "    </tr>\n",
       "    <tr>\n",
       "      <th>1</th>\n",
       "      <td>6.421</td>\n",
       "      <td>9.14</td>\n",
       "      <td>17.8</td>\n",
       "      <td>453600.0</td>\n",
       "    </tr>\n",
       "    <tr>\n",
       "      <th>2</th>\n",
       "      <td>7.185</td>\n",
       "      <td>4.03</td>\n",
       "      <td>17.8</td>\n",
       "      <td>728700.0</td>\n",
       "    </tr>\n",
       "    <tr>\n",
       "      <th>3</th>\n",
       "      <td>6.998</td>\n",
       "      <td>2.94</td>\n",
       "      <td>18.7</td>\n",
       "      <td>701400.0</td>\n",
       "    </tr>\n",
       "    <tr>\n",
       "      <th>4</th>\n",
       "      <td>7.147</td>\n",
       "      <td>5.33</td>\n",
       "      <td>18.7</td>\n",
       "      <td>760200.0</td>\n",
       "    </tr>\n",
       "    <tr>\n",
       "      <th>...</th>\n",
       "      <td>...</td>\n",
       "      <td>...</td>\n",
       "      <td>...</td>\n",
       "      <td>...</td>\n",
       "    </tr>\n",
       "    <tr>\n",
       "      <th>484</th>\n",
       "      <td>6.593</td>\n",
       "      <td>9.67</td>\n",
       "      <td>21.0</td>\n",
       "      <td>470400.0</td>\n",
       "    </tr>\n",
       "    <tr>\n",
       "      <th>485</th>\n",
       "      <td>6.120</td>\n",
       "      <td>9.08</td>\n",
       "      <td>21.0</td>\n",
       "      <td>432600.0</td>\n",
       "    </tr>\n",
       "    <tr>\n",
       "      <th>486</th>\n",
       "      <td>6.976</td>\n",
       "      <td>5.64</td>\n",
       "      <td>21.0</td>\n",
       "      <td>501900.0</td>\n",
       "    </tr>\n",
       "    <tr>\n",
       "      <th>487</th>\n",
       "      <td>6.794</td>\n",
       "      <td>6.48</td>\n",
       "      <td>21.0</td>\n",
       "      <td>462000.0</td>\n",
       "    </tr>\n",
       "    <tr>\n",
       "      <th>488</th>\n",
       "      <td>6.030</td>\n",
       "      <td>7.88</td>\n",
       "      <td>21.0</td>\n",
       "      <td>249900.0</td>\n",
       "    </tr>\n",
       "  </tbody>\n",
       "</table>\n",
       "<p>489 rows × 4 columns</p>\n",
       "</div>"
      ],
      "text/plain": [
       "        RM  LSTAT  PTRATIO      MEDV\n",
       "0    6.575   4.98     15.3  504000.0\n",
       "1    6.421   9.14     17.8  453600.0\n",
       "2    7.185   4.03     17.8  728700.0\n",
       "3    6.998   2.94     18.7  701400.0\n",
       "4    7.147   5.33     18.7  760200.0\n",
       "..     ...    ...      ...       ...\n",
       "484  6.593   9.67     21.0  470400.0\n",
       "485  6.120   9.08     21.0  432600.0\n",
       "486  6.976   5.64     21.0  501900.0\n",
       "487  6.794   6.48     21.0  462000.0\n",
       "488  6.030   7.88     21.0  249900.0\n",
       "\n",
       "[489 rows x 4 columns]"
      ]
     },
     "execution_count": 166,
     "metadata": {},
     "output_type": "execute_result"
    }
   ],
   "source": [
    "data"
   ]
  },
  {
   "cell_type": "code",
   "execution_count": 167,
   "metadata": {},
   "outputs": [],
   "source": [
    "x = data.drop(columns = 'MEDV')\n",
    "y = data['MEDV']"
   ]
  },
  {
   "cell_type": "code",
   "execution_count": 164,
   "metadata": {},
   "outputs": [],
   "source": [
    "from sklearn import preprocessing\n",
    "\n",
    "y = y.values.reshape(-1,1)\n",
    "x = preprocessing.normalize(x)\n",
    "y = preprocessing.normalize(y)"
   ]
  },
  {
   "cell_type": "code",
   "execution_count": 168,
   "metadata": {},
   "outputs": [],
   "source": [
    "from sklearn.model_selection import train_test_split\n",
    "\n",
    "x_train, x_test, y_train, y_test = train_test_split(x, y, test_size=0.2, random_state=42)"
   ]
  },
  {
   "cell_type": "code",
   "execution_count": 134,
   "metadata": {},
   "outputs": [
    {
     "name": "stdout",
     "output_type": "stream",
     "text": [
      "(391, 3)\n",
      "(98, 3)\n",
      "(391, 1)\n",
      "(98, 1)\n"
     ]
    }
   ],
   "source": [
    "print(x_train.shape)\n",
    "print(x_test.shape)\n",
    "print(y_train.shape)\n",
    "print(y_test.shape)"
   ]
  },
  {
   "cell_type": "code",
   "execution_count": 139,
   "metadata": {},
   "outputs": [
    {
     "data": {
      "text/plain": [
       "array([0, 1, 2, 3, 4, 5], dtype=int64)"
      ]
     },
     "execution_count": 139,
     "metadata": {},
     "output_type": "execute_result"
    }
   ],
   "source": [
    "np.unique(y_train)"
   ]
  },
  {
   "cell_type": "code",
   "execution_count": 111,
   "metadata": {},
   "outputs": [],
   "source": [
    "def errors(model, x_test, y_test):\n",
    "  outputs = model.predict(x_test)\n",
    "  error = np.absolute(outputs - y_test)\n",
    "  mae = np.sum(error) / len(error)\n",
    "  error = (outputs - y_test)**2\n",
    "  mse = np.sum(error) / len(error)\n",
    "  print(\"MAE:\", mae) #абсолютная ошибка (MAE)\n",
    "  print(\"MSE:\", mse) #среднеквадратичная ошибка (MSE)\n",
    "  print(\"RMSE:\", np.sqrt(mse)) #корень среднеквадратичной ошибки (RMSE)"
   ]
  },
  {
   "cell_type": "code",
   "execution_count": 112,
   "metadata": {},
   "outputs": [],
   "source": [
    "y_train = y_train.reshape(-1)\n",
    "y_test = y_test.reshape(-1)"
   ]
  },
  {
   "cell_type": "markdown",
   "metadata": {},
   "source": [
    "# Обучение"
   ]
  },
  {
   "cell_type": "markdown",
   "metadata": {},
   "source": [
    "В зависимости от вашего задания обучаете свой алгоритм"
   ]
  },
  {
   "cell_type": "code",
   "execution_count": 113,
   "metadata": {},
   "outputs": [
    {
     "data": {
      "text/plain": [
       "RandomForestRegressor(n_estimators=200, oob_score=True, warm_start=True)"
      ]
     },
     "execution_count": 113,
     "metadata": {},
     "output_type": "execute_result"
    }
   ],
   "source": [
    "# Создаём модель леса из сотни деревьев\n",
    "model = RandomForestRegressor(n_estimators=200, \n",
    "                               bootstrap = True,\n",
    "                               warm_start = True,\n",
    "                               oob_score = True)\n",
    "# Обучаем на тренировочных данных\n",
    "model.fit(x_train, y_train)"
   ]
  },
  {
   "cell_type": "code",
   "execution_count": 114,
   "metadata": {},
   "outputs": [
    {
     "name": "stdout",
     "output_type": "stream",
     "text": [
      "MAE: 45156.21428571428\n",
      "MSE: 3374191707.75\n",
      "RMSE: 58087.79310448969\n"
     ]
    }
   ],
   "source": [
    "errors(model, x_test, y_test)"
   ]
  },
  {
   "cell_type": "code",
   "execution_count": 115,
   "metadata": {},
   "outputs": [
    {
     "data": {
      "text/plain": [
       "XGBRegressor(base_score=0.5, booster='gbtree', colsample_bylevel=1,\n",
       "             colsample_bynode=1, colsample_bytree=1, gamma=0, gpu_id=-1,\n",
       "             importance_type='gain', interaction_constraints='',\n",
       "             learning_rate=0.3, max_delta_step=0, max_depth=6,\n",
       "             min_child_weight=1, missing=nan, monotone_constraints='()',\n",
       "             n_estimators=200, n_jobs=8, num_parallel_tree=1, random_state=42,\n",
       "             reg_alpha=0, reg_lambda=1, scale_pos_weight=1, seed=42,\n",
       "             subsample=1, tree_method='exact', validate_parameters=1,\n",
       "             verbosity=None)"
      ]
     },
     "execution_count": 115,
     "metadata": {},
     "output_type": "execute_result"
    }
   ],
   "source": [
    "# Создаём модель леса XGBoost\n",
    "model = XGBRegressor(seed=42,\n",
    "                      n_estimators=200,\n",
    "                      max_depth=6,\n",
    "                      learning_rate=0.3)\n",
    "# Обучаем на тренировочных данных\n",
    "model.fit(x_train, y_train)"
   ]
  },
  {
   "cell_type": "code",
   "execution_count": 116,
   "metadata": {},
   "outputs": [
    {
     "name": "stdout",
     "output_type": "stream",
     "text": [
      "MAE: 49959.41725127551\n",
      "MSE: 3775157748.276848\n",
      "RMSE: 61442.31236108264\n"
     ]
    }
   ],
   "source": [
    "errors(model, x_test, y_test)"
   ]
  },
  {
   "cell_type": "code",
   "execution_count": 117,
   "metadata": {},
   "outputs": [
    {
     "data": {
      "text/plain": [
       "0.8629142705979009"
      ]
     },
     "execution_count": 117,
     "metadata": {},
     "output_type": "execute_result"
    }
   ],
   "source": [
    "from sklearn.ensemble import AdaBoostRegressor\n",
    "adab = AdaBoostRegressor(random_state=0, n_estimators=100)\n",
    "adab.fit(x_train, y_train)\n",
    "adab.score(x_train, y_train)"
   ]
  },
  {
   "cell_type": "code",
   "execution_count": 118,
   "metadata": {},
   "outputs": [
    {
     "name": "stdout",
     "output_type": "stream",
     "text": [
      "MAE: 49140.60690671467\n",
      "MSE: 3829560792.676502\n",
      "RMSE: 61883.44522306836\n"
     ]
    }
   ],
   "source": [
    "errors(adab, x_test, y_test)"
   ]
  },
  {
   "cell_type": "code",
   "execution_count": 119,
   "metadata": {},
   "outputs": [],
   "source": [
    "poly = PolynomialFeatures(3)\n",
    "x_train_poly = poly.fit_transform(x_train)\n",
    "x_test_poly = poly.fit_transform(x_test)\n",
    "\n",
    "linear_model = LinearRegression()\n",
    "poly_model = LinearRegression()"
   ]
  },
  {
   "cell_type": "code",
   "execution_count": 120,
   "metadata": {},
   "outputs": [
    {
     "name": "stdout",
     "output_type": "stream",
     "text": [
      "MAE: 64277.28865670308\n",
      "MSE: 6789025559.265864\n",
      "RMSE: 82395.5433216255\n"
     ]
    }
   ],
   "source": [
    "linear_model.fit(x_train, y_train)\n",
    "linear_model.score(x_train, y_train)\n",
    "errors(linear_model, x_test, y_test)"
   ]
  },
  {
   "cell_type": "code",
   "execution_count": 121,
   "metadata": {},
   "outputs": [
    {
     "name": "stdout",
     "output_type": "stream",
     "text": [
      "MAE: 48324.77705983092\n",
      "MSE: 3906035332.794268\n",
      "RMSE: 62498.282638759505\n"
     ]
    }
   ],
   "source": [
    "poly_model.fit(x_train_poly, y_train)\n",
    "poly_model.score(x_train_poly, y_train)\n",
    "errors(poly_model, x_test_poly, y_test)"
   ]
  },
  {
   "cell_type": "code",
   "execution_count": 122,
   "metadata": {},
   "outputs": [],
   "source": [
    "y_train = y_train.reshape(-1,1)\n",
    "y_test = y_test.reshape(-1,1)"
   ]
  },
  {
   "cell_type": "code",
   "execution_count": 124,
   "metadata": {},
   "outputs": [
    {
     "name": "stdout",
     "output_type": "stream",
     "text": [
      "Model: \"sequential_3\"\n",
      "_________________________________________________________________\n",
      "Layer (type)                 Output Shape              Param #   \n",
      "=================================================================\n",
      "dense_9 (Dense)              (None, 64)                256       \n",
      "_________________________________________________________________\n",
      "dense_10 (Dense)             (None, 64)                4160      \n",
      "_________________________________________________________________\n",
      "dense_11 (Dense)             (None, 1)                 65        \n",
      "=================================================================\n",
      "Total params: 4,481\n",
      "Trainable params: 4,481\n",
      "Non-trainable params: 0\n",
      "_________________________________________________________________\n",
      "Epoch 1/100\n",
      "  1/391 [..............................] - ETA: 0s - loss: 0.2208 - mae: 0.4699WARNING:tensorflow:Callbacks method `on_train_batch_end` is slow compared to the batch time (batch time: 0.0000s vs `on_train_batch_end` time: 0.0010s). Check your callbacks.\n",
      "268/391 [===================>..........] - ETA: 0s - loss: 0.0139 - mae: 0.0580INFO:tensorflow:Assets written to: model-001.model\\assets\n",
      "391/391 [==============================] - 1s 2ms/step - loss: 0.0096 - mae: 0.0398 - val_loss: 3.3655e-09 - val_mae: 5.0860e-05\n",
      "Epoch 2/100\n",
      "255/391 [==================>...........] - ETA: 0s - loss: 1.5411e-09 - mae: 3.3752e-05INFO:tensorflow:Assets written to: model-002.model\\assets\n",
      "391/391 [==============================] - 1s 2ms/step - loss: 1.2236e-09 - mae: 2.9358e-05 - val_loss: 5.2582e-10 - val_mae: 1.9778e-05\n",
      "Epoch 3/100\n",
      "271/391 [===================>..........] - ETA: 0s - loss: 4.2695e-10 - mae: 1.7392e-05INFO:tensorflow:Assets written to: model-003.model\\assets\n",
      "391/391 [==============================] - 1s 2ms/step - loss: 3.8743e-10 - mae: 1.6460e-05 - val_loss: 2.7430e-10 - val_mae: 1.4210e-05\n",
      "Epoch 4/100\n",
      "376/391 [===========================>..] - ETA: 0s - loss: 2.2830e-10 - mae: 1.2748e-05INFO:tensorflow:Assets written to: model-004.model\\assets\n",
      "391/391 [==============================] - 1s 2ms/step - loss: 2.3080e-10 - mae: 1.2762e-05 - val_loss: 1.8329e-10 - val_mae: 1.1568e-05\n",
      "Epoch 5/100\n",
      "356/391 [==========================>...] - ETA: 0s - loss: 1.6439e-10 - mae: 1.0768e-05INFO:tensorflow:Assets written to: model-005.model\\assets\n",
      "391/391 [==============================] - 1s 2ms/step - loss: 1.6369e-10 - mae: 1.0696e-05 - val_loss: 1.3707e-10 - val_mae: 9.9753e-06\n",
      "Epoch 6/100\n",
      "373/391 [===========================>..] - ETA: 0s - loss: 1.2662e-10 - mae: 9.3886e-06INFO:tensorflow:Assets written to: model-006.model\\assets\n",
      "391/391 [==============================] - 1s 2ms/step - loss: 1.2655e-10 - mae: 9.3733e-06 - val_loss: 1.0902e-10 - val_mae: 8.8805e-06\n",
      "Epoch 7/100\n",
      "266/391 [===================>..........] - ETA: 0s - loss: 9.9561e-11 - mae: 8.3090e-06INFO:tensorflow:Assets written to: model-007.model\\assets\n",
      "391/391 [==============================] - 1s 2ms/step - loss: 1.0287e-10 - mae: 8.4398e-06 - val_loss: 9.0377e-11 - val_mae: 8.0722e-06\n",
      "Epoch 8/100\n",
      "365/391 [===========================>..] - ETA: 0s - loss: 8.6351e-11 - mae: 7.7339e-06INFO:tensorflow:Assets written to: model-008.model\\assets\n",
      "391/391 [==============================] - 1s 2ms/step - loss: 8.6504e-11 - mae: 7.7260e-06 - val_loss: 7.7020e-11 - val_mae: 7.4415e-06\n",
      "Epoch 9/100\n",
      "249/391 [==================>...........] - ETA: 0s - loss: 8.9371e-11 - mae: 7.6203e-06INFO:tensorflow:Assets written to: model-009.model\\assets\n",
      "391/391 [==============================] - 1s 2ms/step - loss: 7.4596e-11 - mae: 7.1362e-06 - val_loss: 6.7144e-11 - val_mae: 6.9366e-06\n",
      "Epoch 10/100\n",
      "372/391 [===========================>..] - ETA: 0s - loss: 6.5167e-11 - mae: 6.6977e-06INFO:tensorflow:Assets written to: model-010.model\\assets\n",
      "391/391 [==============================] - 1s 2ms/step - loss: 6.5425e-11 - mae: 6.6843e-06 - val_loss: 5.9364e-11 - val_mae: 6.5152e-06\n",
      "Epoch 11/100\n",
      "283/391 [====================>.........] - ETA: 0s - loss: 6.4237e-11 - mae: 6.5074e-06INFO:tensorflow:Assets written to: model-011.model\\assets\n",
      "391/391 [==============================] - 1s 2ms/step - loss: 5.8348e-11 - mae: 6.3042e-06 - val_loss: 5.3096e-11 - val_mae: 6.1581e-06\n",
      "Epoch 12/100\n",
      "352/391 [==========================>...] - ETA: 0s - loss: 5.4392e-11 - mae: 6.0524e-06INFO:tensorflow:Assets written to: model-012.model\\assets\n",
      "391/391 [==============================] - 1s 2ms/step - loss: 5.2617e-11 - mae: 5.9867e-06 - val_loss: 4.8130e-11 - val_mae: 5.8583e-06\n",
      "Epoch 13/100\n",
      "388/391 [============================>.] - ETA: 0s - loss: 4.8038e-11 - mae: 5.7177e-06INFO:tensorflow:Assets written to: model-013.model\\assets\n",
      "391/391 [==============================] - 1s 2ms/step - loss: 4.7802e-11 - mae: 5.7056e-06 - val_loss: 4.3910e-11 - val_mae: 5.5925e-06\n",
      "Epoch 14/100\n",
      "262/391 [===================>..........] - ETA: 0s - loss: 4.6063e-11 - mae: 5.4688e-06INFO:tensorflow:Assets written to: model-014.model\\assets\n",
      "391/391 [==============================] - 1s 2ms/step - loss: 4.3821e-11 - mae: 5.4571e-06 - val_loss: 4.0392e-11 - val_mae: 5.3577e-06\n",
      "Epoch 15/100\n",
      "343/391 [=========================>....] - ETA: 0s - loss: 3.9467e-11 - mae: 5.1842e-06INFO:tensorflow:Assets written to: model-015.model\\assets\n",
      "391/391 [==============================] - 1s 2ms/step - loss: 4.0514e-11 - mae: 5.2455e-06 - val_loss: 3.7501e-11 - val_mae: 5.1613e-06\n",
      "Epoch 16/100\n",
      "369/391 [===========================>..] - ETA: 0s - loss: 3.6354e-11 - mae: 4.9745e-06INFO:tensorflow:Assets written to: model-016.model\\assets\n",
      "391/391 [==============================] - 1s 2ms/step - loss: 3.7523e-11 - mae: 5.0387e-06 - val_loss: 3.4863e-11 - val_mae: 4.9721e-06\n",
      "Epoch 17/100\n",
      "381/391 [============================>.] - ETA: 0s - loss: 3.5552e-11 - mae: 4.8957e-06INFO:tensorflow:Assets written to: model-017.model\\assets\n",
      "391/391 [==============================] - 1s 2ms/step - loss: 3.5032e-11 - mae: 4.8682e-06 - val_loss: 3.2591e-11 - val_mae: 4.8043e-06\n",
      "Epoch 18/100\n",
      "380/391 [============================>.] - ETA: 0s - loss: 3.3486e-11 - mae: 4.7535e-06INFO:tensorflow:Assets written to: model-018.model\\assets\n",
      "391/391 [==============================] - 1s 2ms/step - loss: 3.2826e-11 - mae: 4.7083e-06 - val_loss: 3.0435e-11 - val_mae: 4.6406e-06\n",
      "Epoch 19/100\n",
      "391/391 [==============================] - ETA: 0s - loss: 3.0799e-11 - mae: 4.5583e-06INFO:tensorflow:Assets written to: model-019.model\\assets\n",
      "391/391 [==============================] - 1s 2ms/step - loss: 3.0799e-11 - mae: 4.5583e-06 - val_loss: 2.8870e-11 - val_mae: 4.5202e-06\n",
      "Epoch 20/100\n",
      "346/391 [=========================>....] - ETA: 0s - loss: 2.8377e-11 - mae: 4.3808e-06INFO:tensorflow:Assets written to: model-020.model\\assets\n",
      "391/391 [==============================] - 1s 2ms/step - loss: 2.9103e-11 - mae: 4.4309e-06 - val_loss: 2.7211e-11 - val_mae: 4.3864e-06\n",
      "Epoch 21/100\n",
      "261/391 [===================>..........] - ETA: 0s - loss: 2.9678e-11 - mae: 4.3982e-06INFO:tensorflow:Assets written to: model-021.model\\assets\n",
      "391/391 [==============================] - 1s 2ms/step - loss: 2.7528e-11 - mae: 4.3048e-06 - val_loss: 2.5721e-11 - val_mae: 4.2617e-06\n",
      "Epoch 22/100\n",
      "369/391 [===========================>..] - ETA: 0s - loss: 2.6465e-11 - mae: 4.2129e-06INFO:tensorflow:Assets written to: model-022.model\\assets\n",
      "391/391 [==============================] - 1s 2ms/step - loss: 2.6194e-11 - mae: 4.1976e-06 - val_loss: 2.4520e-11 - val_mae: 4.1583e-06\n",
      "Epoch 23/100\n",
      "387/391 [============================>.] - ETA: 0s - loss: 2.5024e-11 - mae: 4.0969e-06INFO:tensorflow:Assets written to: model-023.model\\assets\n",
      "391/391 [==============================] - 1s 2ms/step - loss: 2.4850e-11 - mae: 4.0836e-06 - val_loss: 2.3340e-11 - val_mae: 4.0543e-06\n",
      "Epoch 24/100\n",
      "380/391 [============================>.] - ETA: 0s - loss: 2.2552e-11 - mae: 3.9342e-06INFO:tensorflow:Assets written to: model-024.model\\assets\n",
      "391/391 [==============================] - 1s 2ms/step - loss: 2.3708e-11 - mae: 3.9902e-06 - val_loss: 2.2248e-11 - val_mae: 3.9564e-06\n",
      "Epoch 25/100\n",
      "341/391 [=========================>....] - ETA: 0s - loss: 2.1705e-11 - mae: 3.8519e-06INFO:tensorflow:Assets written to: model-025.model\\assets\n"
     ]
    },
    {
     "name": "stdout",
     "output_type": "stream",
     "text": [
      "391/391 [==============================] - 1s 2ms/step - loss: 2.2662e-11 - mae: 3.8990e-06 - val_loss: 2.1280e-11 - val_mae: 3.8670e-06\n",
      "Epoch 26/100\n",
      "387/391 [============================>.] - ETA: 0s - loss: 2.1839e-11 - mae: 3.8202e-06INFO:tensorflow:Assets written to: model-026.model\\assets\n",
      "391/391 [==============================] - 1s 2ms/step - loss: 2.1732e-11 - mae: 3.8145e-06 - val_loss: 2.0399e-11 - val_mae: 3.7843e-06\n",
      "Epoch 27/100\n",
      "358/391 [==========================>...] - ETA: 0s - loss: 2.0691e-11 - mae: 3.7344e-06INFO:tensorflow:Assets written to: model-027.model\\assets\n",
      "391/391 [==============================] - 1s 2ms/step - loss: 2.0818e-11 - mae: 3.7344e-06 - val_loss: 1.9567e-11 - val_mae: 3.7058e-06\n",
      "Epoch 28/100\n",
      "262/391 [===================>..........] - ETA: 0s - loss: 2.0576e-11 - mae: 3.6887e-06INFO:tensorflow:Assets written to: model-028.model\\assets\n",
      "391/391 [==============================] - 1s 2ms/step - loss: 1.9987e-11 - mae: 3.6580e-06 - val_loss: 1.8773e-11 - val_mae: 3.6255e-06\n",
      "Epoch 29/100\n",
      "378/391 [============================>.] - ETA: 0s - loss: 1.8803e-11 - mae: 3.5585e-06INFO:tensorflow:Assets written to: model-029.model\\assets\n",
      "391/391 [==============================] - 1s 2ms/step - loss: 1.9243e-11 - mae: 3.5850e-06 - val_loss: 1.8111e-11 - val_mae: 3.5647e-06\n",
      "Epoch 30/100\n",
      "384/391 [============================>.] - ETA: 0s - loss: 1.8704e-11 - mae: 3.5272e-06INFO:tensorflow:Assets written to: model-030.model\\assets\n",
      "391/391 [==============================] - 1s 2ms/step - loss: 1.8502e-11 - mae: 3.5123e-06 - val_loss: 1.7445e-11 - val_mae: 3.4948e-06\n",
      "Epoch 31/100\n",
      "359/391 [==========================>...] - ETA: 0s - loss: 1.7386e-11 - mae: 3.4119e-06INFO:tensorflow:Assets written to: model-031.model\\assets\n",
      "391/391 [==============================] - 1s 2ms/step - loss: 1.7898e-11 - mae: 3.4539e-06 - val_loss: 1.6815e-11 - val_mae: 3.4291e-06\n",
      "Epoch 32/100\n",
      "350/391 [=========================>....] - ETA: 0s - loss: 1.8335e-11 - mae: 3.4751e-06INFO:tensorflow:Assets written to: model-032.model\\assets\n",
      "391/391 [==============================] - 1s 2ms/step - loss: 1.7265e-11 - mae: 3.3906e-06 - val_loss: 1.6269e-11 - val_mae: 3.3731e-06\n",
      "Epoch 33/100\n",
      "391/391 [==============================] - ETA: 0s - loss: 1.6672e-11 - mae: 3.3308e-06INFO:tensorflow:Assets written to: model-033.model\\assets\n",
      "391/391 [==============================] - 1s 2ms/step - loss: 1.6672e-11 - mae: 3.3308e-06 - val_loss: 1.5701e-11 - val_mae: 3.3038e-06\n",
      "Epoch 34/100\n",
      "385/391 [============================>.] - ETA: 0s - loss: 1.6117e-11 - mae: 3.2691e-06INFO:tensorflow:Assets written to: model-034.model\\assets\n",
      "391/391 [==============================] - 1s 2ms/step - loss: 1.6104e-11 - mae: 3.2720e-06 - val_loss: 1.5241e-11 - val_mae: 3.2612e-06\n",
      "Epoch 35/100\n",
      "342/391 [=========================>....] - ETA: 0s - loss: 1.5905e-11 - mae: 3.2370e-06INFO:tensorflow:Assets written to: model-035.model\\assets\n",
      "391/391 [==============================] - 1s 2ms/step - loss: 1.5628e-11 - mae: 3.2235e-06 - val_loss: 1.4754e-11 - val_mae: 3.2053e-06\n",
      "Epoch 36/100\n",
      "275/391 [====================>.........] - ETA: 0s - loss: 1.6418e-11 - mae: 3.2312e-06INFO:tensorflow:Assets written to: model-036.model\\assets\n",
      "391/391 [==============================] - 1s 2ms/step - loss: 1.5128e-11 - mae: 3.1685e-06 - val_loss: 1.4251e-11 - val_mae: 3.1499e-06\n",
      "Epoch 37/100\n",
      "261/391 [===================>..........] - ETA: 0s - loss: 1.2505e-11 - mae: 2.9951e-06INFO:tensorflow:Assets written to: model-037.model\\assets\n",
      "391/391 [==============================] - 1s 2ms/step - loss: 1.4720e-11 - mae: 3.1273e-06 - val_loss: 1.3829e-11 - val_mae: 3.1019e-06\n",
      "Epoch 38/100\n",
      "260/391 [==================>...........] - ETA: 0s - loss: 1.3753e-11 - mae: 3.0474e-06INFO:tensorflow:Assets written to: model-038.model\\assets\n",
      "391/391 [==============================] - 1s 2ms/step - loss: 1.4258e-11 - mae: 3.0741e-06 - val_loss: 1.3497e-11 - val_mae: 3.0672e-06\n",
      "Epoch 39/100\n",
      "381/391 [============================>.] - ETA: 0s - loss: 1.3443e-11 - mae: 3.0024e-06INFO:tensorflow:Assets written to: model-039.model\\assets\n",
      "391/391 [==============================] - 1s 2ms/step - loss: 1.3878e-11 - mae: 3.0315e-06 - val_loss: 1.3142e-11 - val_mae: 3.0258e-06\n",
      "Epoch 40/100\n",
      "361/391 [==========================>...] - ETA: 0s - loss: 1.3956e-11 - mae: 3.0128e-06INFO:tensorflow:Assets written to: model-040.model\\assets\n",
      "391/391 [==============================] - 1s 2ms/step - loss: 1.3513e-11 - mae: 2.9886e-06 - val_loss: 1.2754e-11 - val_mae: 2.9814e-06\n",
      "Epoch 41/100\n",
      "382/391 [============================>.] - ETA: 0s - loss: 1.2964e-11 - mae: 2.9328e-06INFO:tensorflow:Assets written to: model-041.model\\assets\n",
      "391/391 [==============================] - 1s 2ms/step - loss: 1.3140e-11 - mae: 2.9529e-06 - val_loss: 1.2447e-11 - val_mae: 2.9389e-06\n",
      "Epoch 42/100\n",
      "261/391 [===================>..........] - ETA: 0s - loss: 1.4652e-11 - mae: 3.0439e-06INFO:tensorflow:Assets written to: model-042.model\\assets\n",
      "391/391 [==============================] - 1s 2ms/step - loss: 1.2792e-11 - mae: 2.9077e-06 - val_loss: 1.2099e-11 - val_mae: 2.8993e-06\n",
      "Epoch 43/100\n",
      "363/391 [==========================>...] - ETA: 0s - loss: 1.2816e-11 - mae: 2.8967e-06INFO:tensorflow:Assets written to: model-043.model\\assets\n",
      "391/391 [==============================] - 1s 2ms/step - loss: 1.2474e-11 - mae: 2.8725e-06 - val_loss: 1.1782e-11 - val_mae: 2.8568e-06\n",
      "Epoch 44/100\n",
      "384/391 [============================>.] - ETA: 0s - loss: 1.1902e-11 - mae: 2.8081e-06INFO:tensorflow:Assets written to: model-044.model\\assets\n",
      "391/391 [==============================] - 1s 2ms/step - loss: 1.2138e-11 - mae: 2.8295e-06 - val_loss: 1.1513e-11 - val_mae: 2.8288e-06\n",
      "Epoch 45/100\n",
      "363/391 [==========================>...] - ETA: 0s - loss: 1.1153e-11 - mae: 2.7487e-06INFO:tensorflow:Assets written to: model-045.model\\assets\n",
      "391/391 [==============================] - 1s 2ms/step - loss: 1.1871e-11 - mae: 2.7993e-06 - val_loss: 1.1215e-11 - val_mae: 2.7911e-06\n",
      "Epoch 46/100\n",
      "386/391 [============================>.] - ETA: 0s - loss: 1.1655e-11 - mae: 2.7665e-06INFO:tensorflow:Assets written to: model-046.model\\assets\n",
      "391/391 [==============================] - 1s 2ms/step - loss: 1.1593e-11 - mae: 2.7627e-06 - val_loss: 1.0952e-11 - val_mae: 2.7552e-06\n",
      "Epoch 47/100\n",
      "386/391 [============================>.] - ETA: 0s - loss: 1.1129e-11 - mae: 2.7156e-06INFO:tensorflow:Assets written to: model-047.model\\assets\n",
      "391/391 [==============================] - 1s 2ms/step - loss: 1.1320e-11 - mae: 2.7321e-06 - val_loss: 1.0710e-11 - val_mae: 2.7217e-06\n",
      "Epoch 48/100\n",
      "382/391 [============================>.] - ETA: 0s - loss: 1.0929e-11 - mae: 2.6852e-06INFO:tensorflow:Assets written to: model-048.model\\assets\n",
      "391/391 [==============================] - 1s 2ms/step - loss: 1.1064e-11 - mae: 2.6982e-06 - val_loss: 1.0445e-11 - val_mae: 2.6853e-06\n",
      "Epoch 49/100\n",
      "383/391 [============================>.] - ETA: 0s - loss: 1.0652e-11 - mae: 2.6525e-06INFO:tensorflow:Assets written to: model-049.model\\assets\n",
      "391/391 [==============================] - 1s 2ms/step - loss: 1.0810e-11 - mae: 2.6657e-06 - val_loss: 1.0259e-11 - val_mae: 2.6567e-06\n",
      "Epoch 50/100\n",
      "359/391 [==========================>...] - ETA: 0s - loss: 9.7993e-12 - mae: 2.5773e-06INFO:tensorflow:Assets written to: model-050.model\\assets\n",
      "391/391 [==============================] - 1s 2ms/step - loss: 1.0588e-11 - mae: 2.6391e-06 - val_loss: 1.0006e-11 - val_mae: 2.6281e-06\n",
      "Epoch 51/100\n",
      "367/391 [===========================>..] - ETA: 0s - loss: 1.0066e-11 - mae: 2.5716e-06INFO:tensorflow:Assets written to: model-051.model\\assets\n",
      "391/391 [==============================] - 1s 2ms/step - loss: 1.0367e-11 - mae: 2.6092e-06 - val_loss: 9.7872e-12 - val_mae: 2.5983e-06\n",
      "Epoch 52/100\n",
      "260/391 [==================>...........] - ETA: 0s - loss: 9.8556e-12 - mae: 2.5586e-06INFO:tensorflow:Assets written to: model-052.model\\assets\n",
      "391/391 [==============================] - 1s 2ms/step - loss: 1.0145e-11 - mae: 2.5818e-06 - val_loss: 9.6237e-12 - val_mae: 2.5764e-06\n",
      "Epoch 53/100\n",
      "268/391 [===================>..........] - ETA: 0s - loss: 1.0323e-11 - mae: 2.5877e-06INFO:tensorflow:Assets written to: model-053.model\\assets\n",
      "391/391 [==============================] - 1s 2ms/step - loss: 9.9147e-12 - mae: 2.5502e-06 - val_loss: 9.4120e-12 - val_mae: 2.5502e-06\n",
      "Epoch 54/100\n",
      "381/391 [============================>.] - ETA: 0s - loss: 9.8733e-12 - mae: 2.5395e-06INFO:tensorflow:Assets written to: model-054.model\\assets\n",
      "391/391 [==============================] - 1s 2ms/step - loss: 9.7321e-12 - mae: 2.5255e-06 - val_loss: 9.1892e-12 - val_mae: 2.5113e-06\n",
      "Epoch 55/100\n",
      "338/391 [========================>.....] - ETA: 0s - loss: 9.7687e-12 - mae: 2.5119e-06INFO:tensorflow:Assets written to: model-055.model\\assets\n",
      "391/391 [==============================] - 1s 2ms/step - loss: 9.5484e-12 - mae: 2.5016e-06 - val_loss: 9.0209e-12 - val_mae: 2.4918e-06\n",
      "Epoch 56/100\n",
      "254/391 [==================>...........] - ETA: 0s - loss: 8.7392e-12 - mae: 2.4375e-06INFO:tensorflow:Assets written to: model-056.model\\assets\n",
      "391/391 [==============================] - 1s 2ms/step - loss: 9.3426e-12 - mae: 2.4741e-06 - val_loss: 8.8551e-12 - val_mae: 2.4663e-06\n",
      "Epoch 57/100\n",
      "371/391 [===========================>..] - ETA: 0s - loss: 9.0745e-12 - mae: 2.4350e-06INFO:tensorflow:Assets written to: model-057.model\\assets\n",
      "391/391 [==============================] - 1s 2ms/step - loss: 9.1730e-12 - mae: 2.4508e-06 - val_loss: 8.7121e-12 - val_mae: 2.4474e-06\n",
      "Epoch 58/100\n",
      "268/391 [===================>..........] - ETA: 0s - loss: 9.5276e-12 - mae: 2.4587e-06INFO:tensorflow:Assets written to: model-058.model\\assets\n",
      "391/391 [==============================] - 1s 2ms/step - loss: 9.0038e-12 - mae: 2.4290e-06 - val_loss: 8.5266e-12 - val_mae: 2.4249e-06\n",
      "Epoch 59/100\n",
      "266/391 [===================>..........] - ETA: 0s - loss: 8.8984e-12 - mae: 2.4344e-06INFO:tensorflow:Assets written to: model-059.model\\assets\n",
      "391/391 [==============================] - 1s 2ms/step - loss: 8.8478e-12 - mae: 2.4069e-06 - val_loss: 8.4058e-12 - val_mae: 2.4043e-06\n",
      "Epoch 60/100\n",
      "349/391 [=========================>....] - ETA: 0s - loss: 8.4828e-12 - mae: 2.3712e-06INFO:tensorflow:Assets written to: model-060.model\\assets\n",
      "391/391 [==============================] - 1s 2ms/step - loss: 8.6947e-12 - mae: 2.3849e-06 - val_loss: 8.2841e-12 - val_mae: 2.3866e-06\n",
      "Epoch 61/100\n",
      "375/391 [===========================>..] - ETA: 0s - loss: 8.6952e-12 - mae: 2.3734e-06INFO:tensorflow:Assets written to: model-061.model\\assets\n",
      "391/391 [==============================] - 1s 2ms/step - loss: 8.5418e-12 - mae: 2.3618e-06 - val_loss: 8.0896e-12 - val_mae: 2.3556e-06\n",
      "Epoch 62/100\n",
      "272/391 [===================>..........] - ETA: 0s - loss: 8.8058e-12 - mae: 2.3853e-06INFO:tensorflow:Assets written to: model-062.model\\assets\n",
      "391/391 [==============================] - 1s 2ms/step - loss: 8.3896e-12 - mae: 2.3413e-06 - val_loss: 7.9535e-12 - val_mae: 2.3380e-06\n",
      "Epoch 63/100\n",
      "386/391 [============================>.] - ETA: 0s - loss: 8.1605e-12 - mae: 2.3042e-06INFO:tensorflow:Assets written to: model-063.model\\assets\n",
      "391/391 [==============================] - 1s 2ms/step - loss: 8.2294e-12 - mae: 2.3189e-06 - val_loss: 7.8262e-12 - val_mae: 2.3167e-06\n",
      "Epoch 64/100\n",
      "372/391 [===========================>..] - ETA: 0s - loss: 7.9568e-12 - mae: 2.2831e-06INFO:tensorflow:Assets written to: model-064.model\\assets\n",
      "391/391 [==============================] - 1s 2ms/step - loss: 8.1082e-12 - mae: 2.3020e-06 - val_loss: 7.6959e-12 - val_mae: 2.2978e-06\n",
      "Epoch 65/100\n",
      "347/391 [=========================>....] - ETA: 0s - loss: 8.4306e-12 - mae: 2.3270e-06INFO:tensorflow:Assets written to: model-065.model\\assets\n",
      "391/391 [==============================] - 1s 2ms/step - loss: 7.9606e-12 - mae: 2.2772e-06 - val_loss: 7.5357e-12 - val_mae: 2.2711e-06\n",
      "Epoch 66/100\n",
      "375/391 [===========================>..] - ETA: 0s - loss: 7.6451e-12 - mae: 2.2419e-06INFO:tensorflow:Assets written to: model-066.model\\assets\n",
      "391/391 [==============================] - 1s 2ms/step - loss: 7.8522e-12 - mae: 2.2621e-06 - val_loss: 7.4439e-12 - val_mae: 2.2589e-06\n",
      "Epoch 67/100\n",
      "380/391 [============================>.] - ETA: 0s - loss: 7.8315e-12 - mae: 2.2559e-06INFO:tensorflow:Assets written to: model-067.model\\assets\n",
      "391/391 [==============================] - 1s 2ms/step - loss: 7.6915e-12 - mae: 2.2391e-06 - val_loss: 7.3752e-12 - val_mae: 2.2467e-06\n",
      "Epoch 68/100\n",
      "271/391 [===================>..........] - ETA: 0s - loss: 8.1154e-12 - mae: 2.2848e-06INFO:tensorflow:Assets written to: model-068.model\\assets\n",
      "391/391 [==============================] - 1s 2ms/step - loss: 7.6170e-12 - mae: 2.2295e-06 - val_loss: 7.2150e-12 - val_mae: 2.2242e-06\n",
      "Epoch 69/100\n",
      "388/391 [============================>.] - ETA: 0s - loss: 7.5134e-12 - mae: 2.2107e-06INFO:tensorflow:Assets written to: model-069.model\\assets\n",
      "391/391 [==============================] - 1s 2ms/step - loss: 7.4764e-12 - mae: 2.2060e-06 - val_loss: 7.1313e-12 - val_mae: 2.2090e-06\n",
      "Epoch 70/100\n",
      "285/391 [====================>.........] - ETA: 0s - loss: 6.7753e-12 - mae: 2.1295e-06INFO:tensorflow:Assets written to: model-070.model\\assets\n",
      "391/391 [==============================] - 1s 2ms/step - loss: 7.3659e-12 - mae: 2.1913e-06 - val_loss: 6.9899e-12 - val_mae: 2.1841e-06\n",
      "Epoch 71/100\n",
      "264/391 [===================>..........] - ETA: 0s - loss: 6.1432e-12 - mae: 2.0478e-06INFO:tensorflow:Assets written to: model-071.model\\assets\n",
      "391/391 [==============================] - 1s 2ms/step - loss: 7.2736e-12 - mae: 2.1770e-06 - val_loss: 6.9066e-12 - val_mae: 2.1731e-06\n",
      "Epoch 72/100\n",
      "391/391 [==============================] - ETA: 0s - loss: 7.1607e-12 - mae: 2.1574e-06INFO:tensorflow:Assets written to: model-072.model\\assets\n",
      "391/391 [==============================] - 1s 2ms/step - loss: 7.1607e-12 - mae: 2.1574e-06 - val_loss: 6.7889e-12 - val_mae: 2.1567e-06\n",
      "Epoch 73/100\n",
      "366/391 [===========================>..] - ETA: 0s - loss: 7.1187e-12 - mae: 2.1375e-06INFO:tensorflow:Assets written to: model-073.model\\assets\n",
      "391/391 [==============================] - 1s 2ms/step - loss: 7.0285e-12 - mae: 2.1368e-06 - val_loss: 6.6773e-12 - val_mae: 2.1348e-06\n",
      "Epoch 74/100\n",
      "387/391 [============================>.] - ETA: 0s - loss: 6.9292e-12 - mae: 2.1187e-06INFO:tensorflow:Assets written to: model-074.model\\assets\n",
      "391/391 [==============================] - 1s 2ms/step - loss: 6.9362e-12 - mae: 2.1226e-06 - val_loss: 6.5578e-12 - val_mae: 2.1184e-06\n",
      "Epoch 75/100\n",
      "268/391 [===================>..........] - ETA: 0s - loss: 7.4702e-12 - mae: 2.1678e-06INFO:tensorflow:Assets written to: model-075.model\\assets\n",
      "391/391 [==============================] - 1s 2ms/step - loss: 6.8509e-12 - mae: 2.1113e-06 - val_loss: 6.4716e-12 - val_mae: 2.0989e-06\n",
      "Epoch 76/100\n",
      "377/391 [===========================>..] - ETA: 0s - loss: 6.8011e-12 - mae: 2.0994e-06INFO:tensorflow:Assets written to: model-076.model\\assets\n",
      "391/391 [==============================] - 1s 2ms/step - loss: 6.7521e-12 - mae: 2.0965e-06 - val_loss: 6.4218e-12 - val_mae: 2.0941e-06\n",
      "Epoch 77/100\n",
      "390/391 [============================>.] - ETA: 0s - loss: 6.6765e-12 - mae: 2.0822e-06INFO:tensorflow:Assets written to: model-077.model\\assets\n",
      "391/391 [==============================] - 1s 2ms/step - loss: 6.6639e-12 - mae: 2.0802e-06 - val_loss: 6.3395e-12 - val_mae: 2.0783e-06\n",
      "Epoch 78/100\n",
      "370/391 [===========================>..] - ETA: 0s - loss: 6.6488e-12 - mae: 2.0710e-06INFO:tensorflow:Assets written to: model-078.model\\assets\n",
      "391/391 [==============================] - 1s 2ms/step - loss: 6.5710e-12 - mae: 2.0659e-06 - val_loss: 6.2214e-12 - val_mae: 2.0600e-06\n",
      "Epoch 79/100\n",
      "364/391 [==========================>...] - ETA: 0s - loss: 6.5945e-12 - mae: 2.0614e-06INFO:tensorflow:Assets written to: model-079.model\\assets\n",
      "391/391 [==============================] - 1s 2ms/step - loss: 6.4628e-12 - mae: 2.0477e-06 - val_loss: 6.1130e-12 - val_mae: 2.0418e-06\n",
      "Epoch 80/100\n",
      "385/391 [============================>.] - ETA: 0s - loss: 6.3531e-12 - mae: 2.0320e-06INFO:tensorflow:Assets written to: model-080.model\\assets\n",
      "391/391 [==============================] - 1s 2ms/step - loss: 6.3887e-12 - mae: 2.0383e-06 - val_loss: 6.0506e-12 - val_mae: 2.0308e-06\n"
     ]
    },
    {
     "name": "stdout",
     "output_type": "stream",
     "text": [
      "Epoch 81/100\n",
      "376/391 [===========================>..] - ETA: 0s - loss: 6.1645e-12 - mae: 2.0074e-06INFO:tensorflow:Assets written to: model-081.model\\assets\n",
      "391/391 [==============================] - 1s 2ms/step - loss: 6.2928e-12 - mae: 2.0195e-06 - val_loss: 6.0126e-12 - val_mae: 2.0253e-06\n",
      "Epoch 82/100\n",
      "359/391 [==========================>...] - ETA: 0s - loss: 6.3850e-12 - mae: 2.0262e-06INFO:tensorflow:Assets written to: model-082.model\\assets\n",
      "391/391 [==============================] - 1s 2ms/step - loss: 6.2122e-12 - mae: 2.0067e-06 - val_loss: 5.9249e-12 - val_mae: 2.0065e-06\n",
      "Epoch 83/100\n",
      "364/391 [==========================>...] - ETA: 0s - loss: 6.0090e-12 - mae: 1.9833e-06INFO:tensorflow:Assets written to: model-083.model\\assets\n",
      "391/391 [==============================] - 1s 2ms/step - loss: 6.1251e-12 - mae: 1.9926e-06 - val_loss: 5.8119e-12 - val_mae: 1.9937e-06\n",
      "Epoch 84/100\n",
      "349/391 [=========================>....] - ETA: 0s - loss: 5.9731e-12 - mae: 1.9705e-06INFO:tensorflow:Assets written to: model-084.model\\assets\n",
      "391/391 [==============================] - 1s 2ms/step - loss: 6.0710e-12 - mae: 1.9828e-06 - val_loss: 5.7698e-12 - val_mae: 1.9876e-06\n",
      "Epoch 85/100\n",
      "375/391 [===========================>..] - ETA: 0s - loss: 5.8697e-12 - mae: 1.9662e-06INFO:tensorflow:Assets written to: model-085.model\\assets\n",
      "391/391 [==============================] - 1s 2ms/step - loss: 5.9987e-12 - mae: 1.9717e-06 - val_loss: 5.6952e-12 - val_mae: 1.9663e-06\n",
      "Epoch 86/100\n",
      "376/391 [===========================>..] - ETA: 0s - loss: 6.0365e-12 - mae: 1.9720e-06INFO:tensorflow:Assets written to: model-086.model\\assets\n",
      "391/391 [==============================] - 1s 2ms/step - loss: 5.9006e-12 - mae: 1.9549e-06 - val_loss: 5.6237e-12 - val_mae: 1.9560e-06\n",
      "Epoch 87/100\n",
      "377/391 [===========================>..] - ETA: 0s - loss: 5.9112e-12 - mae: 1.9504e-06INFO:tensorflow:Assets written to: model-087.model\\assets\n",
      "391/391 [==============================] - 1s 2ms/step - loss: 5.8466e-12 - mae: 1.9456e-06 - val_loss: 5.5573e-12 - val_mae: 1.9408e-06\n",
      "Epoch 88/100\n",
      "261/391 [===================>..........] - ETA: 0s - loss: 6.0107e-12 - mae: 1.9496e-06INFO:tensorflow:Assets written to: model-088.model\\assets\n",
      "391/391 [==============================] - 1s 2ms/step - loss: 5.7854e-12 - mae: 1.9356e-06 - val_loss: 5.4601e-12 - val_mae: 1.9286e-06\n",
      "Epoch 89/100\n",
      "358/391 [==========================>...] - ETA: 0s - loss: 5.7831e-12 - mae: 1.9145e-06INFO:tensorflow:Assets written to: model-089.model\\assets\n",
      "391/391 [==============================] - 1s 2ms/step - loss: 5.6973e-12 - mae: 1.9202e-06 - val_loss: 5.3911e-12 - val_mae: 1.9165e-06\n",
      "Epoch 90/100\n",
      "277/391 [====================>.........] - ETA: 0s - loss: 5.5621e-12 - mae: 1.8996e-06INFO:tensorflow:Assets written to: model-090.model\\assets\n",
      "391/391 [==============================] - 1s 2ms/step - loss: 5.6573e-12 - mae: 1.9150e-06 - val_loss: 5.3719e-12 - val_mae: 1.9116e-06\n",
      "Epoch 91/100\n",
      "390/391 [============================>.] - ETA: 0s - loss: 5.4523e-12 - mae: 1.8858e-06INFO:tensorflow:Assets written to: model-091.model\\assets\n",
      "391/391 [==============================] - 1s 2ms/step - loss: 5.5736e-12 - mae: 1.8996e-06 - val_loss: 5.2774e-12 - val_mae: 1.8909e-06\n",
      "Epoch 92/100\n",
      "387/391 [============================>.] - ETA: 0s - loss: 5.5405e-12 - mae: 1.8923e-06INFO:tensorflow:Assets written to: model-092.model\\assets\n",
      "391/391 [==============================] - 1s 2ms/step - loss: 5.5033e-12 - mae: 1.8869e-06 - val_loss: 5.2186e-12 - val_mae: 1.8836e-06\n",
      "Epoch 93/100\n",
      "250/391 [==================>...........] - ETA: 0s - loss: 5.5383e-12 - mae: 1.8709e-06INFO:tensorflow:Assets written to: model-093.model\\assets\n",
      "391/391 [==============================] - 1s 2ms/step - loss: 5.4416e-12 - mae: 1.8770e-06 - val_loss: 5.1954e-12 - val_mae: 1.8800e-06\n",
      "Epoch 94/100\n",
      "348/391 [=========================>....] - ETA: 0s - loss: 4.9699e-12 - mae: 1.8106e-06INFO:tensorflow:Assets written to: model-094.model\\assets\n",
      "391/391 [==============================] - 1s 2ms/step - loss: 5.3753e-12 - mae: 1.8645e-06 - val_loss: 5.1204e-12 - val_mae: 1.8678e-06\n",
      "Epoch 95/100\n",
      "278/391 [====================>.........] - ETA: 0s - loss: 5.2242e-12 - mae: 1.8334e-06INFO:tensorflow:Assets written to: model-095.model\\assets\n",
      "391/391 [==============================] - 1s 2ms/step - loss: 5.3301e-12 - mae: 1.8563e-06 - val_loss: 5.0384e-12 - val_mae: 1.8532e-06\n",
      "Epoch 96/100\n",
      "270/391 [===================>..........] - ETA: 0s - loss: 5.2561e-12 - mae: 1.8438e-06INFO:tensorflow:Assets written to: model-096.model\\assets\n",
      "391/391 [==============================] - 1s 2ms/step - loss: 5.2509e-12 - mae: 1.8427e-06 - val_loss: 4.9892e-12 - val_mae: 1.8447e-06\n",
      "Epoch 97/100\n",
      "273/391 [===================>..........] - ETA: 0s - loss: 5.4345e-12 - mae: 1.8619e-06INFO:tensorflow:Assets written to: model-097.model\\assets\n",
      "391/391 [==============================] - 1s 2ms/step - loss: 5.1979e-12 - mae: 1.8342e-06 - val_loss: 4.9603e-12 - val_mae: 1.8295e-06\n",
      "Epoch 98/100\n",
      "372/391 [===========================>..] - ETA: 0s - loss: 5.1459e-12 - mae: 1.8179e-06INFO:tensorflow:Assets written to: model-098.model\\assets\n",
      "391/391 [==============================] - 1s 2ms/step - loss: 5.1525e-12 - mae: 1.8237e-06 - val_loss: 4.9051e-12 - val_mae: 1.8240e-06\n",
      "Epoch 99/100\n",
      "349/391 [=========================>....] - ETA: 0s - loss: 5.2122e-12 - mae: 1.8153e-06INFO:tensorflow:Assets written to: model-099.model\\assets\n",
      "391/391 [==============================] - 1s 2ms/step - loss: 5.0850e-12 - mae: 1.8136e-06 - val_loss: 4.8199e-12 - val_mae: 1.8131e-06\n",
      "Epoch 100/100\n",
      "374/391 [===========================>..] - ETA: 0s - loss: 4.9744e-12 - mae: 1.7969e-06INFO:tensorflow:Assets written to: model-100.model\\assets\n",
      "391/391 [==============================] - 1s 2ms/step - loss: 5.0383e-12 - mae: 1.8045e-06 - val_loss: 4.7808e-12 - val_mae: 1.7997e-06\n",
      "4/4 [==============================] - 0s 502us/step - loss: 4.7903e-12 - mae: 1.8003e-06\n",
      "test loss: 4.790290560052757e-12\n",
      "test accuracy: 1.8003036075242562e-06\n"
     ]
    }
   ],
   "source": [
    "model = Sequential()\n",
    "model.add(Dense(64, activation='relu', input_shape=(x_train.shape[1],)))\n",
    "model.add(Dense(64, activation='relu'))\n",
    "model.add(Dense(1, activation='sigmoid'))\n",
    "\n",
    "model.compile(optimizer='rmsprop', loss='mse', metrics=['mae'])\n",
    "model.summary()\n",
    "\n",
    "checkpoint = ModelCheckpoint('model-{epoch:03d}.model',monitor='val_loss',verbose=0,save_best_only=True,mode='auto')\n",
    "history = model.fit(x_train,y_train,\n",
    "epochs = 100,\n",
    "batch_size = 1,\n",
    "verbose = 1,\n",
    "validation_data = (x_test,y_test),\n",
    "callbacks=[checkpoint])\n",
    "\n",
    "score = model.evaluate(x_test,y_test,verbose = 1)\n",
    "print(\"test loss:\",score[0])\n",
    "print(\"test accuracy:\",score[1])"
   ]
  },
  {
   "cell_type": "code",
   "execution_count": 125,
   "metadata": {},
   "outputs": [
    {
     "data": {
      "text/plain": [
       "Text(0, 0.5, 'loss')"
      ]
     },
     "execution_count": 125,
     "metadata": {},
     "output_type": "execute_result"
    },
    {
     "data": {
      "image/png": "[encoded data removed]",
      "text/plain": [
       "<Figure size 432x288 with 1 Axes>"
      ]
     },
     "metadata": {
      "needs_background": "light"
     },
     "output_type": "display_data"
    }
   ],
   "source": [
    "loss = history.history[\"loss\"]\n",
    "val_loss = history.history[\"val_loss\"]\n",
    "\n",
    "learning_count = len(loss)+1\n",
    "\n",
    "plt.plot(range(1,learning_count),loss,marker = \"+\",label = \"loss\")\n",
    "plt.plot(range(1,learning_count),val_loss,marker = \".\",label = \"val_loss\")\n",
    "plt.legend(loc = \"best\",fontsize = 10)\n",
    "plt.xlabel(\"learning_count\")\n",
    "plt.ylabel(\"loss\")"
   ]
  },
  {
   "cell_type": "code",
   "execution_count": 126,
   "metadata": {},
   "outputs": [
    {
     "data": {
      "text/plain": [
       "Text(0, 0.5, 'acc')"
      ]
     },
     "execution_count": 126,
     "metadata": {},
     "output_type": "execute_result"
    },
    {
     "data": {
      "image/png": "[encoded data removed]",
      "text/plain": [
       "<Figure size 432x288 with 1 Axes>"
      ]
     },
     "metadata": {
      "needs_background": "light"
     },
     "output_type": "display_data"
    }
   ],
   "source": [
    "loss = history.history[\"mae\"]\n",
    "val_loss = history.history[\"val_mae\"]\n",
    "\n",
    "learning_count = len(loss)+1\n",
    "\n",
    "plt.plot(range(1,learning_count),loss,marker = \"+\",label = \"acc\")\n",
    "plt.plot(range(1,learning_count),val_loss,marker = \".\",label = \"val_acc\")\n",
    "plt.legend(loc = \"best\",fontsize = 10)\n",
    "plt.xlabel(\"learning_count\")\n",
    "plt.ylabel(\"acc\")"
   ]
  }
 ],
 "metadata": {
  "kernelspec": {
   "display_name": "Python 3",
   "language": "python",
   "name": "python3"
  },
  "language_info": {
   "codemirror_mode": {
    "name": "ipython",
    "version": 3
   },
   "file_extension": ".py",
   "mimetype": "text/x-python",
   "name": "python",
   "nbconvert_exporter": "python",
   "pygments_lexer": "ipython3",
   "version": "3.8.3"
  }
 },
 "nbformat": 4,
 "nbformat_minor": 4
}
